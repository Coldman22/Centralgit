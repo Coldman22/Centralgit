{
  "cells": [
    {
      "cell_type": "markdown",
      "metadata": {
        "id": "view-in-github",
        "colab_type": "text"
      },
      "source": [
        "<a href=\"https://colab.research.google.com/github/Coldman22/Centralgit/blob/master/NumpyBasics.ipynb\" target=\"_parent\"><img src=\"https://colab.research.google.com/assets/colab-badge.svg\" alt=\"Open In Colab\"/></a>"
      ]
    },
    {
      "cell_type": "code",
      "execution_count": 1,
      "metadata": {
        "colab": {
          "base_uri": "https://localhost:8080/"
        },
        "id": "Z9rE8SAMOwgP",
        "outputId": "8ccb2c83-cac5-4c0b-b8e1-e951855e28dc"
      },
      "outputs": [
        {
          "output_type": "stream",
          "name": "stdout",
          "text": [
            "1.21.6\n",
            "blas_mkl_info:\n",
            "  NOT AVAILABLE\n",
            "blis_info:\n",
            "  NOT AVAILABLE\n",
            "openblas_info:\n",
            "    libraries = ['openblas', 'openblas']\n",
            "    library_dirs = ['/usr/local/lib']\n",
            "    language = c\n",
            "    define_macros = [('HAVE_CBLAS', None)]\n",
            "    runtime_library_dirs = ['/usr/local/lib']\n",
            "blas_opt_info:\n",
            "    libraries = ['openblas', 'openblas']\n",
            "    library_dirs = ['/usr/local/lib']\n",
            "    language = c\n",
            "    define_macros = [('HAVE_CBLAS', None)]\n",
            "    runtime_library_dirs = ['/usr/local/lib']\n",
            "lapack_mkl_info:\n",
            "  NOT AVAILABLE\n",
            "openblas_lapack_info:\n",
            "    libraries = ['openblas', 'openblas']\n",
            "    library_dirs = ['/usr/local/lib']\n",
            "    language = c\n",
            "    define_macros = [('HAVE_CBLAS', None)]\n",
            "    runtime_library_dirs = ['/usr/local/lib']\n",
            "lapack_opt_info:\n",
            "    libraries = ['openblas', 'openblas']\n",
            "    library_dirs = ['/usr/local/lib']\n",
            "    language = c\n",
            "    define_macros = [('HAVE_CBLAS', None)]\n",
            "    runtime_library_dirs = ['/usr/local/lib']\n",
            "Supported SIMD extensions in this NumPy install:\n",
            "    baseline = SSE,SSE2,SSE3\n",
            "    found = SSSE3,SSE41,POPCNT,SSE42,AVX,F16C,FMA3,AVX2\n",
            "    not found = AVX512F,AVX512CD,AVX512_KNL,AVX512_KNM,AVX512_SKX,AVX512_CLX,AVX512_CNL,AVX512_ICL\n",
            "None\n"
          ]
        }
      ],
      "source": [
        "import numpy as np\n",
        "print(np.__version__)\n",
        "print(np.show_config())"
      ]
    },
    {
      "cell_type": "code",
      "execution_count": 2,
      "metadata": {
        "colab": {
          "base_uri": "https://localhost:8080/"
        },
        "id": "v_cqsMUBPcC0",
        "outputId": "7f7c98dc-ed64-4087-8480-2e060b446558"
      },
      "outputs": [
        {
          "output_type": "stream",
          "name": "stdout",
          "text": [
            "add(x1, x2, /, out=None, *, where=True, casting='same_kind', order='K', dtype=None, subok=True[, signature, extobj])\n",
            "\n",
            "Add arguments element-wise.\n",
            "\n",
            "Parameters\n",
            "----------\n",
            "x1, x2 : array_like\n",
            "    The arrays to be added.\n",
            "    If ``x1.shape != x2.shape``, they must be broadcastable to a common\n",
            "    shape (which becomes the shape of the output).\n",
            "out : ndarray, None, or tuple of ndarray and None, optional\n",
            "    A location into which the result is stored. If provided, it must have\n",
            "    a shape that the inputs broadcast to. If not provided or None,\n",
            "    a freshly-allocated array is returned. A tuple (possible only as a\n",
            "    keyword argument) must have length equal to the number of outputs.\n",
            "where : array_like, optional\n",
            "    This condition is broadcast over the input. At locations where the\n",
            "    condition is True, the `out` array will be set to the ufunc result.\n",
            "    Elsewhere, the `out` array will retain its original value.\n",
            "    Note that if an uninitialized `out` array is created via the default\n",
            "    ``out=None``, locations within it where the condition is False will\n",
            "    remain uninitialized.\n",
            "**kwargs\n",
            "    For other keyword-only arguments, see the\n",
            "    :ref:`ufunc docs <ufuncs.kwargs>`.\n",
            "\n",
            "Returns\n",
            "-------\n",
            "add : ndarray or scalar\n",
            "    The sum of `x1` and `x2`, element-wise.\n",
            "    This is a scalar if both `x1` and `x2` are scalars.\n",
            "\n",
            "Notes\n",
            "-----\n",
            "Equivalent to `x1` + `x2` in terms of array broadcasting.\n",
            "\n",
            "Examples\n",
            "--------\n",
            ">>> np.add(1.0, 4.0)\n",
            "5.0\n",
            ">>> x1 = np.arange(9.0).reshape((3, 3))\n",
            ">>> x2 = np.arange(3.0)\n",
            ">>> np.add(x1, x2)\n",
            "array([[  0.,   2.,   4.],\n",
            "       [  3.,   5.,   7.],\n",
            "       [  6.,   8.,  10.]])\n",
            "\n",
            "The ``+`` operator can be used as a shorthand for ``np.add`` on ndarrays.\n",
            "\n",
            ">>> x1 = np.arange(9.0).reshape((3, 3))\n",
            ">>> x2 = np.arange(3.0)\n",
            ">>> x1 + x2\n",
            "array([[ 0.,  2.,  4.],\n",
            "       [ 3.,  5.,  7.],\n",
            "       [ 6.,  8., 10.]])\n",
            "None\n"
          ]
        }
      ],
      "source": [
        "import numpy as np\n",
        "print(np.info(np.add))"
      ]
    },
    {
      "cell_type": "markdown",
      "metadata": {
        "id": "rpY7GOR8Ppdg"
      },
      "source": [
        "Test whether none of the elements of a given array is zero"
      ]
    },
    {
      "cell_type": "code",
      "execution_count": 3,
      "metadata": {
        "colab": {
          "base_uri": "https://localhost:8080/"
        },
        "id": "E-V0u2kZPi5X",
        "outputId": "d53b5ca6-bbb5-4094-84f2-03b61310f39b"
      },
      "outputs": [
        {
          "output_type": "stream",
          "name": "stdout",
          "text": [
            "Original array:\n",
            "[1 2 3 4]\n",
            "Test if none of the elements of the said array is zero:\n",
            "True\n",
            "Original array:\n",
            "[0 1 2 3]\n",
            "Test if none of the elements of the said array is zero:\n",
            "False\n"
          ]
        }
      ],
      "source": [
        "import numpy as np\n",
        "x = np.array([1, 2, 3, 4])\n",
        "print(\"Original array:\")\n",
        "print(x)\n",
        "print(\"Test if none of the elements of the said array is zero:\")\n",
        "print(np.all(x))\n",
        "x = np.array([0, 1, 2, 3])\n",
        "print(\"Original array:\")\n",
        "print(x)\n",
        "print(\"Test if none of the elements of the said array is zero:\")\n",
        "print(np.all(x))"
      ]
    },
    {
      "cell_type": "markdown",
      "metadata": {
        "id": "3XfaIJswPxRt"
      },
      "source": [
        "Test whether any of the elements of a given array is non-zero"
      ]
    },
    {
      "cell_type": "code",
      "execution_count": null,
      "metadata": {
        "colab": {
          "base_uri": "https://localhost:8080/"
        },
        "id": "kkFAh71BPw5R",
        "outputId": "25576c28-eef9-47a4-df42-38b73a4f9013"
      },
      "outputs": [
        {
          "name": "stdout",
          "output_type": "stream",
          "text": [
            "Original array:\n",
            "[1 0 0 0]\n",
            "Test whether any of the elements of a given array is non-zero:\n",
            "True\n",
            "Original array:\n",
            "[0 0 0 0]\n",
            "Test whether any of the elements of a given array is non-zero:\n",
            "False\n"
          ]
        }
      ],
      "source": [
        "import numpy as np\n",
        "x = np.array([1, 0, 0, 0])\n",
        "print(\"Original array:\")\n",
        "print(x)\n",
        "print(\"Test whether any of the elements of a given array is non-zero:\")\n",
        "print(np.any(x))\n",
        "x = np.array([0, 0, 0, 0])\n",
        "print(\"Original array:\")\n",
        "print(x)\n",
        "print(\"Test whether any of the elements of a given array is non-zero:\")\n",
        "print(np.any(x))"
      ]
    },
    {
      "cell_type": "markdown",
      "metadata": {
        "id": "kMKJEsl9P4Of"
      },
      "source": [
        "Test a given array element-wise for finiteness (not infinity or not a Number)"
      ]
    },
    {
      "cell_type": "code",
      "execution_count": null,
      "metadata": {
        "colab": {
          "base_uri": "https://localhost:8080/"
        },
        "id": "_dHIEUSoP7Oz",
        "outputId": "b0bb1111-69ea-4017-8446-247b17c10910"
      },
      "outputs": [
        {
          "name": "stdout",
          "output_type": "stream",
          "text": [
            "Original array\n",
            "[ 1.  0. nan inf]\n",
            "Test a given array element-wise for finiteness :\n",
            "[ True  True False False]\n"
          ]
        }
      ],
      "source": [
        "import numpy as np\n",
        "a = np.array([1, 0, np.nan, np.inf])\n",
        "print(\"Original array\")\n",
        "print(a)\n",
        "print(\"Test a given array element-wise for finiteness :\")\n",
        "print(np.isfinite(a))"
      ]
    },
    {
      "cell_type": "markdown",
      "metadata": {
        "id": "OG8Ebsk7VWsr"
      },
      "source": [
        "Test element wise for positive or negative infinity"
      ]
    },
    {
      "cell_type": "code",
      "execution_count": null,
      "metadata": {
        "colab": {
          "base_uri": "https://localhost:8080/"
        },
        "id": "Awetfti9VUpC",
        "outputId": "5dd76019-9a48-4f45-959a-89621c598165"
      },
      "outputs": [
        {
          "name": "stdout",
          "output_type": "stream",
          "text": [
            "Original array\n",
            "[ 1.  0. nan inf]\n",
            "Test element-wise for positive or negative infinity:\n",
            "[False False False  True]\n"
          ]
        }
      ],
      "source": [
        "import numpy as np\n",
        "a = np.array([1, 0, np.nan, np.inf])\n",
        "print(\"Original array\")\n",
        "print(a)\n",
        "print(\"Test element-wise for positive or negative infinity:\")\n",
        "print(np.isinf(a))\n"
      ]
    },
    {
      "cell_type": "markdown",
      "metadata": {
        "id": "8ZeKRu3CViDW"
      },
      "source": [
        "Test element-wise for NaN of a given array"
      ]
    },
    {
      "cell_type": "code",
      "execution_count": null,
      "metadata": {
        "colab": {
          "base_uri": "https://localhost:8080/"
        },
        "id": "pdeEzd9RVnJC",
        "outputId": "f0b15e89-94e3-4e1a-9565-f563e361626d"
      },
      "outputs": [
        {
          "name": "stdout",
          "output_type": "stream",
          "text": [
            "Original array\n",
            "[ 1.  0. nan inf]\n",
            "Test element-wise for NaN:\n",
            "[False False  True False]\n"
          ]
        }
      ],
      "source": [
        "import numpy as np\n",
        "a = np.array([1, 0, np.nan, np.inf])\n",
        "print(\"Original array\")\n",
        "print(a)\n",
        "print(\"Test element-wise for NaN:\")\n",
        "print(np.isnan(a))"
      ]
    },
    {
      "cell_type": "markdown",
      "metadata": {
        "id": "GkmYKTdwWIYS"
      },
      "source": [
        "Test element-wise for complex number, real number of a given array. Also test whether a given number is a scalar type or not"
      ]
    },
    {
      "cell_type": "code",
      "execution_count": null,
      "metadata": {
        "colab": {
          "base_uri": "https://localhost:8080/"
        },
        "id": "QmkP1oksWNCe",
        "outputId": "20ee4ebc-d152-4a64-d81b-8aae229b1847"
      },
      "outputs": [
        {
          "name": "stdout",
          "output_type": "stream",
          "text": [
            "Original array\n",
            "[1. +1.j 1. +0.j 4.5+0.j 3. +0.j 2. +0.j 0. +2.j]\n",
            "Checking for complex number:\n",
            "[ True False False False False  True]\n",
            "Checking for real number:\n",
            "[False  True  True  True  True False]\n",
            "Checking for scalar type:\n",
            "True\n",
            "False\n"
          ]
        }
      ],
      "source": [
        "import numpy as np\n",
        "a = np.array([1+1j, 1+0j, 4.5, 3, 2, 2j])\n",
        "print(\"Original array\")\n",
        "print(a)\n",
        "print(\"Checking for complex number:\")\n",
        "print(np.iscomplex(a))\n",
        "print(\"Checking for real number:\")\n",
        "print(np.isreal(a))\n",
        "print(\"Checking for scalar type:\")\n",
        "print(np.isscalar(3.1))\n",
        "print(np.isscalar([3.1]))"
      ]
    },
    {
      "cell_type": "markdown",
      "metadata": {
        "id": "i1lrWyUUWSMb"
      },
      "source": [
        "Test whether two arrays are element-wise equal within a tolerance"
      ]
    },
    {
      "cell_type": "code",
      "execution_count": null,
      "metadata": {
        "colab": {
          "base_uri": "https://localhost:8080/"
        },
        "id": "P0LTY1pkWZQL",
        "outputId": "e629dea5-5b18-4956-c5dc-844612f247f7"
      },
      "outputs": [
        {
          "name": "stdout",
          "output_type": "stream",
          "text": [
            "Test if two arrays are element-wise equal within a tolerance:\n",
            "False\n",
            "True\n",
            "False\n",
            "False\n",
            "True\n"
          ]
        }
      ],
      "source": [
        "import numpy as np\n",
        "print(\"Test if two arrays are element-wise equal within a tolerance:\")\n",
        "print(np.allclose([1e10,1e-7], [1.00001e10,1e-8]))\n",
        "print(np.allclose([1e10,1e-8], [1.00001e10,1e-9]))\n",
        "print(np.allclose([1e10,1e-8], [1.0001e10,1e-9]))\n",
        "print(np.allclose([1.0, np.nan], [1.0, np.nan]))\n",
        "print(np.allclose([1.0, np.nan], [1.0, np.nan], equal_nan=True))"
      ]
    },
    {
      "cell_type": "markdown",
      "metadata": {
        "id": "Ip7I6KrBWucY"
      },
      "source": [
        "## Numpy : Linear Algebra."
      ]
    },
    {
      "cell_type": "markdown",
      "metadata": {
        "id": "_LpO-OrhXUI-"
      },
      "source": [
        "Compute the multiplication of two given matrixes\n",
        "![image.png](data:image/png;base64,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)"
      ]
    },
    {
      "cell_type": "code",
      "execution_count": null,
      "metadata": {
        "colab": {
          "base_uri": "https://localhost:8080/"
        },
        "id": "YxXggQ67XOab",
        "outputId": "2e2e5a79-67fb-42f7-c1cb-298743995222"
      },
      "outputs": [
        {
          "name": "stdout",
          "output_type": "stream",
          "text": [
            "original matrix:\n",
            "[[1, 0], [0, 1]]\n",
            "[[1, 2], [3, 4]]\n",
            "Result of the said matrix multiplication:\n",
            "[[1 2]\n",
            " [3 4]]\n"
          ]
        }
      ],
      "source": [
        "import numpy as np\n",
        "p = [[1, 0], [0, 1]]\n",
        "q = [[1, 2], [3, 4]]\n",
        "print(\"original matrix:\")\n",
        "print(p)\n",
        "print(q)\n",
        "result1 = np.dot(p, q)\n",
        "print(\"Result of the said matrix multiplication:\")\n",
        "print(result1)"
      ]
    },
    {
      "cell_type": "markdown",
      "metadata": {
        "id": "gVsV1umVXkls"
      },
      "source": [
        "Compute the outer product of two given vectors\n",
        "![image.png](data:image/png;base64,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)"
      ]
    },
    {
      "cell_type": "code",
      "execution_count": null,
      "metadata": {
        "colab": {
          "base_uri": "https://localhost:8080/"
        },
        "id": "Yp7I3PXNXnct",
        "outputId": "562c5cc7-eea3-45cf-e704-fece2fa25a9e"
      },
      "outputs": [
        {
          "name": "stdout",
          "output_type": "stream",
          "text": [
            "original matrix:\n",
            "[[1, 0], [0, 1]]\n",
            "[[1, 2], [3, 4]]\n",
            "Outer product of the said two vectors:\n",
            "[[1 2 3 4]\n",
            " [0 0 0 0]\n",
            " [0 0 0 0]\n",
            " [1 2 3 4]]\n"
          ]
        }
      ],
      "source": [
        "import numpy as np\n",
        "p = [[1, 0], [0, 1]]\n",
        "q = [[1, 2], [3, 4]]\n",
        "print(\"original matrix:\")\n",
        "print(p)\n",
        "print(q)\n",
        "result = np.outer(p, q)\n",
        "print(\"Outer product of the said two vectors:\")\n",
        "print(result)"
      ]
    },
    {
      "cell_type": "markdown",
      "metadata": {
        "id": "Td1uqTUdXsF9"
      },
      "source": [
        "Compute the cross product of two given vectors\n",
        "![image.png](data:image/png;base64,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)"
      ]
    },
    {
      "cell_type": "code",
      "execution_count": null,
      "metadata": {
        "colab": {
          "base_uri": "https://localhost:8080/"
        },
        "id": "M6V1x-2aX5Lp",
        "outputId": "46fbe2e2-ff71-4e38-9759-c1dd4085ec7e"
      },
      "outputs": [
        {
          "name": "stdout",
          "output_type": "stream",
          "text": [
            "original matrix:\n",
            "[[1, 0], [0, 1]]\n",
            "[[1, 2], [3, 4]]\n",
            "cross product of the said two vectors(p, q):\n",
            "[ 2 -3]\n",
            "cross product of the said two vectors(q, p):\n",
            "[-2  3]\n"
          ]
        }
      ],
      "source": [
        "import numpy as np\n",
        "p = [[1, 0], [0, 1]]\n",
        "q = [[1, 2], [3, 4]]\n",
        "print(\"original matrix:\")\n",
        "print(p)\n",
        "print(q)\n",
        "result1 = np.cross(p, q)\n",
        "result2 = np.cross(q, p)\n",
        "print(\"cross product of the said two vectors(p, q):\")\n",
        "print(result1)\n",
        "print(\"cross product of the said two vectors(q, p):\")\n",
        "print(result2)"
      ]
    },
    {
      "cell_type": "markdown",
      "metadata": {
        "id": "P7SKZwG5YSgl"
      },
      "source": [
        "Compute the determinant of a given square array\n",
        "![image.png](data:image/png;base64,iVBORw0KGgoAAAANSUhEUgAAA0UAAAC3CAIAAABSV2JtAAAgAElEQVR4nOzdZ1wTWdcA8BuIIEpEULBhA1RARaoiSFnrYy9gXwUL7loWO5ZXRMGKupa1NxDs0lRUVHoQqdKLKB2kiYBBQQiZ98NojAFiyExCouf/wZ+ZTM6cTNrhzi0UDMMQAAAAAACQWFLtnQAAAAAAACAE6jkAAAAAAMkG9RwAAAAAgGSDeg4AAAAAQLJBPQcAAAAAINmgngMAAAAAkGy/aT139erV9k4B2dvbt3cKAAAAAPgV/I71HIZheXl5IjgKj7n9MAxLTEwUdg4AAAAA+B38jvWcCMTExGhoaEhJSZ05c6a9cwEAAADALw7qOaEYOXKkm5sbQmj06NHtnQsAAAAAfnFQzwnLy5cvaTSarq5ueycCAAAAgF8c1HPCEh4ePnHiRCkpOMMAAAAAEC6oNn7w77//mpqajh07NiEh4c6dOwLHwTCMTqdTKJRly5YNGzbs9OnTJCYJAAAAAMCJ2t4JiJF169bV19eHhIQ0NDT07t17woQJ8+fPFyxUTEwMg8Ho3bv3iRMn8vLy1NTUzMzMRowYQW7CAAAAAADo96znKBRK84337t27evVqeXm5jIwMlUpFCFlYWAh8iJCQEEVFxRMnTlAoFCUlJYRQXFwcZz1HoVBaTAMAAAAAoK1+x+utLU4Lt3v37ilTpsjLyyOEYmNjGQzGuHHjBD4EnU4fM2YMXrElJCQghHr27MmVA4/Z6QAAAAAA+Pc71nPNffr0KTMz09jYGL8ZFBSkqKiora1dWVkpWMDU1NRRo0bh/3/+/LmcnBz7JgAAAAAAudqhnhNgbQZhL+cgKyuLEFJXV0cIsVgsX1/f0aNHl5WVbdu2TbCANBqtb9++CKGmpqbbt2+7uLh0796dxIQBAAAAANjaoZ67evUq70uNwcHBhw4datNDCKJSqXPmzElLS8MwbMeOHbW1td26dTtx4sTatWsFCzh16tTQ0FCE0LZt2/7666/NmzeTmq/gCgsLQ0JCQkJCPn/+TCTOp0+fQkJCgoOD8/PzycoNAAAAAIIRu+utX758WbZsWVhYmIiP6+7uTqVS9+zZM3HixJcvX2ppaWlpaenp6QkW7cCBA/r6+idPnty6dauDgwO5qRKRkJCwZs2aiRMndujQgUicgoKCS5cujRs3Ljg4mKzcAAAAACAYsRvfun///nfv3on+6iSNRtu+fTv75o4dO4hEk5aWXrduHeGkyDdjxoynT58qKSkRrOe0tLSWLl1669YtMzMzsnIDAAAAgGDEq30uPz8/Pj7ezMysvLwchn8KSWBgoKWlJfE4dDpdVVVVQ0ODeCgAAAAAECFe9dz27dsPHz6soqJSWloqvKNQKJTExEThxeczh6KiItLDMpnMlJSUFkvhT58+vX37tqysLCsra8yYMcSPFRoaOmnSpMrKyoyMDK67qqqqYmNjmUwm8aMAAAAA4KfE6HprRERE3759hw0bpqyszGQyq6urFRUVf/oo3s14rc3Zq6urK2CW5FFVVW3tLsGe1PXr148cOWJiYtLQ0IAQcnR0HDBgAEKovr5+06ZN6enpvXv3zs7ORggRr+fq6+tjYmKYTOaBAwfS09M7duzo4+NDoVCampo2bdr06NGjWbNmbdiwwcXFZezYsQSPBQAAAADexKWewzBs7969fn5+CKFu3bohhEpLS39az0VEROzatYsrDudNa2vrf/75h+xkhWv79u1RUVGcW7ielIeHR//+/bke5enpefTo0ejo6I4dOx4+fHj79u3Hjh3D75oyZYq6ujo+3tbAwEBfX59GoxFMMjw8nMlkbtmyZe7cuQwGo0uXLk+ePJkyZYqNjc3r169TU1NrampUVVWfP38O9RwAAAAgbOJSz509e3bo0KExMTEIoQ8fPiCESktLtbS0eD9qzJgxeJnyK+Gaq4UfJSUla9euPXv2bMeOHRFCeXl5+vr6Xbt2RQjdunUrJCTk2rVr+J5fvnyZOHFi8whZWVnFxcWtxTc0NOQqAcPCwgYOHGhtbY0Qqq+vRwgVFhbevHnzxo0bUVFRHTt2pFKpV65cWbBgQVufCwAAAADaSizquaqqqlOnTvXq1Qvv1oavylBeXt7eeUkMDw8PBoMxc+ZM/GZoaOiUKVPw/1+6dMnQ0BCf3PjDhw9paWkuLi7NI3z58oVH/Pr6eq56jk6njx49Gr/yGxkZiRAaPHjwiRMnNDQ08JUwqFTq0qVLSXhuAAAAAPgZsajn9uzZ4+npOXLkSPxmcHDwuHHj+BkSERMTw3t2t8WLF9vZ2ZGTpajs3r07PDycxw63b9/mWg02LS1NU1MTX3y2tLQ0MzNz//79iYmJgwYNys7Onjx5Mr5bQEAAQsjc3DwiIoKrC93w4cPblGR+fv6sWbPw/z958qRXr16jRo3KysoyMDBoUxwAAAAAENf+9Zyfn19+fj67mEMIqaioIIT4qedGjhwZEhLCY4fWhg6IM2dn57aOh+jXr19ubi6+/ezZswghc3NzOzu7mzdvqqqqKisrI4RYLNa1a9eGDh1Ko9FOnz5NcEiEiooK3ruxqqrK19fXzc2tU6dOurq6+EVenI+PD4PBsLGx2bBhA4VCOX78OJEjAgAAAKA17TlfSU5OzowZM2bPnp2QkPDs2TN847179/AWNX9/fycnp6amJt5BKDy19qjMzEwSn4hgeMxX0tYntWrVqoKCAn9//7Nnz1ZUVNBotCtXrhgaGsrJyW3YsOHZs2cBAQE2Njb9+/evqanZvHkz8TEiGzZscHNzCwkJ2bVrl6+vL355d9++fXFxcUeOHLlw4cLUqVMDAgLmzp2LEHrw4MGVK1cIHhEAAAAAraGIftre3bt37927l0KhVFZWVlZW9urVKyUlZfDgwfiaEK9fv5aWllZVVc3IyGAymUZGRpwPISUBDMOcnJycnZ1JiSZwDmPGjHnx4gVZAYuKit68edOlSxcDA4OioqLs7OzRo0fLyMgghNLT08vKyvr376+mppaSktLQ0EDKVdG0tLSmpqbhw4dzvi4sFis9Pb28vFxNTQ2fLQUhVF1djRDibLoDAAAAAIna83prt27d8KlJTExM2BuHDBmC/0fgtVPFzY0bNy5evJiXl3f37l18rABOWlqaxKOoqqqyJ7Tj/D9CSFtbW1tbG/9/W/vJ8TB06NDmG6WkpIYNG8a1ESo5AAAAQKjEa32IX9LixYvnz5//7t27ESNGtHcuAAAAAPgFQT0nCjExMaNHj8YnhwMAAAAAIFc71HPLly9va084AR4iVl68eGFmZtbeWQAAAADg19QO/efY3eSF+hCBeXp6Pn36FMMwW1vbCRMmCBwnJCTk7t27CgoKJiYmb9++NTU1JTFJAAAAAAC29p9/Tqxs3rw5NTXV398/Njb2f//7X1paGr6yQls9f/58/vz5AQEBRkZGOjo6CCGC870BAAAAALTmd6znWrt0e+bMmXPnzr1586ZDhw6pqakTJ07Eh9+21cePH//888/du3fjkySbmJjIyMh06dKFKweJvoIMAAAAAPHxO46HaHHKvYaGhq1bty5evLhPnz4IoVWrVnl5eXXq1EmA+Pv37y8vL7exscGPFR4ebm5u3jwH0c/8BwAAAIBf0u9Yz7UoJSWlrq6OSIc5tpcvX+ro6ODLYZWVlWVmZsJgCAAAAAAID9RzX+ELi7FnM0YIJScn19fXCxBKTk6OPdfu8+fPEUIWFhbLly8nI00AAAAAAG5Qz31lZGSkqakZEBCAEPr06dO5c+f++ecfFoslQKipU6fm5uYymcyCgoKjR4/26tWLyWR26NCB7JQBAAAAABD6PcdDtIhCobx48eL48eMbNmyora01MjIKCgqiUgU5P/b29nJychs3btTU1KTT6fb29lu2bDl06BDpOQMAAAAAIKjnOCkpKbm4uJASys7Ojv1/d3d3UmICAAAAALQIrrcCAAAAAEi237Geo1AoolxworUcdHV12zcHAAAAAPwaKDALGgAAAACARPsd2+cAAAAAAH4lUM8BAAAAAEg2qOcAAAAAACQb1HMAAAAAAJIN6jkAAAAAAMkG9RwAAAAAgGSDeg4AAAAAQLJBPQcAAAAAINmgngMAAAAAkGxQzwEAAAAASDao5wAAAAAAJBvUcwAAAAAAkg3qOQAAAAAAyQb1HAAAAACAZOOrnktwUf9umXcF53aXBP4O9H3ftjwKoQrvZZyH5P9B6urqbTlO23w/I4SOwM6z7U/xZxJcWonZttPP+Sg+svwevMJ7mWDn5ucveKtPTXACvct+Eq+FZ0/2YQAAAAAc9ad7JLioWyOv7Gw99k1j9XSvbEc9hPQcs7P5PVBb9iWqItw/3BZPURgSXNStc1yjsq2UUYX3MuNl3lFuVsptD1PhvczYQc0r200PP6suakLLmJMgL0SF9yl3c3Pz8PD0IsTzqYryVSaTspVbttUvcxgAAAC/nZ+2zyX4uyPbad/rDD1HL1vk7v9jSxveHMFutHJJ4Gh5+tpM0WKz0Pe9OBp/ElzUXby91/3YHsT18ArvZa21cyS4qBs7hCN3628P/96W9kM4F2/84M3i/NAa2UIjS4K/O7K1x8saZfNp5uH+4c0zqfB2+R63xdaainD/cHPXv/EzqzeNfVK5UlnmnfDtJC3zrvie3I+nhivfBBd1a3cU7mCs7pLA/WS/nskK72UcQSq8l7Xealfh7eAQbmvvOs0c5eTwblz6Hvzra7DMu+KHl5nHq/Z1h/PpLW5v+am1uAviesqZP393shvOKryXsR/JlW6L74sEF/Vl3t4/ttZyPfsfziS7fa6VrIXWogwAAODXhv1EuZetmpqtV3lL971yVlNzfvVtJ/y/X//PcQN/MHtf9v/KvWy/bfrhMK+c1b5vZ0f4/ngMw8q9NraSEvsxX/d95fw9e47//3gMrqfEDt3qXj8cqeVMvgd65dza+ftx7xYO9MpZ7ceUOW84v+KVL8dRf3wazV8IHs/ih2fSSpItP4/vrwHnw1oOwfEk8HcP97P8MUfOE9r6LlzvLd7vTvb/OPflfsO0dJ45XyGONzTHO5DTt8NwnnDeJx8AAADgx0/b55St3Lxswx2MeTRY4b61NSmbTzP/4UZ4elFrkbPZVxiVzaeZc9zH2SKI42zBqgj3r5pmzsclzgrvU+7mrq5fLxHqOXrZhjuc//YEmh8D4RcM2VdP9abZth47wUVdXd3YAbHDcweKckUOxurq6tbIi8f1WLypyNrd1quVi63fmgL1ptn+eCMnp4L/fFt6snp/u5q7W7t4ezu0+ix+OIWq2j9voPsJPcfs5heVf2jwtHJ1Nf9+5O9nRdnK1RV9f/H42OWHp9yWd+cPraZf7+d1njkba9t+gpSt3LIFul4PAAAAsPEzHkLPMTs7Ozs7O8rVHCF3a15F3Tdqanz/QH298GTsEP6TLP52Nf9a0BWlI77KOVSUHv5DKqra5jz2/u7b9Thrdx754GfFPt24ldOhbOXmZYvMXaN49opTtnLLzs7OjtI+xUdPeXNtVYHzbfHYrq7m7ryrOQeHcHa9oqaGWivOecDLxtb/GKjIyeF8Yspqavh/itLxq+bftPAO4WOXlrTh3cmVqmDnuRllK/tvfyPB8AgAAAAkaMt8Jd9KD1dz91Nk/ArhlZx1jmvUt2KR9+HNp+EHTvDM4a+cEwD+i23soOaVnZ2d7cWjfe6rVnq+4aHwnl78dIlqtSMe2fm2pNUiLeG8Qzj6XjFZuyNBGui+vm+8bPFIbalgbL2yf9BCaczHLiQg5TxzwP8aiHI1x8s66DUHAACAkJ/Vcy100RawmaZ5aH93c9eobP4vNn2tebyv8HexFTW/QliU/pP2m68jY3lVBXzOOZHgYuyAXKOys7O9kHVL+5PS+Z2PfHk92tvBAbl6uZq7W7eUCX6pNYqjVvKyJfDK6zl+rWC4ylau91NFTg7+Hz4u75JwBZg/xM5zq/BK16u1vwgAAAAAPv2snsMvlnHWI/iv/N+k/K6xf8YTXPi5VKZsPs083MHhE9+tc/h1LQf2wFlrfjL/ViDg7Wstx/xekiT4txgzwR95fa1U9Ryjpvk3b6TjuH6MvhYM9gJ1o/pJvq2q+NpvTs/KtaWK7odLrV8JVD9xFq4V4f7h5twvn97f31t8K7wdvr0RfnzxWqyj+diFPIKe5xb8kCj3CHIAAACgzfgZD5HtpfZ9PIS6cbo9Of239Ry9bL9dyjulHeVli356wVHZyt4Wfa8H+Gji0nP8nr11juvPZorDu9Qbf3uiUa7mLTSd4AWaOjvzlmLqOXK05ChbubXQsKNs5eaFrDnOqgBtP63nqzfNNtzBuPXyJsHFmF2uKTev6Cq8HRzCmxWq35vSflo6KZtPM3e3Vld3SeB8nY0d1FoYHKJs5fbtRTJOn+Y6+dv272NK1NXVjf2nfT3TnE+tlV3Ixtf7osVn/9Nw6tY537pYwnwlAAAABETBMKy9c2iLBBd1/2nfK58EFxfkKIpZeAG3Cm+XcHNHGJgJAAAAtD8JW781wd+d49JUhfcpBBeq2kfCeX9tYQ1KAQAAAECbSE77HD7rvhCX8QIAAAAAkEiSU88BAAAAAICWSNj1VgAAAAAAwAXqOQAAAAAAyQb1HAAAAACAZIN6DgAAAABAskE9BwAAAAAg2aCeAwAAAACQbFDPAQAAAABINqjnAAAAAAAkG9RzAAAAAACSDeo5AAAAAADJBvUcAAAAAIBkg3pOQKGhoe2dglCI/nnl5eX9qifzp/z8/ERzIHd3d9EcSNyEhITk5eWJ5lgiezXFzW/7+QVArEA9JwgMw4KDg9s7C/K1y/PKyckJCQkR8UHFAYZh//77r2iOdfXqVQzDRHMssRIaGpqTkyOCA4ny1RQrv+qXIQASh9reCYBWJSUl2dvbI4SWLFmycuXK9k5HpGbNmlVdXc1jh7Nnz2prawsQeerUqZ8+feKxw+XLlzU0NNoalsViTZ48+cuXLzz2uX79uqqqalsjC8mTJ08OHz7MYwcdHZ1Tp04JENnf3//o0aM8dtDX1xes9Ll3796ZM2d47GBiYnLgwAEBIgvJhg0bEhMTeeywdevWqVOnChB53bp1qampPHbYuXPnxIkTBYhsZ2f35s0bHjvs3bvXwsJCgMgAAKGCek58qampzZ8/f+3atWvXrm3vXEQKwzAZGRkejXbnzp0rKioSoJ7DMKxTp07+/v6t7XDy5MmioiIB6jkmk9m9e/fr16+3tsPBgwffvXsnPvVcdnb27t27//jjjxbvxTDM2tpasMhZWVn79u0zNTVtLbKVlZVgkV+/fv3vv//q6em1FlngnIXk3bt3wcHBFAqlxXvDw8Pj4+MFq+fKysp4RA4MDHz9+rUA9RyGYTU1NTw+eg8ePMjOzoZ6DgAxBPWc+KLRaP3790cIWVpatncuooZhWGu/VeIZGb+aKaSchQE/D0I6FRIXWUh4J0zkiQg7cmv3StDJB+B3A/3nxFpYWJimpqaKikp7JyJqwuvsJaTIEtc7TXgJs1gsIUWGkyzRkQEAQgXtcyRraGgIDAx89+7dn3/+WVlZ2adPHyLRQkJCjI2NHz16lJ2dPW/evJ49exLPMDQ0NC4uTl5efuLEiWpqasQDAsAJCgIAABA9aJ8jU2Ji4vTp0zt06KCmpjZ8+HAtLS0iv221tbVxcXFRUVFSUlLjxo3T1tauqqoikh6TyVy2bNmdO3cWLVqUnZ0tWMcd0ZC45geJK2KgfU4EJO5tLNTIAAChgvY5QbTYiaSsrMzExOTGjRsTJkxACA0YMKBv375EupvgswD4+vpqamoihDp06ODh4bF+/XqBA9rb22dlZb148QIhFBAQ0KNHj+b7iL5/TItHlLifK4n7FRRewlJSwvorEU6yGEaGHnUAiAmo5wTR4lfe1q1bqVQq3uiFYVh0dPTGjRuJHCUsLExdXR0v5urq6j58+PD+/XuBo9Hp9HPnznl5eeE3U1JSWtxN9D+ZEvcjDQBgg88vAGICrreSA8OwiIiI8ePHy8jIIISysrIYDMaYMWOIxAwPDx89ejT+/xcvXjCZzBEjRggc7cmTJwihyZMnE0kJAAAAAGII6jnSlJaW6ujo4P8PDAykUqljxozhPbEqb3V1deypth48eNCvXz8iPd5KSko0NDQ6derE3sJgMASOBgAAAADxAfUcOSgUioGBgbS0NELo06dPrq6u2traX758iY2NFTjmiBEjmpqaEEKFhYV37ty5ffu2nJycwNFMTU0rKyvr6urwmx4eHosWLRI4GgAAtCMnJ6f2TuGr48ePi+ZAbm5uojkQb25ubrm5uSI7lmgOxJuYpPFT0H+ONNevX9+zZ8+xY8dkZWU9PDyWL19ubW19+vRpgQM6OjouXLiwsbExJSUlICCgtWnx+bRy5crq6ur58+f37ds3MjJywoQJd+7cIRJQeCgUSmxsLNcsypzddN69e3flyhXBIkdHR/OIXFxczGONBx6kpKQCAwN5RC4sLJw+fboAkYWka9eumzZtUlBQYG+RkpLq3Lmz/De9evUSOLK9vT2NRmstssCLZHTt2nXVqlWdO3fmjMwO27lz54EDBwoWWUjev3/PtQIH51uiurr6r7/+EixyaWkp78j//POPAGEpFEp+fj6Pt3FlZeXOnTsFiEwuDMNCQkL27t0r4uMWFRX17NmTSv3+u4lhmK+vL8Gu0nzKzc3lZzp0EqdMb2xsLCsr4/rA5ubmDhgwQASfNQzDRFY48sbnmW93UM+Rpn///m5ubuxXPTs7m2BATU3NhIQEEt9GW7Zs2bx5M5KEIWmFhYWcvyIUCoWr27XAT+Hdu3fCiNyxY8eysjIh5SwMtra2NjY2nFu4EhY421WrVtnZ2Qkj8oYNG7jGd5MVWUjCw8N5DxcQOOGXL18KKXJ8fLwEvY1Faf369cXFxWlpabGxsfLy8u2dTgvCw8OXLFlSUFBw9erVZcuWEYwWFhZ29uzZ2NhYFxeXxYsXk5Ih6VauXJmRkVFWVvbmzZvf9p3JBtdbSUb6W4rcgBK0XBKFA9dNgk9BEiMLQ/P0hHEeJCWykFB4Ev/IzQ9EJLLkSk1NvXfvnqam5tu3b2tra9s7nZaZm5vjVwYJDsXDbdmyZfz48bm5ua9fvyYeTUguX74sKys7aNCg3/adyQnqOQHl5OS0dwpCIfr27dra2pKSEhEfVEzU1NSI5kAVFRWiOZC4KSkpEdmvr8heTXFD/FqE+Dt37tzw4cMdHR2TkpJIWadHSKKiohQVFTU0NAjGiYiIiIuL+9///pecnLxr1y5SchOGpqamuLg49kQQvzmo5wTUtWvXX2/iJRaL1bVrVxEfFMMwWVlZER9UHGAYhs9uIwLy8vK/3tuVH7Kyspz97YRHlK+muFFUVPzl312+vr76+vqysrLa2trtnQsvL168MDMzI95YFRERQaPR+vbtO3z4cHF+YyclJTEYDFNT0/ZORCxA/zkBib7uEQ3RPy95eflf9WT+FJEBy+J5IHEjyrcWnGQxkZeXd+XKlcTExPnz5//5558Eo505c6a8vLykpCQjI2PPnj2LFy8eNGgQKXmSJTo62sPDQ15e3sLCgk6nOzo6EokWFxf38OHDx48fy8vLOzk5DRo0iPg5JF1kZOTVq1e7du3auXNnKpXKNYKnrZqamu7fv3/nzh0lJaWtW7dK7rLmUM8BAAD4FbBYLFdX1zt37hw7dmzjxo1r167t3r37//73PyIxDQ0NIyIiEEJWVlaqqqoqKiokJUuOly9fLliw4OnTp5qamrNmzWIwGBYWFkQC9urVy9LS0tPT09jY2NLSsm/fvmSlSgoMwzZv3pyYmHj69OmUlJQFCxZMnDgRnylMMJmZmStWrLC0tDx58mRBQcHixYtfvnxJYsKiBPUcAAAASdLa9cQTJ044OjqmpaUNHjyYyWRWV1cPHz6c4LFGjRoVExMjJye3aNGi5nWDKLvhN7+o3dDQsGDBglWrVuHLQhobGz979szQ0JDIUfr06dOzZ8/CwsJt27ZxzYnTWhrC0/z0Xr58+fz588XFxYqKilpaWnZ2dubm5gLHb2xstLCwGDt27P79+xFC+fn5gwcPJpRxu4J6DgAAgCRpraS4du1ahw4dVq5cKSMjo6Sk5OTk1KdPH+KHS05OHjFiRIuNQO1b3Li5uRUUFCxZsgS/SafTLSwspKSIdotPS0tjMpn6+vp8piE8XKcXw7B9+/bNmjVLUVERIZSamkqwPTIgIKC8vDwxMdHc3JxGoxkYGBCZMrbdQT0HAABA4rFYrOTk5K1bt7q6upIb+dWrVyYmJuTGJMWjR4/69euHXxJtbGwMCQkh2HkOFx8fT6VSiSwXLiTJyckFBQXs8bZhYWFUKtXY2FjggPHx8QihmJgYeXn5X2DGExjfCgAAQOJJSUlRqVTOBrlPnz69e/eOYFi8TDQwMCAYRxikpaW1tbXxQiQqKqqurs7CwmL37t1FRUVEwiYlJeno6IjhsFa8iZQ9xDg8PNzMzKyxsVHgddI7d+5Mo9FoNBq7mMvKyiIl1XYhefVcSEhIQkICjx0wDKPT6Uwmk3PL0qVLhZ8aAO3pl58zAgDerKysIiIiWCwWQqi4uHjJkiXl5eUEYyYmJjKZTCMjIzIS/Lk2fYotLCw+f/6MEKqsrNywYQNCaOjQoZmZmQIvqYeLjY0Vz/p1yJAhKioq+Crk165d8/X11dPT8/b2Fviq+rRp0+rq6hITExFCGIZduHDh2LFjZGYsWpJ3vRXDsKqqKh47eHh42Nra5ufn9+vXj70xLy9P+KlxwzAsLy9PWVlZDBeH+fz5882bN6dPn96jR4/2zqUFP/1Sk6C28cLCQnl5ebzDh5A8fPjw6NGj7969c3Z2XrhwIZFQGIbV1NTU1tYK/JPw/v37lJQUHjv07NlTS0tLsOAtKiwsDAwMXLRokaRMZMhisbKzs/v27duxY8f2zoWbRH/03Ll90H0AACAASURBVN3d7ezshg4dOmDAAF1d3UuXLnXr1o1gzFevXtFoNHzAgVAFBga6uLiUl5dv2rSJa8W81qxevTojI2PLli3FxcV3797977//Vq1atXXrViJpsFislJQUPhMQsQ4dOty9e3ffvn0HDhwYN26cn5/fkiVLmEymwO1zWlpaT58+tbGxkZeX79+///z58y9cuEBuzqIkefUcb42NjTt27EAIlZWVcdZzonf58uVDhw5lZ2fjbdftmElzHz58MDQ0nDJlyu7du4uLi8XtCxrDMGNjYx6zDMTFxe3cuVMi5pBcv359hw4dzp49m5ubK7zSefr06e/fv1++fPmoUaOIxElNTbWzs4uKijpw4AD+ORKAp6dnSkoKj2kOXrx4ERgYKGiO3B4/frx3714lJaWwsDB3d3eywgrP4cOHT58+XVRUVF5eLob13P/+9z8eHZKysrJmzpy5YMECUabEv44dO3p6epIVrbi4WEFBIT4+fvz48URmxODT+PHjq6qq5s2b19pAhOZkZWU5648TJ04QSaCxsTE/P7+xsZHBYIwbN45IKOGxsLDgHADx4cMHggHHjh2blJREMIiY+NXquePHj/fp06ekpKTdFzhauXJlcXHxsWPHiA+YJ92JEydGjBjR2NjYt29fcSvmcP3799+7d29r9549e/bTp0+izEcwMTExt2/f3r17N41GE/bF0JycHHV1dYIzYQ4bNuy///4zMjIisv4ji8VasWJFa9U2hmFz5swROHhzTk5Oy5cvP3LkCJErYsuWLcMXvhSBbdu2ffjw4d69e8rKyqI5Iv8wDFNQUODx0Xvw4MH79+9FmVJ7qa6uHjBgwIoVK8LCwk6dOiWag2ZnZ6uoqLTXtc7Vq1dfuXLl+PHjM2bMID7tnCg/UwAnef3neMC/Jf/v//4PIUS82wRxkZGRpqamYlgwXbhwYejQoRcuXIiOjm7vXFr2a3QFO3ny5MiRI9euXVtWVibsNR+Dg4PNzMyIx6HT6QSHjInytUtOTo6Lixs2bFhOTo6zs7PAcRgMhijTDg0NFc/xkkhyPnpv374VanxZWdkhQ4aUlJRoampOmDBBNJmEhITwmE0N7+YlPJqamvr6+kFBQVeuXOGxW2JiYllZGe9QGIYxGAziKQn7KfNJTNL4qV+qntu1a9epU6fwH872recwDGMymXQ6nUg7h5DgF3oIzjnZJr6+vgsWLNizZ098fDzvsSxskvKjwltERIRoulHX1dXFxMSoqamtWbNm6dKlRL59wsPDR44c2aFDB4EjiPK1i4uLQwgRb8/gM2cmk7l///6ZM2euW7eOdx9BHqqrq2NiYkgpvoVBTD56cXFx9vb2K1euTE9Pf/jwIde9FAqF+JLzvMnJySUlJW3dutXLy4vHbiRmwmQyg4ODNTQ01q9fv2DBgpiYGK4d9PT0SDlQa7Zs2eLj4+Pr69u9e3ceu+np6f206wiFQuHzjVRfX79nz54ZM2Zs3Ljx9evXzY/FTxBhE5M0furXud6anp6OEBo9evSbN28QQj/9AwLn4+PD+9r59OnT21T63Llz5+rVq9XV1aNGjaqrq5s4cSL/j22OyWSeP3/ey8uLxWKZmJgcPHiQSGsfhmHjxo3D/2xycXE5ceIE/xd9bty4wXsg97x584YOHcq1sba2dv78+QoKCocPHw4JCTE0NNyxYwc/nw3R/Ki8fv36yJEjWVlZcnJyjo6OJBbfy5Yty83NLSgouHXrVnBw8KFDh4i0eP1UeHg4k8mMioq6c+fOo0ePzM3N3717x/8onPT09AMHDuTm5hoYGAQFBW3atIlIMvjoQmGLjo52cHAoLCykUqmTJ08eOHAgkc5z/Lzfqqurp06dOmDAgJMnTwYFBVlYWLSp7861a9euXbv25csXfFqvKVOmCJwtl9LS0qNHj758+VJaWnrNmjUEO7eR+NF7+fJlQEAAjx2MjIymTZvWfLuLi4ufn9+5c+dkZGTGjBmjrq4+ffp0srLin7S0tCj/II+OjmYymdHR0b6+vnQ63dLSEl8FQWQJIIT69+9PShwMw/h5I5WXl0+aNMnQ0PDs2bP37t2bPHlyTk4OKQn8nn6dem7Hjh34Fzo+oInP/nODBw/m+sBwvQvbtFrf9u3b6XT6gwcPlJSUtLW15eTkiLQcvH37duHChRYWFoGBgVQqdebMmenp6c1rJv5RKJTg4OBjx46lpaXFxsa2aRpxbW3t3r17c27hOlFKSkrNH7Vly5aMjIy3b99KSUnhpe3o0aMFyp18//333/Hjx+/evWtoaJibm7tmzZonT56QFdzNze3Zs2dhYWH+/v7q6upkhW1NcHCwqqqqr6+vjIyMpaUlg8F49uwZn93UAgMDly5d+uDBA0NDwy1btjAYjBYX+RE3o0aNCgsLmzRpEj5hgQiOuHjx4traWg8PD2lp6UePHllZWfH/2BUrVpSWlvr5+cnKyvbr12/gwIEEZ5Rg8/f3X7t27alTp44ePcpkMnV1dYnUc+R2DsFXAuXayPm90atXr+aPevjw4e7duzMyMvAhpb179xbba9PkCg4OVlRUfPTokZyc3B9//FFXV/fw4cNfeKYtDMNmz54tIyNz6dIlhFBAQMCsWbPaOynJ9ovUc56enlFRUbNmzWI383LWcxQKpbXvqWHDhglwuBaj0en0w4cPx8TE4AWlhoaGhoYGkaVXNm3aVFVVhbfJhYSEMBgMIsUcW1JSkqGhYYuJ8ThRAjQ4FxUVXbhwYffu3fixwsLCEELNu8m3eFARjB6wt7c/efKkgYFBZWXluXPnrK2tyT1EUlISjUbjPUChxadZV1fn6uraWiuXlJTUjh07uKb6DA0NtbS0xDdmZGQghKjUHz7arZ3Purq6pUuX2tnZ4Y3QampqVCqV4MBhkXUYxTDs5cuX27Zta+sDm5qaDhw4wDlFZUZGxp49e9g3paSktm/fzjn7yfPnzx8/fnz79m18nKOPj0+L+bR4OG9v76tXr+bm5nbp0gUhpKampqmpScpZamxsXLRo0cKFC2fMmMFgMG7evMm7p9dP8dmswonHExkwYMCAAQPamsOOHTuMjY3xYq6qqiotLc3JyalNxxWxFjNpaGg4ePAgj0+xg4ODnJwc58awsDBzc3N8Y4ufYjF5yi2m0fxbKyMjg/OFo1KpO3fu5Bwm7OPjExkZ+fjxY/zm06dP+TlQuxCfTHj7Feq5mpqa8+fP3759G7+JYdjChQtLS0vZO/D4ksrOzi4oKOARfOjQoc2b6FqM5urqOnDgQPx3kclkhoWFsZclEUBtbe2TJ0/69es3btw4Go02ZcqU5m93AWAYlpCQ0NpYdB4nKiMjg/OUNjdixAiuJjp8KZWxY8fiN0NDQ3V0dJo34wnwE0LcrVu3EEKJiYmLFi2Sl5dfvXo1/3ME8CkxMdHQ0JD3F0GL98rJyTk5ObV2Tpo/pKmp6dWrVzY2NvjN4OBghBBXJ4HW0nBzcyspKVm0aBF+Mzw83NTUlOtXRGyVlJQwGAwB/tKQlpZ2dHTkPMMpKSlOTk7ss9T8dL148QIhxGMOnRYfhTt69KixsTFe2dTV1cXFxZE1udeTJ08YDEZpaemyZcvwpdn/+usvUiLzj8eHt6ysDO8G05r+/ftz/cHT0NCQlpa2c+dO/CY+rw37O4TP44pYi5nIyMi06VOMEIqJicEH86Fvn+KRI0f+9ECi12IaXN9aGIalpKRw/o3U4meKSqXymBhFTJ4vEqdMeJOML27edu/effDgQc5hQT179uSz/1x0dHTzPpicZGRk+LnkimFYTEzMxIkT8XdtcnIyg8Fofq2Bf3l5eUwm88CBA/Pnzxc4SHONjY2pqakODg5tfWBkZCTvwldBQYGrVsPbPzjXZvnjjz/y8/OfP3++cuXKtiZAruzsbEVFxatXrwrvEK9evSLS6Yf/vwjxwTfstlsfH5/FixdzXRxvTXR0NI1GGzJkCB4nJCTk77//Fixh0cP/YBD4YhzXGebROI0QYjKZKioqCgoK7C0ZGRn8zIrMYrGioqI2btyI38R7OhL5ZuCEj6w8f/58ixcu2116enpoaCiPHYYPH85Vz+FfGuwTGxERoa6u3q1bt127du3bt094qQpJmz7FiOPb8t69ezNnzhT2mA/SNf9M8di5qampf//+nJca+PxMgdZIdj3HYDA2b97s5eW1e/du9kYMwzp16lRRUcFgMGg0Gu8I7JYJ4rp27cr++D169IhGoxkYGMydO/fevXsCRMMHEHHm/+LFix49ehD8hOODPwQYdLlixYq2PsTU1FROTg5fjub06dNv375dv3791atXeQzIF5kePXpwDQR5+fIliX37Pn/+nJmZyfnnqfBQqVRDQ8O8vDwLC4vTp09XVFQcPnyYz8cqKSnhxRxCKD4+vry83NLScu/evVZWVoJ1RRClxMTEfv36cdZYwjNnzpxTp07V1NQoKCiUl5cfOnSooqKCn6lrMQyTk5Pj/Gbo1avXwIED58yZ0+JF2zbB/9TknAonNjZWT09PTFpY//jjj7b2xezUqZOhoSH+pREdHX379u0xY8a8ePGisbFRODmKCwqFYmhomJ+fjxByc3MrKCi4e/dueyclXNbW1p6enrW1tfLy8qWlpfv3729oaJDo5RnanVh87AXz5cuXmTNnslis4cOHOzo6nj17FiEUGxu7ZcsWGRkZU1PT6dOnr1q1isSKjQcKhTJ37tzU1NT6+noPD4/r168rKiomJSUJPFxIWVnZxsbmzJkzBgYGnTt39vDwSE5OPnnyJME84+LiRLN2DUKoZ8+eHh4eNjY2ffv2nTp16smTJ0+fPm1tbc3PzOOVlZUhISGt3fvmzRuCda2dnd2FCxdu3749b968169fP378uGvXriTWc69evUIIiaxyvX379oYNG27fvt3Y2BgXF8f/aoYLFiy4c+dOdXV1enr65s2bEUJdunSJjIxssccS/xISEhoaGlq7l8ddbRIfHz9q1CjRdG3R19ePioras2dPeHi4lJTUtm3b+OxwKS0tPXXq1OTk5M+fP58+fdrLy6tHjx7BwcEEV/LAzZo1S0NDY9++fQ4ODhUVFffv33///j3BKXI+ffrE46OXnJzMZ9OvwNzc3LZu3frkyRMtLa2HDx9aWVl5eHgcOnSIcx8Mw4Q9/xyfSMzE3d19/fr1T548qa2tjY6Obt71kM/JnoQtMTGRlFY0MzOzwMDAXbt2hYSEyMvLOzg4zJw5k2sf8XnK7Z0CXyS4npOVlcU7GXAyMjLC+92L3p49e06cODF37tzp06enpqYuXbr05s2b7P4QArh69eqRI0eWLl2qrKy8bt26NWvWEE8yISFBlBNfWVtbc/7s8fkUKBTKpEmTOK/UsIe54P/SaDSCQ0PU1NQiIyOPHDly8eLFsWPHrlu3rmvXrkQCcklISOjXr5+w5xBmU1dXbz5HFz9GjRp18eLF5cuXa2lpBQUFnT9//ujRo0eOHCGSjIWFxePHj3lcaCOlCwHeExSvQYmTk5P7aV2ora19/PhxAYJ7enoePnwYH7gQFxeHD0e9fv26QJn+QF5ePjo62tnZefLkyQYGBv/88w/BRQ4pFMr06dNbfO3YXYiEPUR92LBhnCPNCwsLW9ytxb/oWCxWampqZWWljo4O8ZVb+UTWVdF+/fr5+vry2EFXV5eUAxE0YsQIfuaf4xrt0SJ9fX3eHZdF8JSjoqKqqqqqqqp4NP3gcwyJPwmu58QNlUrdsmXLli1b8Jt4j3si8GYAAYbvNdfY2Hjt2rVJkybFx8fb2toSDyhs7A7RwqOpqcl7GnTBeHl5aWhoxMfHT5o0SSJGRU2bNo09BxjBmedwo0aNIqXxqTWlpaU+Pj6zZ88uKCiYPHkyKTFv3LhBSpwWdezYkbO9k/dvdlspKSkRXLWTy7p160iMJmIeHh4HDx7MyspKSUkhsZ77+PHjP//8Y2trKxFT+ZDC3d09KSlJsD9gcEL9TJGFxWLdvn37zJkz06ZNE82lPKH6pdaHAK2h0+l2dnbu7u65ubkC9IQDfKqsrJw7d66bm1t0dLS9vX17p/NrOn78+Pr16y9cuDBlypRBgwa1dzpAjNja2trY2BBvv+dSWVl57949UhawkhQPHz7kPTb51yAlJXXs2DE5ObkWx1BLHMlrnxOszWPgwIGkZyJBDAwMFi5cePPmTQ8Pj06dOrV3Or8sRUVFQ0PD0NBQW1tb8R9PIKHmzZuXnJzs7e3NnrkKALawsDDSV80eOHAgPkTj9yGaObrFQXx8vKRMov5TklfPCXDeKRTKtWvXhJGMpFBQULh582Z7Z/Hrk5KSio2Nbe8sfnEGBgYkruQBfiUNDQ0vX74UYD6mXwDewVEi+niQJScnp3v37vg03QILDQ1VVFTU1tZOS0vr06cPuR2pRUzy6jkAAACgubi4OAaD0alTp7Vr18rKyn78+PG///7jp2N+axgMxsqVKysqKkxNTV1cXEhMlVzPnz8PDg7GVzTJzs6+fPky5+ombXL69Om4uLiEhISQkJAWV3EUB6mpqevWrRs2bFh6erqmpuagQYPYUzy2VVhY2MCBAy0tLQcNGhQZGTl37lxnZ2dysxUZqOcAAAD8CvCRuR8/fjx9+jSFQunQoYOFhcWSJUsEDrh3797Nmzc/fPjQy8tLbOs5V1dXX1/fsLAwGRmZ+fPn+/j44EuZCyA7O7uystLZ2bl///7JyclkTXxNrtjYWBMTk9u3b1tZWX348KFbt24Cz6/U1NREp9Pl5eVjY2P79Olz8ODBs2fPQj0HAAAAiEJrVxXpdLqFhQU+j3dxcTGTySQ43TSVSh05cuTatWunTJnSpkyEocVVp169erVt27bw8HB8oQUMw0aOHMm5TGqb0Ol0W1tbX19fGo1mbGzMfxpC0uLS3kuXLjUxMbGyskIIlZSUIIQEHlCPd57z8fHB5+zMzc0V2yZJfsD4VgAAAJKkxZKCyWQGBgZOnToVv4nPikxwTu9Dhw6lpKTExcWtWrWK/0yEpMXa8cyZM4qKimPGjMGTCQwMtLCwEPgQtra2/fv3v3379uLFizt27Mh/GkLS/PS+efMmMzOTvZQi/ioLPKlqUFAQjUbDzxiGYf7+/pMmTSKQbzuDeg4AAIDEi4uLYzKZ7IknHj9+bGxs3LVrV3wRLYGdOXPGxMRkyJAhBOMISXJyspGREV5jZWdnV1VVEaxI3r59GxUVtWbNmsLCQhaLRVKapHnz5g1CiN12GBISMmbMGHl5ecGiRUREmJqadujQASEUFRVVUlIyZ86c4uLijx8/kpWwKEE9J6Dq6ur2TkEo2uV5/aon86fq6up+sQOJm/r6epEd67c9yWLy+Q0NDaXRaPiKAg0NDX5+fjNnzkxKSvr3338FjslisW7evLlw4cK0tLT9+/eTlyxpevbsyV6K+vLly1Qq1cTEhEjAc+fODR48ePjw4X///bcYTrmHzyyIj2ktKCh4/vy5wFONsFgs/AI9ftPHx6dXr17Gxsbr16//8uULWQmLEvSfE1BNTc2vNzJcSkqqpqZGxAf99OkTWQt6ShYKhVJbWyuaY9XW1v56b1d+lJeXf/r0SQQHolAov+fbGInNl2F0dLSZmRnedayqqqqurm78+PHnzp3bvn27wDG/fPnCYDB0dHQcHBwIroMnJPv27Vu5cqWXl1dkZOT58+dNTEzw1iaBNTU1jRgx4vHjx+PGjSPY+1AYBgwYsGXLlh07dixevPjGjRsMBkPgS+opKSkMBmPChAn4TVlZWXzRoEGDBrFLZMkC9ZyARDBBcXp6+qNHj2prazdu3CiySXGaLwItbPLy8s3XOT169CjvPw1Xr15NZHVUFovl4+OTlpampaU1b948geMQJLJvDVF+PSUmJvJe0mrQoEF//vmnaJIZMGCAwNdi2qpdfvxOnTr1/v377t27k7UeycWLF4uLi3nssHjx4sGDB3NuEZPZ2idPnjx8+HD8/z169PD09AwNDXV2dlZRURE4ppyc3MOHD4OCglxcXLS1tUnKlEwjRoyIiIiIj4/ftWuXu7s78RGpu3btOn/+fElJCSmr/wnDkSNHioqK3r17N2nSpGfPnuF9BwXQt2/fu3fvGhgY4DednJxu3brVo0cPyV1CCeo58ZWcnOzn55eQkODo6Ehi2IiICCsrKy8vL4H7kAobhmGPHz/m8awfPHiQnJxMpJ6rqalJSUlxdnZeu3atkOq5jx8/Tp8+fcmSJStXrhRGfLEVHBysrKzMY8Glo0ePklXPubq6njlzJjMzk8gcYxLt48ePly9fHjlyJCn1HIZh9+/fZy9C3VxkZGRERARXPScmuIYskPUe41zgWNxUVVWFhobOnj3bxMQkKyuLeOc5hFD37t137dpFSnqkYzKZ7u7ukydPVlVVVVVV3bdvn5mZWWvjNn5KSUlp7ty57JsdOnRYunQpSZm2D6jnxNeCBQvu3LljYmJCpZL5MikqKurr6w8ZMoTEmKTr1q0bj14RGRkZBOMrKir+/fffzs7Owlu2r76+Xlpa2tDQUEjxxRaGYXp6eqampq3de+rUKbKOpaKiMmnSpN+2mEMI7dixw9XVddy4cWQF7NSpE4+PHoPBeP/+PVnHAgTZ2NhER0fPnj2bwWBs27Zt8eLFBDvPibk3b97Y2dmdPHnS3t7++PHjoaGhYWFh7Z2UGIF6TnxhGBYWFrZu3Tpyww4dOhSWS0IIBQQEIISEN2GmiopKcHCwkIKLM1GOibO1tbW1tRXZ4cTQq1evGAwGkSkquIhyAg6BUSgUMVlwk0Kh6OnpieZYAwcO5Oqn6OTk5O/vv2/fvrS0tEmTJv3111+iSUM03XIoFArXpXwtLa1nz55FR0dv3769sLAwOjpaS0tLBJk0P/PiCeo5oaipqfnw4QPBbiVJSUlVVVVjxowpLy+vrq4m5RpHeXl5aWnp8OHDxfzdKYIflbCwsGHDhikoKCQnJ6urq3fu3JnE4CwWKzc3V11dncSYwsZkMtPS0nR0dAi+N0RWEKSlpSkoKKiqqormcKSorKz8/Plz3759yQqIrz45dOhQvNF68ODBAs8lK1n27t3b3il8dfLkSdEcaNmyZVxbDAwM2N2/RKZ5GqI81oQJE9gjGNoxDfEE9RzJGAzG+vXrdXR0Pnz4EB8f/+HDh5cvXwoWCl+7xsPDIyYmBiH06NGjwMBAImVHUFDQpUuXCgsLzczMDh06JHAcERB2TYBhWEhIiLq6uomJia6ubmBg4MaNG8lqCq2qqlqxYsX79+9Hjx59+PBhUmIKm6ura35+vp6e3u7du1+9ehUeHi7wXyOiqee2b9+upKS0Z8+egIAAgnPGikZFRcWGDRvMzc2rqqpevHjR0NDw9OlT4mHxSToWLlw4efJkHx+fDx8+vHjxgkhAiWifAwA0B/PPkenz58+Ghoa6urobNmxwdnZ+//49kZ494eHhNBpt27Ztu3btWrx4cVRUVEJCgsDRWCzWwYMHPTw8OnXqJJ4TY7JRKBRhNx++e/euoKAAn1D+woULkydP9vT0JCv46tWrT5w4YWRk9ODBA7JiCtWaNWuCgoJOnz69cuXKUaNGFRUVERkSKCUl9G+V7OxsfPxdY2Njdna2sA9HXHV1tb6+/sSJE//666/t27enp6eT0h7MZDLpdLqSkpKbm9uyZcumTp1K5CsCiXbqfwAAuaCeE0Rr33q7d+8uKSlZs2YNQgjDsNLSUoGHUuMrt2zatAkfgZ+SkoIQGjRokKApI7zDbF1dXWhoKI9RPKL/Qm9xhT5h98HCm0YePHhAo9EQQrm5uSTOuYAPv/Ly8po8eTJZMYUnIiLi3LlzW7duxV+I0tJSHR0dItWGCBp4ampqnJycfH19O3To0I7TzfBv8+bNTU1N+Oeuvr6+oKCgtfEibYJ3nvvvv//w1yslJYXgJX4Mw9r68kEJCICYgHpOEC1+5WEY5ufnN378eHw4am5ubkFBgcDd7RMTExkMBnv0ZWBgoKamJpFWEwUFhQkTJly8eFFZWZnHmHbRX21pl+s7oaGhhoaG+Kx+X758CQkJIbF7tY2NzfPnzwsKCkTTPZkgHx8fKpXKXsEwODhYTHqa86Cvr6+mpnbhwoX58+eT2/FRSO7duzd58mS89KHT6Uwmk5STHBwcTKPR2IuRBwcHs9e1FBm4PguAmIB6jkzZ2dnssU7BwcFycnICjzsLDw+Xk5PDB5+zWCy8sae6ujoiIoJIhhcvXrSzs/v48WN4eDiROBINw7CIiAh2p6sHDx7U1dVNmTIlJyeHrCn+L126ZGxsPGTIEOJTqwjbmzdvdHV18Tnlq6qq0tLSJk6c2N5J/VxeXl5QUNDKlSvj4+NLSkraOx1eqqqqGAwG+5shJCRERUVFX1+feOTIyMjRo0fjr112dnZmZubs2bPj4+NLS0uJBwcASBao50hDoVCGDh2Kf7dWVlYeO3bMxMRE4LFmdDrd2NgYb+pLSEjA1wl2c3N79+6dwBmmp6e/ffvW2tr60qVLROJIutLS0tzcXHbTqZ+fn6GhYd++fbds2ULKVH9NTU33799fuXLlmzdvrl+/TjygUA0bNkxGRgYhhGHYpk2bqFSq2E40zcnX11dFRcXU1HTXrl3kTtBIOkVFxYEDB+JJFhcXu7u7kzW9SEREBPttfPPmTRUVFSMjoz179uAvKADgtyLW34MS59ChQ1u3bn337l1qaurbt28XLFggWBwMw6Kjo9nrCnTq1Akh9PHjx4qKivXr1wucnrS0NJVKzcrKwofKChxHBLKyspycnFq7Ny4ujsh5wNs42T+EMjIyvXv33r1795w5c8jqyy8nJ8dgMBwcHC5cuEBKQOGxt7f38/NbvXp1Xl5eamqqrq4u3qeQiCtXrjx79oxzC+dVOVIW+ZaVle3ateupU6eGDx8u/ostenl5HTt2LCsrq6ysrKSkROButZwyBsZrFwAAE05JREFUMjIYDAZ76YKhQ4cqKSm5u7tbW1srKSkJFpNCobx//57ro8f52mVlZYn+ki4AgB9Qz5Fp2rRplpaWiYmJdnZ2Ojo6Aneeo1AoN2/e1NXVxW9qaWklJiZKS0sfPHiQSHpDhgzJzMx89+5dUFCQOE9SRaFQzp8/39jYyLmR80fFwsLC2NhY4PijR49+/Pgxu2o5e/bs9evXtbW1SemijhCSlpbGi+abN2+K/9IFvXr1Sk1NffXqlaqq6tixY4nP/fHnn3++fv2axw6kjGBYs2aNkZFRhw4d2B8Tcaavr3/jxg2EUFhY2M2bN0npPKemppaens4eIzVnzpxRo0bJyMgQrG5/OuE+DIAAQDxBPUeaW7duVVRU2Nvbjxkz5r///uvVqxeRpVe4rnmNGDGCcIIIIaSuri4Rk9yS0oDRGnztP/ZNOTk5Ozs7cg/Rs2dPiVjUOT09/cSJE2fPnjUyMioqKsrMzLxy5QrBmL179+7duzcp6fFmZGQkgqMQd/HiRSqVunz5coRQeHi4hoYGe9l4ImRlZbkGvPfp04d4WCjXAJBQ0H+ONLt27cIn/vXy8jp69OidO3fwvnQAiK2LFy/ev3+/oaHh9evXs2fPdnZ2/rXXf2wX27dvf/ToEZPJvHbt2uXLl+/cudPeGQEAfkHSe/bsae8cJA8+4S3XGnYzZsyQkpJ68ODBx48fT58+PXTo0PZKT2D4n+YkzsTG50EVFRVFsyCgWMGfuKampmiO1eIqk2ZmZhoaGk+ePElMTNywYcOiRYtEkIyIqamp4RPTCBWPV3PWrFmysrKPHj1qaGg4f/68RDSQ86/FL0MAgOhRYPYgAAAAAACJBtdbAQAAAAAkG9RzAAAAAACSDeo5AAAAAADJBvUcAAAAAIBkg3oOAAAAAECywXwlAAAAwFdNTU337t3z8vKqqanhMZ1QfHz8tm3bOnfurKGhIcr0uAQEBNy6dSszM9PQ0BAh9PDhwzt37uTk5LQ4P5FEe/36tbu7+9OnT3V0dPA1MJtLTk728PB49uzZmDFj2msNpKamphs3bpw8eXLEiBFdu3Ztamry9va+d+9eZWWltra2UA8N7XMAAAAk3qZNm0hZR6esrIxOp+/duzc6Orq1fV6/fr1o0aLevXvPnj2b+BGJiI6OPn78eFRUFEKIyWTGxcUdPXr08ePH7ZuVMCQlJXl6ejo7O/Mo1BISEu7evevu7k6lfl37auvWrcOGDRNVjgghdPTo0fj4+NjY2K1btyKEqqurU1JS9u7dS6fThX1oqOcAAABIvF69ek2fPp33PgwG4/r167z36d279z///IMQmjhxYmv7HDp0yNTUtH///mvWrBEgVYTQuXPnBHsglx07dtTX1+PrWVOp1C1bttTV1Y0dO5aU4GJl3rx5+vr6xsbGPKYHt7GxodFopqam7GXrevbsOWPGDFHliOrr6//9919LS0tdXd3FixcjhLp167ZkyRKE0Lhx44R9dFi/FQAAgMTDm0N4+/jxY2xs7J9//sl7t7CwMDk5Oa5FtDnduXPn4MGDAhdzGIYFBwevXr1asIdzevXqVV1dHV7PIYTodDqTybS0tCQeWdxgGBYeHs57DZumpqaoqKgDBw6wt2zevFn4qX1Hp9PLy8t1dXVnzZrF3hgSEoIQEsGLAu1zAAAAxE5FRUVhYWHz7SwWKzIyMjIysqamBt+CYVhSUlJlZeVPY7JYLH4OHRoaOnLkyLq6uqSkpOZLKL1+/bqurk5BQaH5XV++fElLS+PnEHxmghCqq6uLi4urrq7m3FhfXx8XF1dbWxsYGEij0XR0dPDtYWFhioqKgwcPTktL43oIcRiG5efnNz8nqampYWFhxcXFzfdPS0traGgg5ejl5eU5OTmmpqaZmZlcr3VTU1NGRkZRUVF0dHRdXZ25uTn69q6oqKgg5ehsdXV1GRkZLd6FYVhycjKVSpWXl+fcHhYWpq+v36lTp6SkpNraWnLz4QT1HAAAAKHAeGrtUaWlpTY2Nm5ubi4uLtbW1pMmTWLf9eHDh+nTpz9//rykpMTc3Pzt27cIoRUrVgQGBnbv3h2/yTsffnIOCgr69OnTwYMHExISDA0N2b/BGIaNHTsWb3pxc3MbN24cu2Zqamr6v//7P0dHx7CwsKlTp/bt2/fTp08EM0EIeXp6jh8/Pisry9HR8f/+7//wjVeuXDEzM0tNTbW3t79x44aFhQX78mJoaKi6uvo///wTHx+/cOFCEsc7lpWVmZubX7x4MS0tzdLSsqSkBCHEYrHWr19//Pjxqqqqv//+293dnb1/QEDAkiVL4uPj582bN2LECD8/P4IJBAQEIITu3r0bGxu7fPly9gXr2NhYfX19f3//y5cvb968mUaj6erqIoTs7OwCAwNVVFSysrIIHhrX2Ni4efNmR0fHR48eTZ06VUtLi/MljoiI+OOPP1xdXWk0mrW19bp16/DtGIYFBgYqKCisWbMmMzNzwoQJ58+fJyWfFvD+vAEAAAAC8PHxsfiR+Y9OnjzZ/FHv379XUVHx9vbGb+ro6MyaNQv/f3R0tIqKyq1bt/Cb9vb2L168iIyMdHBwyM/PRwg9f/6cd0r5+fn29va890lPT0cIXbp0Cb+pqan577//cu6wd+9eFRUVFovFuXHKlClLly7F/7969WoajcbjECwWa/bs2bzTwDDs3Llz/fr1q6+vxzBs6NChGhoaGIZFRETIycl9+PABw7A3b94ghFxdXfH9P378SKVSTUxMvnz5gmHYvn37+vXr99Oj8OPDhw/9+vXz9PTEMMzNzQ0h5O3t/eHDBx0dHTs7O3wfHx8fFxcX/P9ubm6qqqo1NTUYhgUGBiKEAgMDCeZgY2Ojrq5eXV2NYZivry+NRquvr6+qqurVq9eDBw8wDGOxWKqqqlOmTMEwLCoqasuWLXiTYUBAAMFD48aMGbNp0yb8/3/99ZeKikrzfQwNDVetWsW5Ba8mra2t8TfMqlWrTExMSMmnOeg/BwAAgHyzZ88WYPjn5s2bGxsb8ZENLBarsLAQ706O3yUtLa2iohIUFBQbG1tdXW1iYhIaGrp161ZPT89evXo173KelZV148YN9s2ampqYmBgnJyf2FjU1NRsbG86HhIWFUalU9saamhq8wmNLSkoyNDRkN4khhG7duvX48eOcnBz8ZllZGVffu7q6usOHD2McbXIZGRmcacjKyu7cuZPzIZmZmZs2bTp+/LisrCxCyNPTU0VFpbGxceXKlVOmTFFUVEQI4Zcd2R2z8M5zV69elZGRQQglJycPHDiw+RmuqKg4ffp08+04OTm57du3c220s7OTlpbGO/hPmzbtxYsXJiYmjo6OycnJO3fuDA4OzsvLu3//Ph62oqLC3t5++/btXbp0QQiVlJTgVSZnwLdv33p6eraWQ8+ePZt3LgwKClq8eLGCggJCqKamhsFgFBcXHzhwoL6+ftq0aQghDMMqKystLCwQQvX19Q4ODrdu3erVq9f48eObH+L8+fN4E2OL/vzzz0GDBnFuuXjxYkRExNmzZ/GbhYWFXM8IIcRkMhMTE1esWMG5MTg4mEqlXr58GX/DpKamDhgwoLXjEgT1HAAAAHHh4+Mzc+bMDh06IIRevXpVVVWF10Z1dXUREREmJiZhYWGysrITJkzAyw68mrl48eLy5cs5ayycgoICZz/08vLyoqIizi00Go3rISEhISNHjsQTKC4uLikpGTJkCPteDMMSEhK4euX7+fn169cPL55YLFZISAhXSUShUPA6gy04OJirgzyGYZz537t3r66ubs6cOfhNfD65p0+fZmZmsiu/58+f02g0fX19/GZoaKiKisrgwYPxaE+ePGlxNICsrCyPvvnNz+Hnz5+9vb03b96M39W9e/fu3bsjhAIDA1VVVdPT06WkpPT19X19faWkpBBCQUFBDAaDfZU8ODjY0NBQTk6OM2aXLl145NCxY0euLXl5eUVFRewS6uXLl1QqVVlZ+cqVK+zXPSoqit15Dj/b586ds7W1bXF+E11dXc6XlQteNXK6f/++mpra8OHDEUIYhtHpdM5yHJeens5kMtkvBy40NNTQ0BAP+OnTp8jIyOXLl7d2XIKgngMAAEA+X1/fkydP8tjBysoKnxmErbKyksFgGBkZ4Tfxtg0jI6Nnz56NGjUKIbR06dK//vqLKw6dTs/MzLSzswsNDdXX18ebhXA9evTo0aMH+2ZBQUFkZOQff/zBI6uCggJ2Avfv36dSqZzToDAYjNzcXHzyXra3b9/ifbYQQgkJCVVVVZx9/hBCHTt25DwohmHKysq808jIyFBVVVVWVubcWFZWhhAaOXIkfjM4ONjU1JTFYtHpdEtLSzqdPmHCBLy4odPpDAZj6tSpdDpdR0eHs0Dp0qUL70Nzef36NULIwMCAa3tDQ4OpqenevXu5tr99+5ZKpeIFKIZhQUFBXC2gCCEVFRUVFRX+c8jLy0MI4e8BhNCTJ09mz56ND4hhv1hBQUE0Gm3kyJFPnz6dNGlSZGRkZmbmypUrw8PDR4wYwVWisUcE8yknJ4d9oKioKAaDYW5uHhwcbG5uzp7rLjExkUqlst8J6NtA5mXLluE379+/jxCaNm3a06dPx44di//NQCKo5wAAAJBv9uzZnLM2NNe8KUhRUVFOTg6vwOrr693c3MzMzGpray9cuDBx4kQNDY3Gxkb2zh4eHgMHDjQzM/P19TU0NFRVVV26dOmzZ88Ipt2zZ08lJSWEEIvFunDhgrOzM2dDTlxcHOKoIXDa2tr19fUIISaTuXPnTkVFRfaAU4ENGjQoOTmZfTMrK+vMmTPW1tYIIbwSyszMjIqKcnJyevjwYW1tLT4Mln2xz8/PT1VV1dDQ0NLS8smTJ0QyGThwIJVKZddDTU1Njo6Os2fP1tPTq6qqYu+WnJwcHh6+bt06fP7epqYmKSmpc+fOFRQUtKl8bBH+lsBfF39///r6+nPnzikoKFCpVPyuz58/371719TUtLq6+t69e5MmTfLz89PX1x8wYMDy5cufPn1KMIE+ffqwC9BTp07Jycnp6elNnTqVs5UxISFBR0cHv9iNKygoKC8vZ+/j5+dnYmLSrVu3/fv3T5o0qbq6etmyZSNGjCBr2ArUcwAAAISiecXGm5SU1MaNG728vFRUVK5cuTJy5MjExER7e3u8Eej48ePr16+n0WgqKioBAQF9+vRZunQpQqhjx44yMjLOzs7W1tZ4bzMi1q5du3HjRjMzMw8Pj9mzZ+/YsYPz3vj4eBUVld69e3Nu3Llz54wZM9auXfv69euUlBQzM7O2PvHmtm7dGhMTs2rVqgkTJjx+/Dg/P//8+fODBw/W19e/ePFijx497ty5Y2xsnJaW9uLFC29v76ioKM6Z52RlZdXU1M6ePbtx40aua51t1bVr1ytXrjg5OVVWVubn5z958sTKysrIyEhFRcXc3PzQoUMjR46k0+kVFRX4xG8zZsywsLCYP3++jIxMQkIClUodPXo0wbOhpaU1ZcqUff/f3v28JBOEcQCfDZPMoIMQrXSJrCyREm/R/yARpBBBh+6a1+pWSJCdOlUgdIwlOkUd9GJutSWEUAhrERIbhooQiVg572FgkV4wyaz2fb+fk7DsMMIcHvb5McvLDodjZWUlFouZTCZCyPz8/O7uLsdxoVBodHQ0kUj4/X6W7Nbr9exUuFyuxk+Fz+dbWFiIRCLRaLSzs7OtrW11dXViYoKlmJl4PP7un8ZiMUKIWkyp1+t5nl9fXw8EAoSQQqGwv79P6+t0rgf3hWsBAAA06OzsrFgsDg4Oms1mSZJaW1vV20iTySQrY3c6nWpelVIqiqLJZKpx3SqTTqeDwWDtLDAh5Obm5uHhwWazsbaDatPT0xzH/X3JRLlcjsfj/f39AwMDi4uLfr+/xvqU0snJyb29vdrbIITc39+nUqmOjg41w1sul0VRpJSOjY21tLSIotjX19fT05PL5WRZVtOILy8voija7Xb2TatxpVLp8vKyVCpVZ7QzmQybt9fb2/uu9+Lq6kqn0wUCAVmWWVjToLe3NxbGWa3W6pI4VjY3NDTU3d0tSVJ7ezv7QFj/qahTMplUFMVsNlut1lQqpSjK+Pi4Gs9RSo1GYygUcrvd6iuKomQyGfX0Pj8/X1xcOJ1OdUDd3d3dV7ZHNKlvFgAA4FcpFovhcPgTL2az2ZmZmePjY4vFIghC9aPT01Ofz6f+1ul0six/uCAbsfHvyWazc3Nz6XSaUlqpVHieX1tb++lNNVc0GnW73ScnJwaDgY1o+SmYJwwAAP8Fg8HwubtNE4mEIAiRSKSrq+vdEJZgMMhG3Z6fn8/Ozm5sbFgslg8X/PCqWY06Ojra3t4uFAq5XM7j8YyMjHi93p/eVHMJgiBJ0s7OztLSUnUvzvdDvhUAAKCWSqWyubmZz+e9Xq/RaKx+lM/nDw8Pb29vX19fPR7PV2X3tOvg4OD6+vrp6Wl4eHhqaqrxUsJf7vHxcWtri+f55g0iqRPiOQAAAABtQ74VAAAAQNsQzwEAAABoG+I5AAAAAG1DPAcAAACgbYjnAAAAALQN8RwAAACAtiGeAwAAANA2xHMAAAAA2vYHbid6/9YR1f0AAAAASUVORK5CYII=)"
      ]
    },
    {
      "cell_type": "code",
      "execution_count": null,
      "metadata": {
        "colab": {
          "base_uri": "https://localhost:8080/"
        },
        "id": "zdjMsKP9YhL4",
        "outputId": "44b1ed37-f15b-42d8-9805-269158984add"
      },
      "outputs": [
        {
          "name": "stdout",
          "output_type": "stream",
          "text": [
            "Original 2-d array\n",
            "[[1 0]\n",
            " [1 2]]\n",
            "Determinant of the said 2-D array:\n",
            "2.0\n"
          ]
        }
      ],
      "source": [
        "import numpy as np\n",
        "from numpy import linalg as LA\n",
        "a = np.array([[1, 0], [1, 2]])\n",
        "print(\"Original 2-d array\")\n",
        "print(a)\n",
        "print(\"Determinant of the said 2-D array:\")\n",
        "print(np.linalg.det(a))"
      ]
    },
    {
      "cell_type": "markdown",
      "metadata": {
        "id": "k46R6OGsYl_P"
      },
      "source": [
        "Evaluate Einstein’s summation convention of two given multidimensional arrays"
      ]
    },
    {
      "cell_type": "code",
      "execution_count": null,
      "metadata": {
        "colab": {
          "base_uri": "https://localhost:8080/"
        },
        "id": "8KH25LNzYsQ4",
        "outputId": "7e338d59-ec91-45f9-8220-cb57de96d679"
      },
      "outputs": [
        {
          "name": "stdout",
          "output_type": "stream",
          "text": [
            "Original 1-d arrays:\n",
            "[1 2 3]\n",
            "[0 1 0]\n",
            "Einstein’s summation convention of the said arrays:\n",
            "2\n",
            "Original Higher dimension:\n",
            "[[0 1 2]\n",
            " [3 4 5]\n",
            " [6 7 8]]\n",
            "[[ 3  4  5]\n",
            " [ 6  7  8]\n",
            " [ 9 10 11]]\n",
            "Einstein’s summation convention of the said arrays:\n",
            "[[ 24  27  30]\n",
            " [ 78  90 102]\n",
            " [132 153 174]]\n"
          ]
        }
      ],
      "source": [
        "import numpy as np\n",
        "a = np.array([1,2,3])\n",
        "b = np.array([0,1,0])\n",
        "print(\"Original 1-d arrays:\")\n",
        "print(a)\n",
        "print(b)\n",
        "result =  np.einsum(\"n,n\", a, b)\n",
        "print(\"Einstein’s summation convention of the said arrays:\")\n",
        "print(result)\n",
        "x = np.arange(9).reshape(3, 3)\n",
        "y = np.arange(3, 12).reshape(3, 3)\n",
        "print(\"Original Higher dimension:\")\n",
        "print(x)\n",
        "print(y)\n",
        "result = np.einsum(\"mk,kn\", x, y)\n",
        "print(\"Einstein’s summation convention of the said arrays:\")\n",
        "print(result)"
      ]
    },
    {
      "cell_type": "markdown",
      "metadata": {
        "id": "ojzzAtECY4Yn"
      },
      "source": [
        "Compute the inner product of vectors for 1-D arrays and in higher dimension"
      ]
    },
    {
      "cell_type": "code",
      "execution_count": null,
      "metadata": {
        "colab": {
          "base_uri": "https://localhost:8080/"
        },
        "id": "yRmnwZ90Y9h-",
        "outputId": "b5b9e6a6-4d06-43e4-9a3c-c61fbeab163b"
      },
      "outputs": [
        {
          "name": "stdout",
          "output_type": "stream",
          "text": [
            "Original 1-d arrays:\n",
            "[1 2 5]\n",
            "[2 1 0]\n",
            "Inner product of the said vectors:\n",
            "Higher dimension arrays:\n",
            "[[0 1 2]\n",
            " [3 4 5]\n",
            " [6 7 8]]\n",
            "[[ 3  4  5]\n",
            " [ 6  7  8]\n",
            " [ 9 10 11]]\n",
            "Inner product of the said vectors:\n",
            "[[ 14  23  32]\n",
            " [ 50  86 122]\n",
            " [ 86 149 212]]\n"
          ]
        }
      ],
      "source": [
        "import numpy as np\n",
        "a = np.array([1,2,5])\n",
        "b = np.array([2,1,0])\n",
        "print(\"Original 1-d arrays:\")\n",
        "print(a)\n",
        "print(b)\n",
        "print \n",
        "result = np.inner(a, b)\n",
        "print(\"Inner product of the said vectors:\")\n",
        "x = np.arange(9).reshape(3, 3)\n",
        "y = np.arange(3, 12).reshape(3, 3)\n",
        "print(\"Higher dimension arrays:\")\n",
        "print(x)\n",
        "print(y)\n",
        "result = np.inner(x, y)\n",
        "print(\"Inner product of the said vectors:\")\n",
        "print(result)"
      ]
    },
    {
      "cell_type": "markdown",
      "metadata": {
        "id": "3nES9dgza5kn"
      },
      "source": [
        "Compute the eigenvalues and right eigenvectors of a given square array"
      ]
    },
    {
      "cell_type": "code",
      "execution_count": null,
      "metadata": {
        "colab": {
          "base_uri": "https://localhost:8080/"
        },
        "id": "t37U6AMBbXDU",
        "outputId": "573c32c4-923a-4155-fc7a-93a053f3a209"
      },
      "outputs": [
        {
          "name": "stdout",
          "output_type": "stream",
          "text": [
            "Original matrix:\n",
            "a\n",
            " [[ 3 -2]\n",
            " [ 1  0]]\n",
            "Eigenvalues of the said matrix [2. 1.]\n",
            "Eigenvectors of the said matrix [[0.89442719 0.70710678]\n",
            " [0.4472136  0.70710678]]\n"
          ]
        }
      ],
      "source": [
        "import numpy as np\n",
        "m = np.mat(\"3 -2;1 0\")\n",
        "print(\"Original matrix:\")\n",
        "print(\"a\\n\", m)\n",
        "w, v = np.linalg.eig(m) \n",
        "print( \"Eigenvalues of the said matrix\",w)\n",
        "print( \"Eigenvectors of the said matrix\",v)"
      ]
    },
    {
      "cell_type": "markdown",
      "metadata": {
        "id": "rzeZ7cnhblai"
      },
      "source": [
        "Compute the Kronecker product of two given mulitdimension arrays\n",
        "\n",
        "Write a NumPy program to compute the Kronecker product of two given mulitdimension arrays.\n",
        "\n",
        "Note: In mathematics, the Kronecker product, denoted by ⊗, is an operation on two matrices of arbitrary size resulting in a block matrix. It is a generalization of the outer product (which is denoted by the same symbol) from vectors to matrices, and gives the matrix of the tensor product with respect to a standard choice of basis. The Kronecker product should not be confused with the usual matrix multiplication, which is an entirely different operation.\n",
        "\n",
        "If A is an m × n matrix and B is a p × q matrix, then the Kronecker product A ⊗ B is the mp × nq block matrix:\n",
        "\n",
        "![image.png](data:image/png;base64,iVBORw0KGgoAAAANSUhEUgAAApcAAAGmCAIAAACmwDhTAAAgAElEQVR4nOzdeSBU6/sA8JcxSuhSSqUiItEiFaUsU9o3btrULVpUihYlN4mSFi1KC26SNt1EXVK3hTGkclNZQiX7Uhhr1jBzfn+8985vvkO2mTEz9z6fv855zzvvec45c+Y5y3vOiBEEgQAAAAAggsQFHQAAAAAAugmyOAAAACCqIIsDAAAAogqyOAAAACCqIIsDAAAAogqyOAAAACCqIIsDAAAAogqyOAAAACCqJAQdgKjasWNHSkoKa5QgiOjoaDExMQGGBDqPIAgKhcK+vcaNG3fu3DkBhgQAAN0AWbw7CIJISkrKy8tTUVFhlQg2JNANrK2WnJzMZDIFGwwAAHQDZPHuW7du3aFDh/g6C0tLyy9fvrCX4MQjKSm5cOHCjRs3SktL8zUA4ffkyZNjx45xFOK1NHLkSBsbG319/dafEhMTo9ForFFjY2O+BgkAAHwCWVyo2dvbV1ZWzp8/HyFkZ2dnbm6OEGpubvbw8Ni5c2dgYOCzZ88UFBQEHaYg6ejouLq6+vn53blzR1ZWNiwsjCAIMTGx1NRUBweHa9eu+fn5bdiwQdBhAgAAX0AWF2pTpkypq6vDw2pqahQKBQ9raWkNGzYsKSkpKCjI3t5ecAEKnqKioqKi4qNHjxBCJBLJxMQE3+2mUCiJiYlXr17ds2fP+vXrocsCAOBfCfqoiyRWav/8+bNgIxFmDQ0NCKGqqqrKykpBxwIAAHwBWZy/CIK4du2ahYXF1atXy8vLi4uLuW+TwWDg3tRkMnnt2rXcNyhYcXFxGzZs2LVrV2Nj48ePH3nV7MePH58+fYoQMjc379evH6+aBQAAoQJX1Pno+/fvy5cv19DQOH/+vL+/v4aGxrFjx2xsbLrX2sWLF+/fv08QRGFhYXZ2trKy8uPHjzU1NXkbcw/z9/e/devW+fPnq6qqVFRU9PT0wsPDu91aXV0dhUIhCIIgiJcvXzIYjAMHDvC7ByIAAAgQZHE+cnR0rKmpOXnyJEKIQqEcPHjQwMCANbWkpOT9+/empqaski9fvmRkZJiYmLTZ2ty5c3HvNoIg7t+/f+HChRUrVvj5+U2ZMoXLOBsbGwMCAmbOnDlq1Cj28pSUlL/++mv9+vUkEolVyGAwAgMDJ06cqKOjw+V8Y2Nj7e3t8/LyBgwYgBBqbm6eOnUqa2pLS8u9e/eWL1/e+QZ79+598OBBMTExgiDKy8t37tx5+vTp+vr6EydOSEjAVx0A8G9EgK5jMplGRkYHDx5sp056ejpCKDAwEI8eOXJETk6OyWQSBJGbm2tjY6Ojo3Py5Ek89dOnT1u2bNHW1r5w4QJHO7W1tXhLnT17lr0cJ1FFRcWmpiYuF+fx48cIITMzM45yfIQRFxfHXpiUlIQQMjAw4HKmBEGoq6tbWFjgYfwKnefPn+PRbdu2rVixwsjIqJNN7dmzByHEWsPY/fv321x1rRkZGXV+XgAAIDzgvji/PHv2DCE0c+ZMPEqj0YyMjHBPaWVlZT8/vwkTJrAqa2ho+Pj4jB07tvPt44+XlJRkZ2dzGaqJicnRo0f379/PUe7u7u7p6amnp8deOHbs2DNnznh4eHA509zc3M+fP7N63VOpVDKZzHq2G19p4HIWkyZNwgPx8fFcNgUAAMIJLjPyS0NDg6ys7NChQxFCTCbzxYsXbm5uL1++rKysXLBgAZeNEwSRmJiIECKTyYMGDeKytV69ev3666+ty6dMmdL6cr24uPiuXbu4nCP6pwO5lpYWHn3+/Dmel7u7u4uLC0floqKi/fv3y8nJqaurFxcXv3nz5tGjR+LiHRyD4ssGCKFhw4ZxHzAAAAghyOL8QqFQ3N3dm5ubyWSyg4NDQ0PDuHHjfvvtt9Ypqh2vXr2qqqrCw1lZWdHR0QghJpPp5+eHU5SPj89PP/3Ej/j5TV1dXUlJCefyx48fh4eHb9y4MSwsrG/fvq0rBwYGOjo6mpiYJCcnDxkyRElJ6du3b3JycgihkpKS9PT0goIChBCDwcBvZCMIoqioCD9Jr6GhcfDgwR5dNgAA6CmQxflFT0/v0KFDM2fOVFZWtra2Li0t3bNnz7p169TU1DrfyPnz5798+YLfD5qcnJycnIzLSSSSvb397NmzuT+tFxQJCYk7d+64urr6+/uPHz/+t99+c3Nzq6ysDAgIaF3Z2dn5ypUrFhYWQ4YMycvL6927N07hCKHk5OSjR4+if96i6ubmxvoUhUKZNm3aypUrZWRkemSZAACgp0EW5yMHBwcHBwc8PGPGjG60EBQUxNOIhMu0adMiIyNZo1ZWVu1UfvnyJb6JHhISsmDBAhqNhjvzz549e/bs2fwOFQAAhBP0bhOApqYmGo2Wn5//8ePHuLg4hFBDQwONRissLExPT3/58qWgAxS8t2/fvnv3rry8nEajVVdXI4RevnyJ03ZSUtLkyZNjYmIEHSMAAAgenIsLjLOzM0fJ4cOHBRKJcJoxYwb7BQxvb2/cVdDLy+vp06dwqxsAABBkcYGQlJTkeLWLlJTUj1728t80ceJEjpJZs2bhAQUFBUtLyx6PCAAAhBFcUQcAAABEFWRxAAAAQFRBFgcAAABEFWRxAAAAQFRBFgcAAABEFWRxAAAAQFRBFgcAAABEFWRxAAAAQFRBFgcAAABEFWRxAAAAQFRBFgcAAABEFbxHvZu+fftWXl4u6CgAb9TW1go6BAAA6I6eyOIEQXz8+HH06NH8aJmjRExMjOdzaVNubq68vHzPzAvwW1VV1ffv3wUdBQAAdFlPXFEPDAzU0tKKiIjgbbMEQQwZMkT8f0lISKioqMycOdPFxSUnJ4e3c2Q3aNAgTU1N/rUPepKOjo6GhoagowAAgC7riSzu7e2NELp06VLnP0IQRFFRUUZGRuuzbRYxMbEvX76UlpbiUV9fXyaT+fXr19u3bw8ePPjIkSO6urpZWVlcBg8AAAAILb5fUU9ISEhKSkII/fnnnwUFBcOGDevwIxcvXnz//n2vXr2YTOa3b98UFRVdXFxkZWVb1xQTE2NdQsfDAwYMGDBgQL9+/W7dulVVVXXv3r29e/fydokAAAAAIcH3LO7j42NkZBQbG4sQ8vX19fDwaKdyS0uLmZmZi4vLtm3bWIV0On3u3LlXr17t/DXPuro6jgGREBMT8/Xr15UrVwo6EOEVFhYmKSk5b948QQcCAABCgb9X1Kuqqn7//fcrV67o6OgghAICAhgMRjv19+/fr6mp6ePjw34h/fbt2xoaGra2tkwmszMzbWlpuXDhAkJIW1vb1taWuyXoUWvXrl21alVZWVnPz/rDhw9NTU09P9+uMjMzW7JkiaCjAAAAYcHfc/GAgICJEyeOHDnSyspq586dxcXF9+/ft7CwaLNyfn5+WVlZQECAv7+/tbX11atXxcTEDh8+nJmZee3aNV9f36CgoDVr1vxoXqdPnw4KCmIymfn5+Xl5eaqqqo8fPx44cGDrms3NzceOHeM4nmA/biCRSL/++qukpGR3l7ubqFRqUVGRgoJCD883JibGxMRk1apVQUFBPTzrrnr79q2EBDweCQAA/yD4hslkqqqq+vr6EgRRXV2Nb2zPmjXrR/VDQkLu3r2Lhy9fvrxu3boLFy788ssvTCaTIIi8vLxdu3a1/hSdTscL4ufnx/zHlStXyGSylJTU77///qPY2LVZ0v6iaWpqbt26tXNrQtgVFxfPmTPn6tWrgg5EYH7++WcKhSLoKAAAoMv4eEX9+fPn2dnZSkpKVCr1jz/+GD58OELo2bNnubm5bdbPyspSVVXFwxs3bmxubj5z5kxgYCDuvzZ8+PD8/Pz25yj2j/Xr12trazc0NDg4OLR5HV7sf7VZ8t+hqKj4+PFjKysrQQcCAACga/h4cfK3335TVlY+deoUHv3pp5/wgI+Pz4kTJ1rXHzlyZHZ2tq6uLkIoMDCQTCY7Oztv2rTJ399fTEwsPz9fRUWl83MfPXp0UlJSUVHR169flZSUOKbGxsa2c4deTEzMxMSk8/MCAAAABIJfWby6ujo4OPjVq1cTJ05kFY4ePfrjx4/+/v5Hjhwhk8kcH5kwYcLhw4ctLCwCAwNpNBq+Ly4uLr5x48YrV65ERETgBN8ZDAYjJSUFIaSsrDxkyBCOqc3NzdHR0e30lSORSAYGBj1/X1zYNDY2FhYWjhw5UtCBCExTU9OdO3dWrlzZ+usKAADCgPdZvLi42NfXNzU1tXfv3uHh4TIyMqNGjUIInT59euDAgR8/fqyoqNi4caOKioqDg0Pfvn1ZHxwxYkRtbe3evXtLS0tZF9LxZV5ra+sPHz5QqVSOeZ06dYr11pcHDx4UFRUhhBgMxh9//JGWlkYmk8PDw1tfHieTya6urjxfcO55enrm5ORcuHCBRCIJOhaEEFq2bFlERERiYiJ+xEAYODg49O7du/3nFXno2LFjbm5u6enpx44d65k5AgBAl/A+i9fW1iYnJ48YMcLKyiolJWXOnDm4PCEhYciQIfb29n369CkpKXn16lVjYyN7FkcIXbt2bcmSJUuWLKmrq5ORkcGFMjIyHz9+vHHjRp8+fTjm9fLly4qKCmNjY4RQfX19SkpK3759+/btu2zZMg8PD2NjYzk5OZ4vIP/cv38/MzPz2LFjQhL2okWLCILAHRqExJ07dyQkJHosi69fv55OpxcWFvbM7AAAoKvEiB+/4lQgCII4fvx4WFjYwIEDGQyGpKSkoqLimTNnWqdwASIIQktLi0KhdOm1sh1qamqqqanp378/D9v8l6mpqSGRSDz/MixdurSysrL1xR6EUGVlpaurK36LMAAACBuhe/RWTEzs119//fXXX/HhxX+qu7ikpCSk8Pa1+SJevrpw4QL03gcACK2e+DeU7vkPPvElKkpLS4XtEg6flJaWfv/+vfPdKgEAoIcJ3RV1kUAQRL9+/XR0dKKjowUdS08rLCwcO3asmZnZ1atXBR0Lz6ipqX3//h3ufwMARI7QXVEXFePGjTMyMhJ0FAIgJyenqak5ZswYQQfCS0OHDhV0CAAA0B2QxYWImZnZp0+f3r17JyUlJehYfkhGRubVq1eCmvvEiRN79+794sULQQUAAABCBbK4EKmtra2qqoJ7HO2or6+vr68XdBQAACAsIIsLkcjISEGHIOw+fPgg6BAAAECICG8fdQAAAAC0D7I4AAAAIKogiwMAAACiCrI4AAAAIKogiwMAAACiCrI4AAAAIKogiwMAAACiCrI4AAAAIKogiwMAAACiCrI4AAAAIKrgDawiIDw8/O3bt+wl4uLiAwcOVFZWnj59et++fQUVmPCora09efIkHhYT+/v/dqWkpIYNG6apqamrqwv/VQ8A+FeCLC4CMjIyYmJi3r17V1NTo6CgoK2tTRAEQRBJSUktLS2bN28+ffq0uPh/+rLK9+/fY2JiKisrU1JSEEK6urqysrIEQZSXl6elpWlqat65c2fcuHGCDhMAAHjsP/3TLyr27NlDo9G0tLQQQgYGBjQaLSYmJjY2Njk5GSF09uzZffv2CTpGAevfvz+NRjt+/DgevXz5Ml5LqampNjY2Hz9+nDJlCp1OF2yQAADAc5DFRdiIESNGjRqFEPrzzz8FHYvwmj9/PkKooaEhOjpa0LEAAACPQRbno+bm5vfv3/Pv/8Jra2vfv3+PEFJXV+fTLPiKIIj09PTGxka+ziU+Ph4P4CMeAAD4N4H74nzBZDIPHz6ckpIyd+7cvXv35uXlPXjwYOTIkdy3XFZWFh0dTRBEQ0PDgQMHEEILFiw4c+YM9y33sKioqEOHDllbW9vb20tISJibm2/evJlXjb9586a6uhoh9OLFi3Pnzg0fPtze3n78+PG8ah8AAIQEZHG+WLduXWZm5vPnzyUkJCorK52dnRUVFTv/8aKiIiUlpTYnVVRU0Gi05ubm3NxcOp2uqak5c+bMQYMG8SjwHhIcHGxlZfX+/Xs1NTV9fX1tbW1ra2setv/27duioqLy8vIPHz4ghCgUirGxMQ/bBwAAYUGArmMymUZGRgcPHmxz6rNnzxBCEREReHTLli06OjqdbHn//v3GxsZmZmatJ+nr6yOEFi9ezCqpqakxMDBACGloaNTV1XVxIf7f+/fvFRUV3dzcOModHByUlJRycnLYCwsLC4cPH25nZ9ft2VVWVsrJydnY2ODRhw8fIoQKCwu73SDLo0eP8Lf67du3rMLQ0FBc6Ofn96MPGhkZGRkZcR8AAAD0MLgvznshISHS0tJz587Fo1Qq1cjIqJOf9fDw+OWXXzpZWUZGZtmyZQihjIyMsLCwboSKiYmJffv27du3bxzl9fX1VVVVDAaDvVBcXPzbt2+VlZXdnl1cXFxVVdXPP/+MR6OiolRVVX907YF75ubmsrKyCKHTp0/zaRYAACAocEWd9zIzM8ePH08ikRBCX79+zcjI8PDwSEtLU1JSotPp9+/f37lz59OnT5OSkjZv3pyXlxcbGzt37lz8IFlXycnJ4YGmpqZuB6ytrV1fX9+6/NKlS5cuXeIoHDx4MDcpHCGUmZmJENLT08OjVCrV0NCwsbExLS1t9OjRPj4+ZmZmDQ0NERERxsbGysrKoaGhI0eOnDdvHkIoJiamvr5+xowZQUFBkpKSlpaWHb7ORUxMrF+/fjU1NS0tLdyEDQAAQgjOxXlv2LBhAwcOxMNnz55FCJmYmLi4uDCZzMDAwPT09KVLl6qpqfXq1Wvu3LmlpaWmpqbLly9nb6F1ZiLYOrqzhqurq0+dOoUQ0tbWtrCw4N8S8dawYcPIZLK8vDxC6OXLl0lJSQYGBjdv3vzw4cPZs2cVFBQWLlxYVFS0cOFCc3PzO3furF69evfu3Xl5eTk5OcnJyTt37nRzc1u4cGFwcDC+Go8RP3gWICAgIC8vDyF06NChnllAAADoMXAuznu2trYrV6588uTJx48fKysrpaWlAwMD+/btKy4ubmlpaW1tffny5dGjR9+6dcvMzGz+/PkvXrz46aef2FvgSEgnT558+PBheno6Qujly5cUCgX985hWZWXl/PnzL1y4IC0t3ZPLyI1FixapqKj4+fkNHjz41q1burq6qampb9++jYyMfPv2bXR09OrVq+fMmfPXX38NHz58165dCKHS0lIZGZmSkpK1a9e6urq6u7vjboP4UjlCqLy8/Oeff66qqsKjmzZtwpPq6+sTEhKUlJQcHBzWrFkjqEUGAAA+gSzOe5MnT46MjMzJyTEyMtqxY8fBgwczMzO3b9/eu3dvhFBBQQF+5CkmJsbT0xMh9OzZM3Nz83YaXLx48aRJk1ijOMfj8/Vx48b179+fr4vDc5KSku/evXv9+rW4uPitW7daWlri4+P37dsnJSU1ffr0/fv349USExNjamqKEHr37t3YsWP79+/fv3//x48fGxoaSkhI1NbWZmVlsTocyMrKurm5sc+FtZakpaUnTZr0H39DLQDg3wqyOFfYT5rZL4OPGDFixIgReHjo0KFDhw7Fwy9evJg2bRpCqKGh4e3bt5MnT0YIhYWF3blz5+DBg4cPH25zLqNGjfqXvbFERkZmxowZeFhCQsLExAQPt7S0vH//Hh+yxMTE2NvbI4TCwsLMzMwOHTrk5OQUFxeHnxn7888/Fy1aFBwcrK+vr6KiIikpiS9RdN6PrsADAIAIgSzefdeuXYuNjcXDBEFER0d32NOqoqJi7dq1CKEvX77Y2dlJSEgghBYvXvzgwYM9e/YghM6ePZuQkPDt2zc3NzdbW1vW/fX/iPz8/M2bN+PVIi8vjxPz1KlT4+Li5s+f36tXLyaTaWZmhhAaO3bsu3fvpKWlVVRUujEjgiAoFApre6WkpMB/pQAARJEYnJF0D6vPFAt0nhIhBEFwXIFXVlZev369oOIBAIDugSwOAAAAiCro8gMAAACIKsjiAAAAgKiCLA4AAACIKsjiAAAAgKiCLA4AAACIKsjiAAAAgKiCLA4AAACIKsjiAAAAgKiCLA4AAACIKsjiAAAAgKiCLA4AAACIKsjiAAAAgKiCLA4AAACIKsjiAAAAgKgS+Sye6K6m7p6IEKKHWqtZh9J/UI1taqK72kY81P5HAAAAACEnIegAeGbA0qtZS7s5FQAAABBFrc/FE93VNoYmhlqrqampqalZh9JRorva/4+wVeMspYdaW4eG4nLW6XEbH+Wc3d/wKTUu+WcYj1mH0hE91FrdPZFVmzWdhf3EunW1f6YmuqtZBKJoxylsLXCekie6q21M/KeZ1jMCAAAAhESbV9SjHb2RZ1ZWVlaIVazjFDVvrfi/R5x8WYnWItszPisrKysrRNVxCisHxjpG4MouE+ih1lMiFuI6WSGqjgZt5MNEdzULFIKrxB/PtrAOpSM0wSXec3qgdygdIZTobhFoFXJ16QCEEGIGWvwdSrxntsUP8ys91Prv4EKsAi04ak1wyQqxQhTP+CyXCf+UDTBaaBQbEftPGk+MuG61bcLfldmqAQAAAEKm7fviVvY4b05YaIXE2UaY2dl0hOih3oFGnp64FE1wCbGKdfw7vSOjhUa4ONHXEbHqoAkuIWsDL3Kcj9NDva9bhfyTJgcs9fREuJ0BS+2tYh0dQ0PdLdgqIMSa6YCl9lboekSbaZweGxH7dxSdzcL/k8YTIwLXLoTUDQAAQAR0fF98utZQjpLC9FhxVfsBrPGhWkYonaMOPTsbxQZOUXNkKzPybNUOMzBWLZC9zMoeIYQPDdQsHGOtQrL+P6GKq6qyZjpUy4gZkU1HrdNtYXosYo+uMwYstbdyvBhLX7p0AD072wqSOAAAAJHAz95tRp7xV5e2n07FrUI+t3e2nJ1NRxO6lpG7Z8JCq+jlvolLt2Q7qS783AMzBAAAALjWnSfNhmoZ4UvrfytMj21VZ4CqKopNL+xSO2wS3S2uW4WEWMU6Ov7/ZXj2yoXpseyn5v/bKvpBq+2ZsNCKGRgRGhsBl9MBAACIiu5k8X9uW//TH9wi0MhzC2fqm7DF0yhw+f90Nefsjva/7bB1FU90twi0CnaZgG+5/38eZ91+p4d6BxodbzVP3CrbTe7/fzS8YxMWWqFAR0dVSOIAAABERfeuqE9wyQpxV/v7rvcPLpwPWHo1JF3N4p/b3lYhbXQ0m+AS72k95Z+757gheqi1RaCRZ/zfvcRDrNQsHEONrhohhIyskLeaWuzfzf3oYj2eMW7UyDPehbPahIVW0RZT1CI84//3Pv2ELZ5G19PZk/jfXeihmzoAAADhJEYQhKBj6JS/H1zr6EY7l7NwRJ78nAMAAADASyL/BlbeocdGoH+ekwMAAABEAGRxhBC+bT8lYqEnnIcDAAAQISJzRR0AAAAAHOBcHAAAABBVkMUBAAAAUQVZHAAAABBVkMUBAAAAUQVZHAAAABBVkMUBAAAAUQVZHAAAABBVkMUBAAAAUQVZHAAAABBVkMUBAAAAUQVZHAAAABBV3ft/cYCoVGpsbCx7iZGR0YwZMwQVDwAAABEVEBCQn5/PXuLm5tbJz0IW76aYmJjDhw8bGxuzSoYPHy7AeAAAAIio5OTk5ORkPFxdXZ2UlOTq6iomJtaZz0IW5wqVSmWt6E6u8a46evQolUrt37//nTt3+NE+v339+vXAgQNZWVkrVqzYunWroMMRDdXV1fv3709PT58zZ46Tk5OgwwHtcXJyev36tYaGhq+vr6Bj6aba2lonJ6e0tDQKhXLw4EFBhyNKPD09nz17Jisre+/ePW7aOXfuHOv/RaOjo2fOnNn5z8J9ca6IseHTLKZOnZqZmVlZWcmn9vmtd+/ekydPjomJIZFIgo5FZJBIJAqFQqPR4I+DhRyTyTQ2Nk5OTq6rqxN0LN0nLi5uampKo9GYTKagYxEx+vr62dnZFRUV3DfV7VQCWVzYUSiU6urqOXPmCDqQbpKXlx8xYgRCaN68eYKORWTIyMioqKggWGlCT1xc3MjISKT3UIRQnz59Ro4ciRCaO3euoGMRMcbGxt++fRPs1ocsLuwSExOrqqq6dIFF2MTExKirqw8bNkzQgYgSGo3Wr18/HR0dQQcCOvD8+XMGgyHSWRwhRKPRpKSk9PT0BB2IiElLSysrKxPs7zNkcb6rr6+/e/duUFAQg8H4+vVrVz9OpVIVFBSkpaW9vLxev37Njwg7VFRUdPHixdevX1dXVzc0NHT149HR0cbGxk+ePPH29u7GGhBRJSUlPj4+sbGxDQ0N1dXVXf04jUYzMTGJjY09e/YsR+dVwENfv369dOnSixcv6urqampqutFCdHS0pqZmcXHxmTNnUlJSeB5hZ2RnZ3t7e6emppaVlTU3N3ejBRqNRqFQ4uPjz549m5OTw/MIhVNFRYW/v/+ff/7Z1NRUXl7ejRaoVKqcnJycnJyXl1d8fDzPI+wMyOL8FRUVtWzZshEjRjQ3NyspKZmZmXW1hZiYmJaWlocPH65evXrXrl23b9/mR5w/wmAwXF1dPTw85s+ff/HixZEjR164cKFLLTQ2NiYkJKSkpLS0tMycOVNLS4sn95CEGUEQp06d2rdv3+zZs4ODg0eMGHH8+PEutcBkMqlUamZmJp1ONzc3nzhx4n/nh7XHMJnMo0ePHjx4cN68eTdu3FBRUTl16lQ32qHRaFVVVfHx8ZaWlpaWlpGRkTwPtR1NTU329vZXr141Nzd3dXVVV1f//fffu9oIQRBRUVF5eXkFBQVLly6dOnXqp0+f+BGtUPH399+6dauhoWF8fLySkpKjo2M3GomJiWEwGOHh4WvWrHFycrp27RrP4+wYAboF9+RkMpnt1ElNTUUIpaen41FtbW0bGxvWVCaT+eDBA/b6zc3NERER7CUMBkNKSurAgQN4dMeOHQYGBni4pqYmKiqKvXJlZSXuD8VDLi4uysrKeDgtLQ0h9PTpU9bU0tLSly9fstf/8uVLQkICe8nDhw8RQmlpaXh00KBBXl5erAY/f/7Mqvnq1SsvL6+UlBQexj5u+sUAACAASURBVJ+amtrU1MRRWFNTk5ub27pyWlra9+/fuZ+pl5eXgoJCS0sLQRAlJSUIodu3b7OmVlRUxMTEsNen0+lxcXHsJfignkql4lFtbW0XFxc8nJOTw9tVxKGuri4zM7N1eUZGRkNDA0dhQ0NDRkYG9zNNTU1tbm7mKOT3Zjp+/PigQYMYDAZBEPhqR2hoKGtqeXn58+fPO2wEn76fP38ej65cudLMzIzVQmxsLHvl1vsL92xsbKZPn46HqVQqQoj965Gfn5+YmNhhI0lJSQihR48e4dHJkyfv3bsXDxcUFLx7945V8927d/ikk2cL0MWvVmZmZn19PfczvXnzppSUVE1NDUEQDAaDRCLhXuJYbW1tZGRkh40wmUw5OTlHR0c8unfvXl1dXVYLz549615sUVFRHSYXdpDFu6kzWdzQ0FBVVRXXqampIZFI165dw5POnj27ePFiHR0dVuXjx4/Pnz/f0NCQvYU3b94ghP766y88am5urq6uThDErl27TExMrKyscDk+HjcwMLC3t+fdIhIFBQVkMpmVP/BhJt6FKioqtm/frqOj4+HhgacWFxdv3bpVW1ub9YuGOTo6so4D6uvrSSQSfoZqw4YNSkpKrB+O06dP37t3LzMzk0Kh+Pn58ST+8PBwhNCWLVs4yvX19UkkUn5+PnshPoVau3YtlzOtqqqSkpLatm0bHn3w4AFCqLCwkCCIxsZGOzs7AwOD3bt346nV1dXbt2/X1dV1c3Njb+T48ePS0tL4OIDJZMrKym7evDknJ2fTpk3q6uo3btzgMsh24P5Nqamp7IXv3r1DCC1evJij8s8//8z+/eyeP/74AyFka2vLUT558mQSiYRXHcvTp08RQqxvfreVlZWRyeRdu3bh0dDQUIQQnU4nCKKurs7Ozk5fX9/JyanDdiIiIhBCRUVFeNTAwGD69Om4BT09vX379uHy1vsLT+AL+BcuXMCjnp6esrKy+AenoKBg8+bNmpqa/v7+HbZz9uxZKSkpfGzEZDL79eu3bt26goICGxsbTU3Ny5cv42q///77xYsX8/Pzly5d6urqypNFwF+tJUuWcJTjr9br16/ZCz98+IAQMjU15XKmDAZDQUHBwsICj+I7layDlT179lAolDVr1nTYDl7/rKO9FStW4N86R0fHGTNmWFpadi+8rmZxuKLOLwwGIz4+3szMDD85EBsby2AwDA0N8dQdO3bs2LGDvf6+fftsbGw4GomNjZWSkpowYQJCiMlkPn/+HHd3OnPmzKJFi1jVyGTyuXPnZs2axdtFePHiRXNz84IFC/BodHS0rq6ulJQUQkheXv78+fNTpkxhVVZUVLx06dL48eM5GomLi5s6dSoejo+PZzAY48ePHz16tL+//9ChQ1nVoqKiqFSqmpra5s2bDx8+zJP4x40bN3PmzNYdT5YuXbp48WIFBQX2wtGjR8+ZM2f27NlczjQhIaGhoWH+/Pl4lEajqaqqDhkyBCHUq1cvb29vCoXCqty3b9/z589PmzaNo5EXL14YGBjgZ/Pev39fU1Mzfvx4FRWV3377TV1dncsI27d48eIFCxYoKSmxF44YMWLBggWtO8wvXLhw7ty5uDt9t40fP97U1PRHm6lfv37shVpaWrNmzeL+q/7XX381NzezbyZNTU38lejTp4+3t7eRkVFn2omLixs0aNDgwYMRQnV1dQkJCTo6OrgFExMTVrXW+wtP0Gg0hBD7HmpoaIh/cIYOHerr6zt69OjOtPPixYtJkyZJSkoihD5//lxRUTF+/PihQ4f6+flpaWmxqkVFRUVGRg4bNmznzp1Hjx7lyWNp+KvVum88/mopKyuzFw4dOhR/P7mcKe6Sxtr6VCpVWlp63LhxePTkyZOdvPX5/PlzEomkr6+PR2k0Gv59PnHihLm5OZdBdh689YVfysvLm5ubWVktKipKUVFxxIgRp0+fdnBw6GQjVVVVY8aMIZPJCKH4+PiysjI7Ozt+RdxKaWkpQggfQyCEqFTq0qVLMzMzU1NTO3+Dv6KiYsmSJXg4PDx8+PDh7McfLD4+Pr1790YINTc3y8rK8iB6hJSVldu8Sbl3797WhUOGDHn8+DH3M6XT6Qgh1i9CVFSUoaFhWVnZn3/+uXbt2k42Ul5ezjrgCwsLU1BQWL58eZs1U1JSoqOjBw4cmJmZaWtr279/fy7j37p1a+uX88jJyeGTTg7W1tbW1tZczlFFReXZs2ety/ft29e6UElJCZ+Ocwl/t1m7J5VKNTQ0/PLlS0xMzKpVqzgqU6nU+Ph4Q0PDXr16ZWRk9OnTB58pIoQqKysnTpyIE+fTp0+ZTGZPvtqITqdLS0vjoygGgxEXF7d//358HNn6KOTevXvp6enz589vampKSkrS0tJi1amoqNDV1cXDYWFhcnJylpaWrWfn7u7e1NSE/tlJW1pacOLnRpe+WjIyMmFhYVzOEf2zk7K2Pj76aW5u9vX13bZtG0fl5OTkiIgIHR0dBQWF4uJiOp2+ceNGPKmysnLs2LH49/nNmzclJSXbt29vc441NTU+Pj4aGhpfvnwZNWoUb/u0w7k4vwwcOFBRUVFcXBwhlJeXd/ny5WnTpn369KmoqKjzjaipqbF6nLq6ujo5ObF+3HsAKxUhhHx9ffPz8/X19W/evDlo0KDON6Kurs5gMBBChYWFt2/fvn37Nj6b5zB8+PCBAwe2tLT4+Ph0tS+YUME/Dfg0+u7du0lJSZMnT759+3aX8uvIkSNbWloQQtXV1f7+/tevX2/z4ykpKWvWrNm6devo0aO9vb25T+H/HficCe+et27dSktL09PTCwoKGjhwYOvK+DjJ3t5+4sSJenp67u7urElqamp4SzEYjCNHjpw5c4b95JXf8CE+QRAIoSNHjtTU1EyZMuXGjRv42gCHxMTE2traI0eOTJkyZfjw4efOnWu9FLW1tb6+vlevXlVUVGzdgqKiIn5e9Ny5c+7u7tyncEEZM2YMiUTCW59KpUZGRurp6YWHh7f50xQcHDxp0iR7e3ttbe25c+eyH1xy/D7v3r3b1NS0dQuNjY3Tpk2bP3++mZnZ4cOH5eXlebs4cC7OR+fOnfP09MzIyPj48aOXl9eJEydsbW3xHbhOsrS0/P333+3s7MhksqGhYQ+/HNHY2HjVqlWrV68eOnRov379tmzZ4uvrq6qq2qULg8ePH1+9ejWTyUxLS3v06BHrkL9Njo6OW7duZZ27iyItLa2dO3fiG4pMJtPJySkoKGjIkCH29vadb+TQoUPm5uaHDx/OysoKDAxkvwjPbv/+/ZaWlpKSkh8/fmS/fgs6pKOjs3Xr1g0bNqirq5NIJAcHh2vXrg0bNmzPnj2tK7u7u69bt2779u0kEundu3ejRo1iTbK1tQ0PD3d0dKyrq9uyZcumTZt6cCGQhYVFQEDA+vXrpaWlNTQ0zM3Njx49Onbs2DZvu7i7u0+bNu3o0aMIocTERE1NTdYkFxeXRYsWubm55eXl+fj4tH9f6dixYxQKxdbWlueL02MGDhzo6uq6Z88ePT29L1++eHh4BAcHJyQktHlVwMPD48CBA7/88ouMjMyLFy/Y19vy5ctv375ta2vbp08ffX39H/0++/v7y8vLjxkz5tu3b/X19Tx/CQRkcT5asWLFihUrCILAF9w2bNjQ1RYkJCRw/y/Et/e0ty8oKIjLuWtpaeFesh22cPTo0fnz55uamuIfpu7NThjgTvioKyuN+N83raqoqCQmJnb4qQ8fPjg7OyOEnj9/zv7HPKAzLl261PnN9OrVq0OHDiGEnj59unz58uTkZHzRRVpaGndu6mQ7vCUuLv748WPWztX+kWJLS0t6ejruhPHkyZOLFy+ylmLo0KGd+b4hhHx9fdXU1JYvX37z5s2VK1dKSIhqBnFxcTlw4AD6Z6u1efuG5eXLl6ytv2LFipSUFHydUlxcPCwsrMOt//HjR7x7xsXFGRkZ4WsAPARX1PnuR1s3MzOzrq6O/bnMjIyM6urqrKys1i1wNMJkMrOzs4uLi1nX51taWvLy8goLC/GjTTz0o1f71tfXf/nyJScnh/VKk5qampKSkszMzG/fvrVuhKOktLS0trYWPzWEELpx44afn5+7u7uxsXFwcDBvF6Hn/Wil4c1UUFBQVlaGSxobG4uKivLy8jrzqvyKiory8vJPnz7ht3ZraWnJy8tnZWUFBwd3sjcWYPejzdTU1FRQUJCfn4/fbVBRUdHU1IRvP1Op1EmTJuGe1e20w9ECamt/4eFStFleVVVVVlaWkZGBvy1v377V1dWVkJD4/v17fn6+uLj4ly9f2m+5urqaTqdnZGTU1tYihKKjow8dOnTx4kVjY2Nvb2/RTeHYj7Y+QRBZWVklJSWFhYUIIQaDkZiYiLvoUqnUGTNmxMTEtN8ORwt4P21qavL09OTHfipGwN8tdIurq+vhw4eZTGb3DsCvXbuWnZ2Nh9esWaOurv7bb7/hlCwmJrZ+/fr2/+f0+PHjrHeo7dmzR1ZW9tChQ6wuo87Ozvy+ZdXQ0MC6e00mkw8cOFBVVeXl5YVLZGRk2uxBxpKTk4MfukMIDR8+fMOGDVeuXCkoKMBTR48evWLFCn6GLzCurq6sYRcXFyaT6eHhgUdJJFL7d0yKi4t9fX3xSlNQULCzs2tsbLx9+/bgwYN/+eUX3GEHcI/BYLA/JeHm5lZSUoKfN0EIhYSEfP36tf1OpkwmE5+6sVpobGzk2F/4E/v/KysrO3/+PB6Wl5ffuXNneno6nU7HJ4WXL1+WkpJas2ZNJ1uQk5PbtWtXcHBweno6LlFSUurh2wc95uTJk/ioBSG0e/duSUnJ4ODgdevWIYSePXuWmJi4Y8eOXr16dbKFXbt2ycnJPXnypKGh4cCBAwEBAR2+5pZKpc6cObPzyQWyeDdxmcUB4JXr16+HhYV1qb8FAKCHlZWVqaurl5eXd3hFvatZHK6oAyDCIiMjb9++3dzcjF+/BQAQQvn5+XZ2drq6ut14P26HRPvGBgD/caampm0+3AIAEB7Dhw/n319gwLk4AAAAIKogiwMAAACiCrI4AAAAIKogiwMAAACiCrI4AAAAIKogiwMAAACiCrI4AAAAIKogiwu7o0ePmpqaiu4bSb9+/bphwwYTExMfHx9BxyIyqqurt23bRqFQRPpPWv8jnJycZsyYsWXLFkEH0n21tbXbt2+nUCjsr54FneHp6Tlr1izW/80LBGRxYTd16tTMzMzO/FWGcOrdu7eenl5MTAz+y23QGSQSiUKh0Gg0eEGykGMymcbGxsnJyfgfR0SUuLi4qakpjUZj/RcD6CR9ff3s7GzWf94IBGTxbuqxrzuFQqmurp4zZ07PzI7n5OXllZWVEULz5s0TdCwiQ0ZGBv+DFqw0IScuLm5sbCzSeyhCqE+fPiNHjkQIzZ07V9CxiBhjY+Nv377xduvj5NL5I3jI4t2UmZkpLS3dA6fIiYmJVVVVM2fO5PeM+Cc2NlZdXX3YsGGCDkSU0Gi0fv366ejoCDoQ0IHY2FgGgyHSWRwhRKPRpKSkOvy7LcAhLS2trKyMt7/Pb968kZWV/fDhQyfrQxbvphEjRtTV1TU3N3dYs76+/u7du0FBQQwG4+vXr12dEZVKlZWVlZaW9vLyev36dbeC5VZRUdGlS5dev35dXV3N+kfUzouOjjYwMHjy5Im3t3c31oCIKikp8fHxiY2NbWho6MZfStNotGnTpsXGxp49ezY/P58fEQKE0NevXy9duvTixYu6urqampputBAdHa2qqlpSUnLmzJmUlBSeR9gZOTk53t7eqampZWVlnflRao1Go02fPj0+Pv7cuXM5OTk8j1A4VVRU+Pv7P378uKmpqby8vBstUKlUaWlpOTk5Ly+v+Ph4nkT1008/1dTUdP6XFrI4f1GpVD09vcGDBzc3NyspKeG/KO4S/I/0Dx8+XL169a5du65cucKHMH+IwWC4urquXr163rx5Fy9eHDly5IULF7rUQmNjY0JCQnp6ektLy8yZM7W0tP71OYkgiFOnTi1ZsmTWrFl37twZMWJEVzupMZlMKpWam5tLp9PNzc0nTpz48eNHPkX7n8VkMo8ePbp8+fK5c+dev35dRUXl1KlT3WiHRqPV19e/evXK0tLS0tIyLCyM56G2o6mpyd7e3sHBwczMzNXVVV1dvRv/mkUQRFRUVEFBQUFBwc8//zx16tR3797xI1qh4u/vP3PmTAMDg1evXikpKTk6OnajkZiYGHFx8fDw8NWrVzs5OQmmDy8BuuXXX39FCBUXF7dTJzU1FW9mPKqtrW1jY8OaymQyHzx4wF6/ubk5IiKCvYTBYEhJSe3ZsweP2tvb6+joEARRXV3t4+Nz7969lpYWVuXKykrcH4qHXFxcFBUV6+rqCIJIS0tDCD19+pQ1tbS09OXLl+z1v3z5kpCQwF7y8OFDhNDbt2/x6KBBgzw8PAiC+PDhw5kzZ1jlBEGkpKR4eXmlpKTwMP7U1NSmpiaOwpqamtzc3NaV09LSvn//zv1Mvby8ZGVlKyoqCIIoKSlBCN2+fZs1taKigvWVwOh0elxcHHsJPqj/888/8ai2traDgwNBEFlZWV5eXhzrnLfq6uoyMzNbl2dkZDQ0NHAUNjQ0ZGRkcD/T1NTU5uZmjkJ+b6bjx48rKChUV1cTBIGPLENDQ1lTy8vLnz9/3mEj+PT95MmTeHTlypVz584lCIJOp58/fz4iIoLJZLIqt95fuGdjYzN27Fj8O0ClUhFC7HtQfn5+YmJih43gv7W9f/8+Hp08efK2bdsIgsjNzfXy8mJfD5mZmfikk4eL0KWvVmZmZn19PfczvXXrFplMzsvLIwiCwWCQSKRz586xptbW1kZGRnbYCJPJlJOTs7e3x6N79uzR1tYmCKKmpsbPz+/u3bvsv8+dd+nSJYQQxw9pOyCLd1NnsrihoaGqqirejWtqakgk0rVr1/Cks2fPGhgY4JSMHT9+XE9Pz9DQkL2FN2/eIIRY+4y5ubm6unp9fb2rq2tpaamdnd306dObm5ubmprs7Ow0NDRY3yeeKCgoIJPJBw8exKPXrl1DCOFdqKKiYuvWrcrKyjglEwRRXFy8adMmJSWl8+fPszfi6OiorKyMV0J9fT2JRNq/f390dHRQUFB2dra2tvapU6cIgnj48GFYWFhGRoa6urqfnx9P4g8PD0cIbdmyhaNcX1+fRCLl5+ezF0ZGRiKE1q5dy+VMq6qqpKSk8I8gQRAPHjxACBUWFhIE0djYuH37dnV19d27d+Op1dXVtra2qqqqbm5u7I0cP35cWloa/wQwmUxZWdnNmze/e/fO19e3oKBAT0/P2dmZyzh/BPdvSk1NZS/EZ2aLFy/mqIwfsPnrr7+4meMff/yBELK1teUonzx5MolEwquO5enTpwghKysrbuZIEERZWRmZTN61axceDQ0NRQjR6XSCIOrq6rZv366qqurk5NRhOxEREQihoqIiPGpgYDB9+vTy8vIjR46UlpZaWlouWLCAaGt/4Ql8Af/ChQt41NPTU1ZWFu9rBQUFVlZWgwYN8vf377AdLy8vKSkpfLzLZDL79eu3bt26z58/X7hwobCwcPr06fgg8vXr1wEBAfn5+ZMnT3Z1deXJIuCv1pIlSzjK8Vfr9evX7IX4VrGpqSmXM2UwGAoKChYWFngU36lknVHgZLxmzZoO28HrPzY2Fo+uWLFCWVn5+/fvzs7OpaWlu3fvnjJlSjeOOCGL95AOs3hLSwv7zwQ+Jc3OzmZViIqKYs/iBEH88ccfHFkc7134e8BkMhUUFJYtWxYaGkomk5lMZlNTk5SU1JMnT3BlV1dX3mZxfGmOdQxhZWWlq6vLXmHLli0cv0qWlpYcWdzAwGDlypV4GJ8r3LlzZ9WqVbjw3r17cnJyBEEsWLAAX6gIDAxUUlLiSfy5ubmmpqZ3797lKPf09DQ3N+c4oi8qKpozZ87Nmze5nOmzZ88QQg8fPsSjDg4OrCM5zNnZmZXFMTs7O44svmjRolmzZuHh5ORkhNClS5e2bduGC/Fje62vMfDEpUuXFixYUFlZyV5YWVm5cOFCHx8fjsoBAQHz5s0rKSnhZo45OTmmpqbs58HY8ePHf/75Z47NVFhYOGfOnFu3bnEzR+Kf/fHZs2d41M7OTlNTk30z7d27tzNZ3MnJadCgQfiDtbW1ZDJ5+/btly5dGjJkCEEQVVVVCKGkpCRcufX+wiVvb2+EUE5ODh6dN2/e/Pnz2SuYm5t3JosvW7aM9cvz6dMnhNCZM2ccHBxwIU5ytbW1mzZtwgclz549I5PJDAaD+0Xo0lerpqZm8eLFXl5eXM70/fv3CKGAgAA8yn7QjJ07d64zWfzixYvse6KiouKSJUsePHhAJpMbGxtbWlpkZWU5Lrh2RlezuAR/rtMDVF5e3tzczOpjHBUVpaioqKKicvr0aQcHh042UllZOWbMGElJSYTQq1evysrK7Ozsxo8fHx0dLSYmJi4ujhASExPj0yKUlpYihCZMmIBHqVTq0qVLMzMzU1NTO3+Dv6KiYsmSJXg4PDx8+PDhixYtmjhxIoPBQAjhh8gJgjh9+jSZTMYlvHqyXFlZGedUDnv37m1dOGTIkMePH3M/UzqdjhAaN24cHo2KijI0NCwrK/vzzz/Xrl3byUbKy8sNDQ3xcFhYmIKCwvLly2tra/FDyeLi4uLi4vgwMSUlJSgoSEpKSlZWdt26df379+cy/q1bt27dupWjUE5ODl9U4GBtbW1tbc3lHFVUVNrcTPv27WtdqKSkxMPNNH78eDxKpVINDQ2/fv0aExOzatUqjsrv37+/fPnysmXLMjIyUlNTDQ0NWW/5qKysnDhxIt4Hnz59ymQyt2zZoqioOGnSJPTPI0P820PpdLq0tDR+kpPBYMTFxe3fvz8hIaGhocHIyIijckxMzL1799atW/f8+fPMzMxly5ax6lRUVOjq6uLhsLAwOTk5S0vLpqYm3CtTTEyMRCIxGIz9+/fjLlckEklCQqKlpQX/NHGjS18tGRkZnnQ7wL9srK0fHR1taGjY3Nzs6+u7bds2jsr5+flnz56dOXNmRUXF+/fvNTQ0Nm7ciCdVVlaOHTsW/3C9efOmpKRk+/bt+vr6VCq1V69euA7e+jU1NadPn25ubsZP6/C2TztkcX4ZOHCgoqJinz59EEJ5eXmXL1+eNWtWRkZGYWFh5xtRU1Nj9Th1dXV1cnLCP+7Tpk1DCF2+fHnChAkzZszgQ/gIITRu3DgSiYR3VF9f3/z8fH19/Zs3b3bpoVJ1dfWWlhaEUGFh4e+//x4aGiolJaWmpoYQIgji/Pnzzs7OYmJio0aNQgi1tLT4+Pg4OzvzZ4F6Av5pkJaWRgjdvXs3KSlp48aNt2/fxovcSayVVl1d7e/vf/369f79+7My9Llz5xwcHKSkpFJSUtasWfPmzZt3796ZmZnt3r2bDwv074Q3E949b926lZaWtmPHjqCgINYxK7vQ0NCpU6du3bo1Li5u2rRpq1atYmVxNTW13NxchBCDwThy5MiZM2e0tbURQgoKCgih8+fPL1y4kHVIx3NjxoyRkZHBeeLIkSM1NTVTpky5ceOGnZ1d68rR0dEKCgr79+9/8ODBkydPzp07x8riI0eOxN+32tpaX1/fgIAARUVFhBB+OtTb29vOzq5v3759+/bF9c+dO7d3717uU7igaGtrk0gkvPWjo6MjIyOdnZ3Dw8OlpKRaV7569aqZmdkvv/zy6tWrZcuWKSkpsbI4x+/z7t27TU1NEULTp09HCAUEBGhqas6dO7exsXHatGlBQUGampqDBw9+8uQJbxcHsjgfnTt37uTJkykpKR8/fvTy8jpx4oStrS2+A9dJlpaWt2/ftre3l5CQMDQ0PHjwIGvS27dv379///DhQ/69E83Y2HjZsmWrVq0aNGhQv379tmzZ4uvrq6qqOmXKlM43cvz48dWrVxMEkZaW9vDhQ9YhP0LIy8tr2bJlNjY27JW3bt26Zs0aXi5Gz9LS0tq5c+f69etHjhzJZDKdnJyCgoKGDBlib2/f+Ubc3NzMzc0PHz6clZUVGBhIoVBYkwICAvT09Pbs2YMQcnZ2trS0lJSUzM3NZZ27g87Q0dHZunXrunXrRowYQSKRHBwcrl+/PmzYMLxiOWzfvv3AgQO7du2Sk5N7/PgxPuLEbG1tw8PDHR0d6+rqtmzZsmnTJtYkGo1WVVV1584d/i2FhYVFQEDApk2bevXqpaGhYW5ufvTo0XHjxqmrq7euvG3bNktLywMHDpDJ5OTkZE1NTdakAwcOLFq0yM3NLTc318fHZ/bs2axJt27dGjVqFL6BiPn5+ZmYmOzcuZN/y8VvioqKrq6uO3fu1NXV/fLli4eHR3BwcEJCAu7lwGHbtm1+fn7W1tZDhgx58eIF+3pbvnx5UFCQra1tnz599PX12X+fk5OT37x58/jxYxKJ5OPjIy8vP2bMmG/fvn3//p3nL4GALM5HK1asWLFiBUEQ+GB5w4YNXW1BQkICd1RG/3tdLjMz89GjRxcvXvz06VN6erqBgQEPw2aHO1cjLq4Kamlp4V6yHC3cvXtXTU1tyZIlV69exZfObty4MWXKFFNT04CAgPXr13MfvKDg+3aoKyuN+N/3NKmoqCQmJrau9uTJk969e+/duzcoKGjZsmXp6en79+9HCD1//tzY2JjrwP9bLl261MnNpKCgQKVSnZycEEJPnz5dvnx5Xl4evo4tLS2Nu3BztJOUlBQfH3/mzJlXr17JycmNHj2aH4sgLi7++PFj1tzbP1KUl5d/9+4dvoz35MmTixcv5ubm4lcEDh06FH/fOPbTqKgoBoPh7OwcEhIyZ84cWVnZR48eycvLb968+ebNmytXrpSQENUM4uLiwr7V2rx9gykoKERFRR06dAgh9PTp0xUrVrC2Pn7GrPXWz8nJuX//yi23UQAAIABJREFU/sWLF3NyclJTUz98+IB3z7i4OCMjI3wnlIfgeXG++9FvBJ1O53hvDJ1Or6mpwTeMOVpgb6SsrGzOnDmRkZHGxsZmZmY//fQT6+Pde3FB+zjmzq60tJRjjuXl5W3GwNFCeHj4rl27zpw5Y2xsjLu+37hx48CBA+7u7sbGxnfv3uVd+ILRzkqj0+kcb11uXdKm2NhYKysrPz8/Y2PjkydPkslkLS0teXn5rKys4ODg1vdBQYc6uZkqKiqamppwwqNSqZMmTcL9NH/UTl5e3rx58x4/fmxsbLxu3bohQ4bg8tb7C1+XgiCIsrIy1hzfvHmjo6MjISHx/fv3/Px8cXHx1m8HY28nPj5+zZo1V65cMTY2dnNzk5WVjY6O3rBhw8WLF42Njb29vUU3hWPtb33WemMwGImJiVOnTkUIUanUGTNm4IdfftROZWWlqalpdHS0iYnJ4sWLZWVltbW15eXlm5qaPD09+bGfihHwdwvdsn///mPHjhUXF+MbSF117dq17OxsPLxmzRp1dfXffvutqKgIISQmJrZ+/frhw4f/6LOJiYnsXTycnJx69+596NAh1qvdnZ2d+X3LqqGhgfUmEzKZfODAgaqqKi8vL1wiIyPTZg8ylps3b2ZmZuJhVVXVtWvXXrlypaCgAJeMHj1adP/DrX2urq6sYRcXFyaT6eHhgUdJJBL7FbnWQkNDcd9ahNCgQYO2bNnS2NiIH8WxsLDA3bUA9xgMBvtfe7m5uZWUlMTHx+MenSEhIQwGo/3vZ1xcHH5wESEkJibm6uraen/hW/h/KysrO3/+PB6Wl5ffuXNneno6nU7HJ4UBAQGDBg2aP39+Oy2EhYWxLggpKChs3749ODg4PT0dlygpKbHfPvg3OXnyZG1tLR7evXu3pKRkcHDwunXrEELPnj378uXLypUrWZ3XWktJSbl37x5rdO/evdLS0gkJCWJiYlZWVviOWPsB+Pj42NraJiQk4D6SHYIs3k1cZnEAeOXWrVv37t3rUn8LAEAPq6ioUFNTKy8v7/CKelezOFxRB0CEPX369OnTp83Nzfj1WwAAIZSdne3u7q6rq9uN9+N2SLRvbADwHzd79mz2HsUAACGkqqrKuuHIc3AuDgAAAIgqyOIAAACAqIIsDgAAAIgqyOIAAACAqIIsDgAAAIgqyOIAAACAqIIsDgAAAIgqyOIAAACAqIIsDgAAAIgqyOIAAACAqIIsDgAAAIgqyOIAAACAqIIsDgAAAIgqyOIAAACAqIIsDgAAAIgqyOIAAACAqIIsLowYDMaYMWPmzp0r6EC6Ly4ubsCAAefPnxd0IKLk+vXrAwYMePTokaADAR1wdnZWUlL6/PmzoAPhiqWlpYaGxrdv3wQdiIhZtWqVUK03yOJCqqGhgU6nCzqK7hMXF6+urm5oaBBgDLm5uRYWFo8fPxZgDF3CZDLLysqam5sFHQjoQENDQ2VlJYPBEHQgXKmtra2srCQIQoAxVFRUrF69+vbt2wKMoavq6uoEvt7YSQg6ANAGEomUlZUl6Ci4YmBg0NTUJNgY3r9/Hxoa2r9/f1G5qmFlZWVlZSXoKEDHzpw5c+bMGUFHwa3w8HBBh4Dy8/ODgoK+ffu2atUqQcfSWcKw3thBFgf/WosWLYqLixs7dqygAwEAtE1HR+fNmzfKysqCDkSEQRYH/2bTpk0TdAgAgPZMnDhR0CGINrgvDgAAAIgqyOJC6suXL5WVlYKOgitpaWktLS2CjqINz54927BhQ2Njo6AD4cRgMFJTU4Wn1wz4ke/fv4t6B3WE0Ldv3/Lz8wUdRdtev379yy+/lJeXCzqQNgjbeoMsLoyamppGjhwp0jd0Q0JCxowZs2fPHkEH0gY3N7eAgIDS0lJBB8LJw8Nj7Nixv/32m6ADAR1YvXq1hobG69evBR0IV4yNjVVVVYVwR0AInTp16ubNm8J5qCRs6w3uiwsjSUnJFStW/PTTT4IOpPt0dXVNTU0pFIqgA2lDSEhIaWnp8OHDBR0IJwqFQqPR9PT0BB0I6MDChQvr6upUVFQEHQhXLCws1NTU5OTkBB1IG3x9fffs2SOc+4KwrTcxuHzXPfv37z927FhxcbGioqKgYwEAAPAv4ePjY2trm5CQMGnSpM7UhyvqAAAAgKiCLA4AQgg1NDRcvHhROO/DAQAQQgwGw9/fPykpSdCBCBfI4gAghFB0dPT27dudnZ0FHQgAoG2pqambNm3atm2boAMRLpDFhdTr16+pVKqgo+DK9evXc3NzBR1FZ1EolFOnTvn5+QkwhqampsuXL1dUVAgwBtAZVVVVV65cEfU33hcUFAQFBQk6ii4YO3bsuXPnQkJCBBtGQUGBUL34HbK4MGppaTExMVm6dKmgA+m+kJCQdevWeXh4CDqQzpKSknJwcJCXlxdgDCdOnLCxsQkMDBRgDKAzbGxsNm7cGBcXJ+hAuLJ48eLVq1cXFBQIOpDOEhcXt7e3Hzx4sGDDWLx4saWlpfCsN3jSTBhJSEj4+Pj06dNH0IF035w5cw4fPmxhYSHoQESJlZUVg8FYs2aNoAMBHdi7d+/EiRMNDAwEHQhXTpw4kZGRMWzYMEEHImKEbb3Bk2bdBE+aAQAA4Dl40gwAAAD4r4AsDgAAAIgqyOIAAACAqIIsDgAAAIgqyOIAAACAqIIsDgAAAIgqyOIAAACAqIIsDgAAAIgqyOIAAACAqIIsDnoCvCKwG2ClgZ4E3zcRBVlc2E2bNk1SUnLMmDGCDqSb4uPj1dTUxMXF3dzcBB2LyEhPTx89ejT+7wdBxwLa09DQMGHCBAkJiRkzZgg6lu7LzMzE3zcbGxtBxyJiKBSKpKSkhoaGAGOALC7soqOjVVRURPd/F6ZMmYL//XDatGmCjkVkaGlpPXz4ECEkutv9P0JKSurFixeysrIi/fUeOXJkZGQkgu9b1z19+lRNTU2w6w2yuLBjMpnZ2dnGxsaCDqT7srKySCSSSP/M9bzPnz8jhCgUiqADAR2orKysqqoS6T0UIZSZmYkQEukrCoKSlZUl2K0PWVzYxcbGMhgMQ0NDQQfSfTQabeLEiSL9R6s9j0ajqaqqwj/mCT8qlfovOEiNjo5WUlIaPny4oAMRMS9evGhubhbs7zP8vzjfxcfHP3r0qLq62sbGJj8/f968eV36OI1GU1dXj4yMzMzM7N+//44dOyQkenSrMRiM27dvJyYmDh48WF9fX0lJSVVVtUst0Gi02bNnHz16lE6nz58/f9asWXwKVagEBwe/fftWVlZ29uzZUlJSY8eO7dLHo6OjDQwMTpw4UVJSYmxsvGTJEj7F+V9GEERwcPCbN2/69+9vYmLSt29fLS2trjZCo9H09fUDAgIKCgpUVFQ2b94sJibGj2h/pKmp6fr16+np6RoaGmpqatra2kOGDOlqIzQazcDA4OTJk1+/fp06deqyZcv4EaqwefToUUxMDJlMtrCw+P79u76+fldboNFoysrKz58/v3Lliry8/K5du8hkMj9CbQ8BuuXXX39FCBUXF7dfzdXVdf369Y2NjR8/fpSWljY2Nu7qjAwMDBQUFF6/fk0QxOLFiz08PLoZcbeUlpYaGhrevXuXIAgvLy+E0Pnz57vUQnFxMUJo/vz5JSUldXV1ZDL506dP/AlWWFRXV8+aNevKlSsEQVy7dg0h5Obm1qUWampqSCTS9OnTi4qKmpubpaWl37x5w59g/7sqKytNTEwCAwMJgrh8+TJC6NixY11thMlkqqqqKisrf/jwgSAIfX19f39/3sf6Y3l5eXp6epGRkQRB7Nu3DyGE99YuaWhoIJPJenp6BQUFDAZDTk6OSqXyIVgh0tjYuGzZsmPHjjGZzCdPniCEtm3b1o12jI2N5eTkXr16RRCEhYWFq6sr97FdunQJIZSQkNDJ+pDFu6kzWfzG/7F354FQ7f/j+F9jjJpQk5Si0ISUlBSVikSpENJytWuhhNx2UummVEqpXHHTIuq6LUqRCDN2WZJ9z56xRMQwzJzfH6/ve37zQZKhMfe+Hn+d85pzXud51td5vc7rnHn4EI/H02g0OEomk+3t7eFwW1tbdHT02bNn2RO3tLRERUVduHCBMwd4Nb979y4c3bdvn4qKSq/L+vLlS1BQkJeX14DXqFerV69etmwZHE5OTgYApKamwlEajRYQEBAQEMCeuKqqys/P7+XLl5w53L9/HwDw9etXOCouLt7rjUhzc7O7u/vBgwfd3Nw6OzsHJfiWlpabN28WFxd3S09MTHzw4EG3xLa2tlu3bhUUFHC/XHNzc2VlZThcXFwMAAgLC4Oj9fX1z58/v3fvHntiGo32zz//PHr0iDOHV69eAQAqKyvhqIKCwuHDh7kPrD8+fPhw584dJpPJmchgMLy8vDIzM7tNnJGR4eXlxWAwuFlic3PzjRs3SkpKuqUnJCT03E2tra2DtZu2bNmiqqoKh3NzcwEAVCoVjtbW1j579uzhw4c/zKS0tBQAEBISAkdNTEz09PR6nbK2tvbJkyf9ybP/WCyWmprapk2b4Ojr168BAHV1dezY7t+/Hxoa+sN8YNc29u317Nmzey3SGAyGp6fn4cOHz58/T6fTB2UVfurQ6urq+uuvvz58+MD9ck+cODFx4kQWi4VhWEtLCwDAz88P/tTU1BQcHHzr1q0fZkKn0/F4/O3bt+Gora2tkpIS97H9bCmOnosPoTNnzmhpaU2YMAEAQKPRSkpKlixZAn968ODBq1ev4FkH+fj4BAYGwtOJDT4U19TUhKM5OTm9NtcwmcwbN24EBASkp6cPYvypqalv3rzZuHEjHKVSqaKioioqKgCAhoYGb2/ve/fuwasYAKC6uvr+/fve3t7V1dWcmVCpVBUVldGjRwMA6uvr6+vre30i8McffygpKV27dq2kpGTfvn2DEn9ISIiNjU3PN9z27du3Y8cO2H2MLSoqytra+uTJk1wutLS09N69e5wbDdaqAQB0Ot3Dw8Pf3x+WGQCApqYmb2/vBw8elJSUcGZCpVKlpaWlpKTgXMXFxb/sMcqhQ4f27NmTmprKmZiSkmJpafn77793m9je3t7S0jI2NpabJQYHB9va2p49e7ZbuqWl5Y4dO+BtEFtERIS1tbWjoyM3SwQAFBYW+vv7b9q0CY7CZtVFixYBAFpaWm7fvu3r61tQUPDDfOBDcbh/MQzLzc3tdU81Nzffvn374cOH3VaHS6GhocnJyeyDLTo6mkwmi4uLAwDKy8sfPXrk7e0NG8P6RqFQJCQk4OtSnZ2dhYWFeDy+52S3bt0iEolXrlzBMGzdunWDsgrw0Dp06FC3dHhoxcXFcSZmZWXt3bv3wIEDXC60tbXV1dV148aN8NlHdHQ0AIB9mXV3d4fPWX6YT2xsbLfrc6/bbaihUnyoNDY2lpSUsPsYh4aGAgDYnSD27dunq6vLOf3Bgwd7dpF4//69mJgYfA7d2tqakJAwf/78nsvC4/FnzpyZMWPG4K4CPI51dHTgKIVCWbx4sYCAAABg3Lhxjo6OkydPZk8sKSnp4OAwceLEnqvA7vgTFhYGAFBXV++5LBqNFhwcjMPhVq5c+ezZs0GJX19f/48//jh69Gi39CtXrri7u8vJyXEmamtrX7hw4cSJE1wuFG40dl9fCoWiqqpKJBIBAEQi8fTp05zLJZFIjo6OPbsUvX//nv3uCryTU1NT4zKwfnJ2dnZ1dVVVVeVMVFdXd3V17VnQnjlz5uLFi1y+ZmNgYPDHH38cOXKkW/rVq1fd3d27dcLQ1dU9f/4897sJNixxHttqamrwFllUVPTUqVNTp07tZz4zZ84UFRUFANTX1+fl5fV6ho4ePfrUqVMyMjJcht1z6QAAPT09OBoVFcW+hkhLS9vb248bN66f+cA7GABAfHw8nU7v9SStra0NCQkBAKxZs+bNmzetra3crwI8tHreasNDix0VpKys7ObmduHCBS4XmpaWxmQyly1bBkcpFIq0tDT7anb69OnZs2f3J5/379+LiooqKioCADo6OuLi4n7ZecoJ9W4bKl1dXQAAdmeZ0NDQ2bNni4iIbN++3dfXt5+ZCAkJKSsrwxvG4OBgQUHBkydPJicnP378GJ5p7e3tRCJx586dQ7QKBAIB3qHT6XQqlXrs2DEKhVJcXLx79+5+ZkIgENi3F8+fP9fW1l62bNmtW7c+fPigoKAgLy+fnJy8Y8cO9jYpKyv72Y5g3yMsLHzq1Kme6To6OuzLNxuRSIRPSbgE97uSkhIcjoiI2LBhQ2Zm5ps3b44dO9bPTISEhOClAQDw/PlzNTU1ExOT+/fvJyYmSkpKKisrp6ammpiYzJs37/79+1VVVWJiYoGBgf7+/uPHj+cyfg0NjZ6lMh6P71nKAgDU1NS4v2yJiIj0upt0dXW73ekCAIhEooODA5dLBP/39GQwGFFRUTt27EhNTY2JibGzs+s28Z07d3JycsTExJYvX56VlVVdXc0udUaMGME+vB8/fiwuLv7777+/e/fu5cuXeDxeTU2NRqPJycmtXbuW+5h7YjKZkpKSwsLCAICGhoa0tDQLC4uAgABhYWEDA4NuE7u6uubn56uoqKirq799+1ZKSmrXrl3wp24nqbKy8saNG/39/ePi4sTFxefMmZORkbFmzRoXFxc4TWlpqby8/MiRI7lfhZ86tAQEBHo2CA0A3PvwU1oYhoWGhi5ZsoRGo129etXV1bXbxM+fP09KSgIArF69uqGhISwszMvLC/7EeX1+8+YNAMDR0fHDhw+PHj1qbm5WV1dnMpl4PH737t2ZmZl//fWXrq7u48ePDQ0NN2/ezP1asKG6+FAZP368oqJiXV0dACA8PDwqKkpZWTkoKGjhwoX9z0RXV7e6uhrDsKampj/++OPZs2dSUlL5+fkrVqzIysoyNzdfvnz50H0Tbfny5Z2dnY2NjQAAR0fHtrY2ZWVlPz8/9r1/f+jo6JSVlQEA3r17l52d7e/vDwAgkUgsFmvUqFHr1q0bNWqUj48PnLi2ttbV1fXGjRtDsDa/yJIlSwgEQn19PQDgwoULX758UVZWvn//vr6+fv8z0dbWLi8vBwCkpqZGRUUFBAQICAgICgqKiIiwWCwTExMpKSkPD48XL1789ddfJ0+e1NTULCgo4L4I/+9YsmQJHo+Hu+ncuXNfvnyZPXu2r69vr7tJQEBAQkKioKBAQ0Nj3rx5sNcCxN5TVVVV7u7uz58/HzNmTE1Nzbx586qqqrZs2TJ//vzz588P0VosW7aspaWlq6uLxWIdO3aMyWTOmjXrxYsX7Cd3nMaNGycgIFBfX6+urj59+nTYMMZeC3iSZmRkvHnz5tmzZwQCAcMwMTExBoNhamoqKyvr7u4OJ25paXFwcPDw8OBJ6/GggM1jtbW1AICbN2+WlpYqKyv7+Pj0erPV1NSkoqLy/v37ZcuW6ejovHz5kv2Trq5uVVUVk8lsbm4+e/bs48ePZWVls7OzV61a9fHjx927d69YseL06dOfP39euXKlo6Pj2rVr4+PjuzV0cQ+V4kPo0aNHERER7u7ugoKCERERLS0tr169srS07H8O6urqu3btOnTo0PXr1729veFbalu3bo2OjobDHz586NmIPVhmzJjh4eFx7Ngxb2/vw4cP//XXX35+fnPmzOFsSP8hR0fH6urqCxcuUKnUhISESZMmdVuF9PR09iqcOHEiPDwcPnrnU5MnT75///65c+e8vb23bdvm5+f35s0bMTExWDvvJ1gdPHfu3MuXL2NjY2Hrbs/9fv36dXhTT6VS2c2DSH+QyWQfH58zZ854e3vv3bv34cOHL168kJKSkpeX7znxrl27YmJiTE1NAQBhYWGcT77Wrl2rpaV14sQJb2/v58+fw5/gnlq1ahUY4jNUW1v7yJEjdnZ29+7dc3V1vXLlytWrV/X19UkkUq9rER8fD7sChIWFcba4WFlZCQsLnzt37unTp1QqFW6E711nTp8+7efnx9fvi44ZM+bp06eenp43b97U1NR8/vx5SkrKt2/fen3te9euXdHR0bDzwevXrzk/DKCiomJra3vo0CE3Nzd3d3f4Omi3i9uECRN8fX3nz58/YcKEmpqajo4OdjPboOG+Q91/Uz/fNOvD27dv1dTUOFOePHmyfPny/sy7ZMmSiIgIDMPMzc3ZfSmdnZ33798/4HgGYM+ePZcuXeJM2bhxo6en5w9nrK+vFxcXxzCsq6tLXFy8srKSwWBYWFjA/uTsnvz/SsePHz927Bhnyv79+52dnX84I51OFxYWhh34ZWRkCgoKFBUV4SsDpqam7BcZkEFhZ2d36tQp9qi4uHhzczOGYWpqaomJieyXDr5HXl4+KysLw7A1a9awX/2ysbEZlDeR+s/Q0BC+Sodh2NevXydOnIhhGJPJFBcXr6mp6XstOjs7RUVFYV90RUVFuDp2dnZpaWkYhv3xxx9cvpswnF29enXnzp3sURUVlby8PAzDTExMnjx5Eh4e3vfsy5cvf/PmDYZhlpaWbm5udnZ28AT38fHZsGHDD5eO+qjzh3v37vn5+VVVVTk5OcFuq15eXk+ePCktLXVycqqsrOxj3vb29o8fP6anp/v6+rJYLFi5P3/+fGRkZEpKipOTU3t7+1DH39ra6uTklJaW9u7du4sXLwIAvnz54uTklJ2dHRwc7Obm1vfsERERgoKC7969O3ny5I0bN6SkpBwdHb29vadNm4bD4ahU6lDHzxMsFsvJySkuLi42NtbJyYnFYtHpdCcnp5SUlMjIyB+2u8bFxRGJxPDwcNhlT15efv369WlpaW/evHnx4gW/fwF0+Ojs7HRyckpMTITvggIA8vPzp06dCruwNTQ0VFRU9P0hwsbGxpqamri4OG9vbyUlJfhFEScnp/fv31Op1HPnzv2CtaDRaE5OToWFhS9evLh58yYAIDY2Fna2pdPpo0ePfv36dd+fb0pKSsLj8eHh4ZcuXbKwsFBSUrpx48b169dVVVVxONz9+/d58HmTX+Ly5cthYWHp6elOTk4tLS0tLS11dXXTp08HANBoNDqdTqfT+5i9s7MzOTk5MzPz4cOH7e3tBw4cMDAwqKuri46OdnNzG4rzFPVu4425c+fKysrC3iViYmIAgPnz58N+ZDgcDr6X9T3x8fEaGhpr1qwZMWLE9u3bYaKmpiZsIsPhcL/grSQhIaFly5bBIxKezEQikZ3yw24vUVFRf/zxh7Cw8MmTJ+HF0czMDLZAAgDgu3n/Pjgcjr2JcDgcDocjEAjslB/utaioqCNHjowdO9bGxmbs2LEAgHPnzpWVlbW0tEycOPFnP6iHfA8ej2fvFPhGxuTJkx8/fgx/ffv2LZ1O77sDZmhoqLGx8cKFC8ePHw8fIQkKCrLz/DWPk0VERNhLhN3f1NXV4bMqYWHhFy9eEInEadOm9ZFDZGSknZ3dxIkTFy9eDK9RK1asiIyMhL/2fY3ia4sXL4Yd63A43IgRIwQEBNh9CP7++28ajdbrawhsSUlJ8+bNW7t2LYFA2LZtGwBAR0dHTU2tvb2dwWAMyZOvftbZkW64b1EfMCsrq5/9Ftiw0tbWRiaTc3JyeB0IP+no6FBRUYmJiemWzmQyz5w5o6+vz5OokJ5YLNb69evZXwLhUwwGQ11d/YdNx0hPdnZ2Dg4OPdOTkpKIRGJ7e/sPc0At6v9yHz58gE+UP336xOtYBujZs2fbtm0LCgridSD85PXr10ZGRhERESwWizMdfrBi3rx5aWlpPAoN+T9iY2Nnzpz5+fNn2AWaT71582bVqlWxsbHwpSyknzIyMkaPHk0gEOB/xLFVVVWFhIQcPXqUs4v7YMFhGDbomf4XODg4uLi41NTUoH+dQhAEQQaLp6enlZVVcnJy3033bKgujiAIgiD8CpXiCIIgCMKvUCmOIAiCIPwKleIIgiAIwq9QKY4gCIIg/AqV4giCIAjCr1ApjiAIgiD8CpXiCIIgCMKvUCmOIAiCIPwKleIIgiAIwq9QKY4gCIIg/AqV4giCIAjCr1ApjiAIgiD8CpXiCIIgCMKvUCmOIAiCIPwKleLDVHV1dWNjI6+j4EpWVlZXVxevo+AnTCYzKysLwzBeB4L8QEdHR2FhIa+j4FZzc3N5eTmvo+A/w227oVJ8OGIwGHJycsrKyrwOZOCePn2qrKx85MgRXgfCT86fP6+srOzl5cXrQJAf2LJli4KCwvv373kdCFe0tLTIZHJtbS2vA+Ezw227CfI6AKQXQkJCmzZtIpFIvA5k4FRVVXV0dLS1tXkdCD/R1taOiopasGABD2Ows7MLDAyMi4ubPHkyD8MY5gwMDFpbW2VlZXkdCFfWr18/bdo0vr7O8MRw226oFB+m7t27x+sQuEImk9+9e8frKPjM0qVLo6KieBsDnU5vbGxkMpm8DWOY27lz586dO3kdBbdOnjzJ6xD40nDbbqhFHUGQ/5+Xl1dzc7OMjAyvA0EQpF9QKY4gCIIg/AqV4giCIAjCr1ApPkw9ffo0MjKS11EMXHNz861bt0pLS3kdCD+pqqq6efPmly9feB1IdyUlJVJSUsePH+d1IMNFdna2t7d3Z2cnrwPhSnx8vL+/P6+j4D9xcXHDaruhUnw4YjAYGzZsMDU15XUgA/fy5UsbG5sLFy7wOhB+4uHhYWtre//+fV4H0p2AgEBLS8vXr195HchwceLECUtLy9jYWF4HwpXdu3dv3bq1oqKC14HwmT179gyr7Yb6qA9HQkJCvr6+8+bN43UgA2dsbOzq6rpv3z5eB8JP9u/fLyUlNQw3mqysbHNzM6+jGEZOnz69bds2fn+R0t3dXUBAYMqUKbwOhM8Mt+2GSvFhatu2bbwOgSuioqLoky8/a8qUKQcOHOB1FMiPqampqamp8ToKbq1cuZLXIfCl4bbdUIs6giAIgvArVIojCDJAPj4+CxYsqK+v53UgCPLfhUpxBEEGKCsrKzOzgbkiAAAgAElEQVQzs6GhgdeBIMh/FyrFhylra2tnZ2deRzFwRUVFGzZsQB9h/SlxcXEbNmzIysridSD9de3atba2tunTp/M6kF8tICBgy5Yt/H774u7ubmFhwe/vy/16w227/aJS3M7ObtGiRYOe7bt375b1oKWlpaWltWfPnpSUlEFf4q/BYDDu3r3r4eHB60AG7uPHj0+fPg0KCuJ1IPwkMjLy6dOnMTExvA4E+YGnT58+evSooKCA14Fw5f79+3fv3h2G3ycY5obddsOGXn19PYFAAAC8ffu2/3Ox/qePaWg0WmRk5G+//QYAEBUVjYyMjIiIiIyMdHd3JxAIeDzex8eH6/B7Z29vDwCoqakZovzz8/NLSkqGKPNfIzY2tqWlhddR8JOOjg4qldrV1cXrQJAfaGhoSEpK4nUU3KqqqsrIyOB1FPxnqLfbn3/+CQBITk7u5/S/4k2zv/76CzY+uLq69qePfkdHx+3bt2k0moCAQFtbm4CAwJ49exQVFXtOOWHChAkTJoSGhgIA8Hj8smXLcDgcAEBbWzs5OdnPz8/BwcHc3Bwm8hcFBQVeh8CtxYsX8zoEPiMkJKSpqcnrKJAfExMTU1dX53UU3JKUlJSUlOR1FPxnuG23IS/FWSzWrVu3JCUlq6ur3717l5+f3/dTtKSkJCcnp6tXr86cOROmfPv2zdXVtbW19cqVK/1fLp1OBwDQaLRv376JiopyswoIgiAIMjwN+XPxsLAwAMCjR4/gqJeXVx8TNzc3nz9/vquri7PbiJCQUGpq6tevX/v/l9vZ2dkREREAgE2bNqEiHEEQBPm3GvK6+O3bt3fv3q2lpaWiopKenn7v3r1Lly7Bx+Q9ubq6njx5UllZ2cjI6PTp00uXLu3s7DQ3Nz958qS6urqmpqa5ufn3FtTa2qqtrY1hGIvFSkhIYDKZTk5Op0+f7nXisLCwuLi4PsLW0dFBbZsIgiDIMDe0pfjnz59fv37t6uoKANi7d++BAweampoCAgK2bt3a6/SFhYXq6uo4HO7ly5dGRkYODg5ubm4ODg6wf/vChQvLy8ulpaV7nXfkyJGnT5/G4XAYhtXV1R08ePDSpUttbW0XLlzA4/HdJpaVle12J4FhGOeolJTUgNcaQRAEQX6NoS3F79y5Iy8vX1lZWVlZOXnyZHbi90pxHA4He6KNGjXq8ePHkpKSly9fZr+iNnXq1KKiou+V4ng8Xltbm92RDY/Hb9iw4fLly1OnTu359xIKCgr/gu5jCIIgyH/cEJbiLBbrzp07EhISZ8+ehSlkMrmkpIRKpZaUlJDJ5J6z4PF4DMNwOFxbW5uZmVlwcPCFCxcWLFgAC/KSkhITE5N+Ln3+/PlwIDExsWcpXlFRUVRU1MfsCgoKqDqOIAiCDHNDWIq/ffu2ra0tMTFRQOD/9aGLi4tbsmQJAODevXvnzp3rOcuUKVMSExPnzJljZGR06tQpTU3NRYsWGRoaXrhwQV1dPSUlpf8la1paGhzo9f8909PT+/4mTFdXFyrFEQRBkOEjPT1dVlaWRCJxJg5JKV5SUlJWVubu7r5w4cK4uLilS5cCAJqamjo6OkgkUlNTk6+v7/Lly8XExObMmcM544EDB7Zt20YgEGARDgAQERF59eqVoaGhgoKCsbFxtwXV1tZmZ2eXl5cDAJhMJoVCAQBgGFZZWXnw4EEAgImJiY2NTc8IDQ0NDQ0Nh2LdEQRBEGTQlZaWzp07V0tLC5Z0bENSir979w6+Wtbe3n7+/Hn4VZaSkpKzZ8+yi+2zZ8+qqqq6ublxzjh58uRTp065u7tzlu4iIiI6OjqVlZWHDh3qtqDMzExYp9fS0gIAODk5sX8yMDAwMzPT09MbihVEEARBkF9JVlZ2+/bty5Yt65aO69Y3ezj4/PnzsWPH5OXlBQUFu7q64uPj9+/fb2RkxOu4/g8HBwcXF5eamhoJCQlex4IgCIL8S3h6elpZWSUnJ7N7d/XtV3yB9WdNmjTp4cOH7NsLfvx+KoIgCIL8AsOxFIdQ4Y0gCIIgfUP/L44gCIIg/AqV4giCIAjCr1ApjiAIgiD8CpXiCIIgCMKvUCmOIAiCIPwKleIIgiAIwq9QKT5M3bhxw9nZmddRDFxzc/Pu3bvfvXvH60D4SXl5+datW7OysngdCPIDKSkp27Zta2ho4HUgXAkJCdm7d29nZyevA+EzISEhFhYWw2e7oVJ8OOrq6jpx4oSHhwevAxm4d+/e3b17NygoiNeB8JOHDx/6+/vHxMTwOpBfLTs7u6uri9dR/ARXV1c/P7+CggJeB8KVU6dO3bt378uXL7wOhM+cOnXq7t27w2e7Dd+vvvyXCQoKpqenEwgEXgcycOvWrYuJiVFRUeF1IPzk6NGjixcvhv8e9N/x8uVLY2NjKysrPrpt9fT0PHTo0IIFC3gdCFdevXrV0NCAviH9s4bbdkOl+DCloKDA6xC4Bf+FFuk/ISGhnn918K83Z84cXV1dHR0dXgfyE8TExPi9CAcASEpKSkpK8joK/jPcthsqxREE4SVZWdnw8HBeR4Eg/Ao9F0cQBEEQfoVKcQRBhqNv376VlZXxOgoEGe5QKT4cYRhmamq6atUqXgcycIWFhdOmTbt58yavA+EnFApl8uTJb9684XUgw8Ly5cunTZtWVVXF60B6ce/ePRkZmcLCQl4HwhUnJycFBYXm5mZeB8JnnJycpk+fPny2G3ouPhyxWKz09HQSicTrQAautra2oqKira2N14Hwk9LS0qqqqo6ODl4HMiyYmppOmTJFTEyM14H0IiMjo66ujslk8joQrqSlpTU2NmIYxutA+ExaWtqXL1+Gz3bDDZ9Q+IuDg4OLi0tNTc3wed8AQRAE4Xeenp5WVlbJycnz58/vz/SoRR1BEARB+BUqxREE4Sc5OTkMBoPXUSDIcIFKcQRB+EZ4eLiSkpKlpSWvA0GQ4QKV4giC8I2ZM2fq6emtWLGC14EgyHCBSvHhiMlkzpo1i6/fNIuNjR0/fjx60+yn+Pr6jh8/PiQkhNeBDF9SUlKhoaGbN2/mbRgnT56UkpLi9zfNNm/ejN40GwAzM7Nhtd1QKT5M0en0uro6XkcxcAICAl+/fm1tbeV1IPyExWLV19cPn388RL6HTqc3Njby+5tm3759Q2+aDUBra+uw2m7oTbMBQm+aIQiCIIMOvWmGIAiCIP8VqBRHEARBEH6FSnEEQRAE4VeoFEcQBEEQfoVKcQRBEAThV6gURxAEQRB+hUpxBEEQBOFXqBRHEARBEH6FSnEEQRAE4VeoFEcQBEEQfiXI6wCQfgkKCkpJScnLy3N3d580aRKvwxkIFxeXpqYmBoNx7do1XsfCN65fv06j0erq6u7cucPrWJC+PH78OCcnJy8v7+HDhyNHjuR1OAN069at6urqqqqqBw8e8DoWfhIcHJyUlFRcXOzi4iItLf2Ll47q4vxh6tSpKSkpL168GDduHK9jGQgWizVnzpy7d+9WV1fzOhZ+oqys/OjRo9LSUl4HgvyAvLx8ZGRkTEwM/xbhAIBZs2YFBAQUFRXxOhA+Iysr++HDh4CAgPHjx//6paNSnD8oKysTCITFixcLCQnxOpaBEBAQ0NbWbmxs1NTU5HUs/GT58uXNzc1oow1/8+fPZzKZy5Yt43UgXFm2bFlrayu/r8Wvp6SkNHLkyAULFhCJxF+/dFSK8wcMw6Kjo7W1tXkdyMDFxMQwmUw9PT1eB8JP0tLSmpqadHR0eB0I8gPt7e0pKSl8fYYCAHJycmg02vLly3kdCJ/BMIxCofBq76NSfAjV1dV5eXnFxcVxn9WHDx+ampoWLlzo6en5+vVr7jPs/3Ld3d2rqqq4zyoqKkpGRqajo8PNzS03N5f7DIet7Oxsd3f3T58+cZ9VVFQUiUQaP378jRs30tLSuM8QYcvMzHR3dy8rKxuU3KKiophM5rx5827duhUZGTkoef4QhmEJCQk3b95saGgYlAwjIyOJROKUKVOuX7+enJw8KHkOT58+fbpx40ZOTs6g5JaTk1NfX79o0SIvL6+XL18OSp79h0rxoRIUFKSrqyskJOTn57dmzRpbW1tucqNQKAAADw8PeXl5Dw8PNze3QQrzuzAM27Fjh7Ozs6SkpK2t7YwZM6Kjo7nJMDo6+uvXr0+fPiWTyUZGRv/Wgtze3v7w4cOTJk06fPjwvHnzAgMDucmNSqUymUxvb++pU6du3779331h/WUwDLO2tra3t5eUlDx06NDcuXODg4O5zJNKpeLx+OvXr0+fPv3UqVN+fn6DEmofOjs7TU1Nvby8JCQk9u7dKyMjk5+fz2WeVCoVAODh4SEnJ2dubj4oNZBhyNXVdceOHRMmTDh79uzixYtv377NZYZRUVEAgD///HPatGl37ty5ePHiYITZbxgyIPb29gCAmpqaXn+NiIggkUh1dXUYhn3+/BkA4OHh0f/Mq6qquqUYGBioq6uzWCwMwwICAkgkUkdHB/ypsrKy28Q9UwbAxsbG0NAQDru7uwMAGhoa+j97txhaWlrwePzFixfhqKmp6c6dO3udmMViZWZmNjc3Dzx0DuXl5QwGo1sik8ksKyvrNWb2Vh2YM2fOLF26FO4meB3Py8vr/+zdNhqTySQSiceOHYOjFhYW7D3Sc+LBwmKxPn361DO9urqaTqf3TC8uLuZ+oWVlZZ2dnd0Sv7ebKioquNxNDg4OOjo6cPju3bsAgF4X9FPU1NTWrFkDh2/cuCEjI8P+aYjO0A0bNuzduxcOOzg4EAgELjcLi8UikUi2trZw1NbWdsWKFexfu8UMa5/cLI7tpw6tmpqatrY2bhZ369YtJSUleLyFh4cDAKhUKjcZYhi2bt06FRUVJpOJYVhgYKCwsHBrayv8aQD7+s8//wQAJCcn93N6VIoPUB+leGdnp7S0NPsEg81rhYWF/ck2ODjY2dlZWFi420VNVFTUxcUFDt+4cQMAUFVV5e/vb29vLy8vz57s/v37R44cUVFRGeBa/c/79+8BAG/fvoWjVlZW/c/z5s2b5ubmxsbGnIkREREAAPZpuXTpUg0NDTqdfuXKFUNDw6NHj8J0Go1mbW0dEBCgra29Z88eLtciISGBQCDs27evW/q6devweHx5eTln4ocPH4hE4vbt2we8uJycHAKB8PjxYzh66tQpKSkpWKL/kJeXl7W1tZaWFmdieno6AOD9+/dw1NjYWFFREcOwy5cv//bbb7t27RpwqH3YvXs3ACArK4szsaioSFRUdO3atd0mtrGxAQAkJSVxs8T4+HgCgWBlZdUt3djYGI/Hd7sIpqamEggEzlvAn5WdnY3H4589ewZHjx8/TiaT+7mbvqejo4NAINy9exeOnjx5Eo/Hd3R03Llzx87ObuHChewp//zzTysrK87ScWBg48HHjx/hqKmpqZ6eHpd55uXlAQCio6Ph6G+//QbvRdzc3LZu3bp582aY3tLSYmVl9c8//xgaGurr68Oia8DgoWVkZNQtHR5a7IMfqqioIJFIurq6A15cdXW1sLDw9evX4ejNmzeJRGLPO8ifJS4ufvbsWTgMa/afPn36+++/T548KS0t/bO5/WwpjlrUB19GRkZ5efnq1avhaGJiooSExLRp0/ozL2x7b21t5UwsKipqaWnR0NCAo9HR0aKiopMmTdq8efOGDRsYDAZ7yh07dhgYGDCZTC5XITAwkEAgsDtVJSYm9r/bqrW19ZIlS7olJiYmiomJTZ06FQDQ0dGRkpIyZ86ckSNHHj58WElJiT2Zr69vVlbWxo0bHzx4cOfOHS7feJk0aZKWllbPrmELFy40MjISFxfnTJwwYYKmpubKlSsHvLjXr193dnauWbMGjiYmJi5fvhyHw/VnXgsLC1g75ExMSEggEomqqqrgf91nZs+eDQA4evTovHnzBhxn3+bNm2dgYCAlJcWZOG7cOC0tLfYhzTZ37tzVq1fLyspys8S+d5OYmBhnooSExPLly1esWDHgxcFnHJynZ/930/ckJyd3dnYuXrwYjkZHRysqKhIIhN27d+vp6bFYLPaU+/fvh/dq3CwOAPDs2TMpKSl4PAAA4uLitLS0uMwzMTERj8cvXLgQjkZFRc2ZMwcA8Pvvvy9YsIA9WVBQUHh4+IYNG54+fRoWFhYTE8PNQuGhtWrVqm7p8NCSkZHhTCSRSFpaWvr6+gNeXHh4eGtrKzuHpKQkTU1NQUGuvptSXl5eX1/f7fosIyOzadMmMzMzzuvzEEFffRl8sOxRUVGBo1Qqdfny5S0tLYmJiSoqKi4uLnp6enV1dampqQsXLpSTkwsJCZGSkoJ1oF7BzmXwwt3Z2fnmzZv9+/dzed354SooKyvj8XgAQHNzc1pa2smTJxMSEqZMmZKXlxcaGrp9+/bw8PCioiIbG5ukpKSioiITE5P58+d/L8Pq6uoFCxbAmN++fUun0/fs2dNzMkNDQ1h+jBgxAgAAAxgwGRkZ2GLWzdGjR3smSkpKhoaGcrO44uJiGRkZUVFRAACDwaBQKB4eHunp6cLCwvX19U+ePNm2bVtsbGxubu7u3btLSkoyMjJWrly5dOnS72VYVVXF3gvx8fFNTU27du3qdcr29vaLFy92dnaqqakRiURuXgTYv3///v37uyWSSKRXr171nNjc3Nzc3HzAy4JkZWV73U3Hjx/vmSglJcX9bpo2bRp8I4hOp8fHx+/atSs1NXXs2LHV1dWBgYHbt2+nUqm5ubmWlpZ5eXk5OTl6enqLFy9ub28/c+aMsrLyuHHjkpKSVFVV165dC/OsqqoiEokKCgoAgMbGxsTExPPnzw/1GQqLWDhcU1Ojqan57t27+fPnR0dHU6lUS0vLly9fFhcX29vbh4aGlpeXb926dcaMGQ0NDU5OToaGhvX19Tk5OatWrWLfc1dVVSkpKREIBABAamoqjUbbsWNHz0Vra2t/+/YNACAgICAoKMjlav7UoSUiIvLixQtuFldUVEQkEtl1qqioqP3798NqEh6P9/X13bBhQ1paWkZGxm+//dbW1paQkLBo0SJ4z+fs7Dx69GhVVdXIyEgZGRn2xoHXZ3i3zWQyQ0JCzM3Nv7dZ7t69W1xcrK6uXlFRYW1tzc26/P9+trKPQH20qCclJbF/SkxMJBKJly5d8vLy8vX1vXbt2rt378TFxQsLCxkMBpFIDAwMxDBMS0uL3YbZ3NwMAOjq6mJnWF5eDgBoamrCMOzixYsSEhLsx8ZpaWmcT+AwDKNQKMrKylyu3ZEjR5YuXQqHHRwcAACfPn3S19f/8uXLjRs3LC0tdXR0mEymr6+vgoJCWVlZbW0tbOyFfHx8urWoX716FbYidnV1qaurczZcnzhxgt2iznblypVNmzZxuRa/2IULF5SUlOAw7H6YmppqZmZWXV197do1e3t7FRWV9vb24OBgaWnp3NxcJpMpISHBnj0wMFBTU5Mzw/v376uqqsJhXV1dfX199k+urq6cLeqGhoZ5eXltbW3CwsIJCQlDuJL8z8nJif14yMXFBQCQmZlpampKo9GuXbt2+PDhBQsWMBiM58+fy8jIFBYWtre3S0lJYRjm4eGRnJwsLCxMoVAwDCOTyV+/foX5pKamEolEeM7a2dnJy8uze2O8efNGXV2dM4CAgABu2oShbdu2rV+/Hg7De7v29nZtbe2mpqY7d+6YmJjA08fV1VVVVbWhoSEzMxO2AZw9ezYiIkJcXDwnJ4fBYEycOJEzMPYBrK+vz/l85+bNm+wWdbbHjx9rampy2aL+i925c0dcXBwOw54rISEhtra2GRkZbm5u7u7uioqKLS0tycnJ4uLiiYmJGIZJSUl1dna+fPkyKSmJSCT+/fffGIZpaGgUFBTAfGDPJxqNhmGYm5ubuLg4+8DIysqSlJRkL93Dw+PmzZsYhq1evfr06dPfC/JnW9RRXXzwqaurW1tb7927d8aMGSwWS0NDIzo6etSoUf7+/jQazd/f38rKSk5OLi8vb8aMGcbGxgCAvLy8bm2YGEeb25QpU1xcXLZu3Tp16tTg4ODExERY4Rs6R48eNTAwOHz48NevXxUVFUkkkru7+7x584SFhTdt2rR69eoHDx4ICAiUlpaam5tLS0vHxMRISkr2kaGVldXLly8PHz6cmZkpLS3d7Xui2P9tYExPT4+Pj3/06NGQrNuQsbW1ff36tY2NDZPJlJWVlZCQ8PHxmTBhwqRJkzZs2GBubn79+vURI0Z8+vRp06ZNioqKOTk5fX9Md8uWLY8fP7a2tq6oqBAUFHzy5Emvk/n7+zMYjOnTp7e0tAAAOBs/kZ5+//330NDQgwcP0un06dOni4uLe3t7y8rKjhs3DjaBXrt2jUAglJaWbt26VU5OLj09ffLkyQAAfX39jx8/rlmzRktLq6Wlpbm5mX0aqqqq7t+/38zMjEQixcfHx8XFwRrt0HFycjIxMbG3t6+urlZWViYSiUePHjU1NRUUFDQ1NXV0dMzMzAQAlJaWWltbi4mJRUZGwjN0x44dT58+3bNnz4wZMzIyMjhP2/Xr1/v5+VlaWtbV1bW3t4eEhPQRQHl5+cOHD4OCggQE+Omx7LZt2548ebJ3796RI0dKSEiQyWR4WikrK48dO9be3v7s2bMiIiKlpaVr1qxZsGDBly9fAACCgoIqKip1dXVz5syBt0fFxcXsk3fixImXL1/euXPn9OnTg4KCEhISRo8ezV4i+3nK58+fT5w4UV9fDwBoaWnR1dUdrJVCpfiQuHnzZnl5OR6Pl5KS6urqiouLU1FRIRAIkydPjo+Pt7KyAgBQqdRFixYBABISEqSlpZlMJp1O/96nf06cOFFZWdnc3Hzt2jUu25n7Y8KECUlJSRkZGXJycsLCwlu2bCkpKYGP/UREREpKSmbNmgUAiI6OdnR0BAAEBgbq6elVVlbC611PI0eOpFKpGRkZ48aN63a/Av5vKZ6Xl/f3338HBATExMTIysrCR+l8QVhYOC4uDt6mjBkzZteuXbm5ubC5ctKkScnJybB8pVKpmzdvBgAEBgauXLmyj40mKCgYGhqalZU1evToPj7OHBMTAz/uRqVSV6xYMaQNuf8Co0ePTkhIyMjIkJWVHT169LZt2woKCuBukpCQ+PjxI3wwRKVSLSwsAACBgYErVqyorKyUkZHx9PSEjz/he6Tl5eXsB7dXr14tKSnp6uqSk5P7BQUbmUyGDb8zZswYOXLkxo0ba2trYeQVFRWioqKw20d0dDTsJhYYGLhq1Sq4FvHx8bA1ODAwcPXq1aWlpbBng4CAQFBQUE5OzqhRo/ru6/D58+crV64EBASUlpbm5+erq6sP9foOFiEhodDQ0JycHAkJiXHjxtna2qalpcGnWvDiDF8SY1+cnz9/Dve+tLT0ixcvYGJ0dLS8vPy3b98IBAJ89nf06NHNmzc3NTW5urp+7yl7UlLSnDlzhISE2tvbs7Ky2M/RucdPt1H8RVpaGhZXgoKCWlpaY8aMgenx8fGwOKRSqfDiGx4ebmJi4uPjAw8IWKR1dXV1y3Dy5MkzZ87sVoQzmcyOjg7OFBaL1dnZyX38OBxuzpw5wsLCAIBJkyaxe+4kJSXB46+rqyslJQWWTGFhYUZGRo8fP2ZH1WsMs2fP7lmEs1gsdgeQgoKCLVu2jBgx4ty5c87OzmPHjuV+RX4xZWVluK/FxcWXLl0Ky9SsrKzp06fDL2yzC92wsDBTU9OHDx/CGVksVs+dDgCYNWtWzyKccy+TSCQSiQQA8PPzQ9/O7KfZs2fDCtOECRPYD4ZTU1Php44BAHFxcezdtG7dOtj6GhcXB6/4YWFha9eu9fDw4MyTTCYrKCh0K8I5D292yqCcoXg8fu7cufCgkpaWZvdKiYuLg2vU0NBQUVExffp0AEBERISOjg58qBwdHQ2/zhYWFqavr+/t7c2Z7cyZM3sW4Zwx19bWGhsbjxkzxtXV1dHRkSffHOXSzJkz4R9SjB49etmyZfCi2tDQwGQy4QWKfXHm3PsJCQnsK7axsfHVq1c5W1ykpKSUlJS6FeHwcQMcHjt2LDxPAwICFi5cOIiVMbyTk9Ng5fWfEhERERsbe+TIERERkf7P1dzcLCwsDHuTFhQU7Nixg0AgSElJ5efnr1+/XkxMLDw8PCAgQEtLKzY2FofD9X1HHBAQEBcXN2/ePAqFIi4uLiEh4evr++HDByUlJQqFIikp2a0b9qAoKirS0dGZMmVKQ0PD+PHjYek+fvz4srKyXbt2CQoKXr9+vba2VlJSkkKhzJo1C94H9ArDMCcnJ0FBQSKRSKFQNDU1c3JyhISEcDgcDoeTk5Pjpsf4sFJaWqqhoTFt2rTW1lY8Hg8b0yZNmlRQUGBubj5ixAhvb+/CwkIymUylUslkMvuer1cXL15sa2sbO3YshUJRU1NbvHhxfHx8dXW1r6/v8ePHJ06c+KtW69/m06dPS5YsIZPJzc3No0aNgrdEEhISRUVFu3btEhISqqioMDMzAwBISkomJSXZ2tr2ffr7+Pjk5ORMnz6dQqHIyMiMHTvW09MT1n0pFIqCggJn0+tgycvLW7t27YQJE2g0mqKiIuxmO27cuJqamu3bt7e1tY0cORKu2sSJE9PS0uzs7GD94XuuXLnS1NQ0fvx4CoUyd+7csrIyFoslICCAw+EmTpxobGzMZR/vYaKiokJJSQl2KqLRaBs3bgT/O0m3b98+atSowsLC7du3CwoKSklJJScn79mzp+//pnr27BmFQpk/fz6FQhk7duzChQtbWlo+fvwYGhq6aNGini/ysKWkpAQHB1tYWPT9mJINh3H9zsN/k4ODg4uLS01NjYSEBK9jQRDQ2to6bdq0mpoaXgeCIEhftLS0rly5oqam9r0JPD09rayskpOT+3jrhxNqUUcQvldQUODo6Kimpvb8+XNex4IgSO+YTObZs2fxeHxYWNggZvtvaAlBkP84BQWFa9eu8ToKBMpnGcsAACAASURBVEH6gsfjz5w5M+jZoro4giAIgvArVIojCIIgCL9CpTiCIAiC8CtUiiMIgiAIv0KlOIIgCILwK1SKIwiCIAi/QqU4giAIgvAr9L44fwgKCkpNTQUA2Nra9v3Zv2HLxcWFTqdLSkru27eP17HwjevXr3/58mXMmDGHDx/mdSxIXx4/fpyXlwcAcHBw6PuDpsPZrVu3amtrhYWFe/1zd+R7goOD379/DwCwsrL69V/zRHVx/jB16tTk5GQXF5eh/k/SIcJisebMmePp6RkVFcXrWPiJsrLygwcP3rx5w+tAkB+Ql5d/9+6dl5cX/xbhAIBZs2b5+/sHBQXxOhA+Iysrm5aWdv78+aH4MP4PoVKcP8C/Wlq8eLGQkBCvYxkIAQEBbW3txsZG+KdASD8tX768ubkZbbThb/78+Uwmk9//U27ZsmXNzc38vha/npKS0siRIxcsWMCTf3hDpTh/wDAsOjpaW1ub14EMXExMDJPJXLVqFa8D4SdpaWlNTU06Ojq8DgT5gfb29pSUFL4+QwEAOTk59fX18H9Lkf7DMIxCofBq76NSfAhhGFZYWNjS0sJ9Vh8+fGhqalq4cKGnp+fr16+5z7Cfurq6Pn78yGKxuM8qKipKRkamvb3dzc0tNzeX+wyHLRaL9fHjx17/LPxnRUVFkUik8ePH37hxIy0tjfsMETYmkzlYuwkAEBUVxWQy582bd+vWrcjIyEHJsz8YDEZWVtZg5RYZGUkkEqdMmXL9+vXk5OTBynYYwjAsIyOjo6NjUHKDdz+LFi3y8vJ6+fLloOTZf6gUHyrJycmbN2+OjY09c+bM2rVrbW1tucmNQqEAAM6ePSsiIuLh4eHm5jZIYfbl8uXLVlZW+fn5e/bsmTFjRnR0NDe5RUdHf/369fz585MnTzYyMvq3FuT37t0zNzfPz8+3sLCYN29eYGAgN7lRqVQmk3ns2LGJEydu3779331h/ZU8PDz27NlTUFBgYWExd+7c4OBgLjOkUql4PP7YsWPi4uKnTp3y8/MblDj7wGKxnJycjhw5kpOTY25uLiMjk5+fz2WeVCoVAHD48GFJScndu3fHxcUNRqTDzqtXr7Zt25aTk2Ntbb106dLbt29zmSHs7nPu3DkikXjnzp2LFy8ORpj9hiEDYm9vDwCoqanp9Vd4S0uj0TAM+/z5MwDAw8Oj/5lXVVV1SzEwMJCXl//69SuGYQEBASQSqaOjA8MwGo2Wn5/fbeLKysr+L+t7Dh48qKurC4fd3d0BAA0NDf2fvVsMLS0teDzeysoKjpqamu7cuRMOZ2ZmfvnyhT0li8XKzMxsbm7mKvr/KS8vZzAY3RKZTGZZWVmvMcOtOmBnz55VU1NjsVgYhsHreF5eXv9n77bRmEwmkUjctGkTHLWwsDA0NITDubm5dXV13IT6PSwW69OnTz3Tq6ur6XR6z/Ti4mLuF1pWVtbZ2dkt8Xu7qaKigsvd5OjoqKGhAYfv3r0LAOh1QT9FTU1NTU2tvb0dw7AbN27IyMjA9LKystLS0m4TD8oZumnTpq1bt8JhBwcHAoHA5WZhsVgkEsnY2BiO2trarlixAg7n5+fDqxkbrH1yszi2nzq0ampq2trauFmcp6cnmUyGx9u7d+8AAFQqlZsMMQxbt24dmUyG17EXL14ICwu3trZiGFZbW5ubm/uzuf35558AgOTk5H5Oj+rig6+rq2vnzp0rV66cMGECAABWOleuXNmfeV++fGlhYaGgoNCtoY9KpW7duhV2gKTRaE1NTfX19U5OTm/fvvXx8VFQUKioqAAA3Lx5c/v27QYGBlyuQnJysru7+44dO+Bofn6+ioqKmJhYf+Y9derUxo0bra2tORPfv3/PZDJtbGzgaG1tbUFBwZcvXw4cOJCbm2tmZrZp0yaYbmtrm5OTY2RktHfvXi7XIjExcdq0aT1bQTZs2EAmk+EWY0tPT5eXl+dmobm5uc7Ozlu3bsXhcACA/Px8KSkpBQWF/sx76dKlzZs3b9myhTMxMzOTTqdzbrTCwkI6nW5lZZWZmbl3714DA4PBahBm27t379SpU7OzszkTi4uLp0+fvnHjxm4T29raTps2Db5jM2AJCQlycnIHDx7slm5qakomk6uqqjgT09LSyGSypaXlgBeXk5Pj4uKybds2OJqfn08mk6dMmTLgDAEADAYjPT199+7dsIM6jUarrKxkMBiHDh2KjY29dOnS3LlzGxsbAQDOzs5mZmbm5ubcLA4AEBISEhAQwHmGLl++nMuurwUFBU1NTewzF56kDAbDysrq48ePBw4cWLlyJYPB+Pbt24EDB7KysszNzQ0MDLh83AYPLXj6c4KHVrfGp8rKSkVFxbVr1w54cZ8/fz5y5IiZmZmgoCAAIDc3l0gkamhoDDhDKDo62szMbOzYsQCAmpqa1tbW2tpaZ2fnkJAQX19fBQWFT58+cbmIvvzsbQIC9VEXhy923717F45euHBBQkIC1s/6o7m5GQDAWTUpLCwEHDeM69evFxUVbWxsJBKJmZmZGIatWLHixIkT8FcKhaKsrDzg9YLs7e3xeDy7QqyqqmpnZ9f/2X18fNh39ND58+fFxMTgRujo6CASifv27bt9+7aqqiqGYV+/fgUApKamurq6Llu2DMOw8vJyAEBhYSE3a1FaWqqrq/vkyZNu6ZcvX163bl23O/qqqio9PT0/P78BL+7y5csAgIqKCji6YsWKbdu29X/2wMBATU1NzpTbt28TiUR4JMB60saNG588eQLreQwGg0AghIWFDTjgXv35558GBgaNjY2ciY2NjQYGBp6ent0mvnv37urVq7vV0n7Wp0+fdHV1nz171i394sWLPXdTZWWlnp6ev7//gBfn7OwMAKitrYWjWlpae/bsGXBuUGxsLACA3Sq2dOlSJSWl3NxcEokE29Vmz5597do1+GtAQAC7lWvAdu3aRSKRurq64OjEiRMvXLjAZZ7379/H4/HstisJCYm1a9e+evVKSkqKwWB0dXWJiooGBQX5+/vLy8tjGNbR0UEgECgUCjcL/alDq6WlxcjIiL0lB+DBgweAo5q7ZcsWPT29AecGlZWVAQDCw8Ph6ObNm0VFRb99+0YkEtPS0jAMW7NmzaFDh/qf4c/WxdFXXwZfUVERAEBdXR2OUqnU5cuXt7S0fPjwYcaMGS4uLoaGhlVVVampqQsXLpSTkwsJCZGSktq9e/f3MoTVERUVFQAAhmFv3761tLQkkUjOzs6ysrIAgBEjRsD63yCugry8PHw3vbm5OS0t7eTJk7Bq+/Hjx9DQ0D179gQHBxcVFdnY2Lx//76wsNDExGT+/Pl9rIKamhoMMjIykk6n7927V0xMDNZd4H0xDoczNDSUkpKCawQAwOPx3KyFjIxMeHh4z/SjR4/2TJSUlAwNDeVmcUVFRRISEjB+BoNBoVA8PDzS09PHjh1bXV395MmT3bt3R0ZG5ubm7t69u6SkJCMjY+XKlUuXLv1ehpWVlTNmzIAbJyUlpampadeuXXPnzj127BgAQEBAYOTIkXCTtre3nz59WkBAQFNTE4/H6+npDXgt9u/fv3///m6JJBLp1atXPSc2NzfnvlopKyvb627q9cMjUlJS3O8maWnp8ePHAwDodHp8fPyuXbtSU1MnTZpUUlISGBi4Z8+e8PDw3NxcS0vLvLy8nJwcPT29xYsXt7e3nzlzRllZedy4cUlJSaqqquxKYVVVFZFIhO0ura2tiYmJ58+fJ5PJ9vb2cEFDcYaqqKjAE6SoqKimpkZTUzMyMlJdXT0yMpJKpdrY2Dx58qS4uNje3j40NLS8vHzr1q0zZsxoaGhwcnIyNDSsr6/PyclZtWrVkiVL2GuhqKhIIBAAAJmZmTQabceOHRoaGseOHYOJBAIBh8Npa2t/+/YNACAgICAoKMjlev3UoSUiIvLixQtuFldUVEQgEObOnQtHKRTK/v37i4qK4G2Kr6/vli1bEhMTMzIyfvvtt7a2toSEhEWLFq1evRoA4OzsPHr0aFVV1cjISBkZGXZDCOf1GQAQEhJibm4uLCx8/vz5adOmgf+79//666/s7Gw9Pb3i4uJuDZYD95O3Hcj/00ddPCkpif1TUlISkUi8ePGil5eXr6/vtWvX3r17Jy4uXlhYyGAwiERiYGAghmFaWlpZWVlwdlgXZ99lY/+rmMJ75ICAAAkJCfiAHKqqqpKRkWE/y6RQKLNnz+Zy7Y4cObJ06VI47ODgAAD49OmTvr7+ly9fbty4YWlpqaOjw2QyYWNRaWlpbW2toqIie/aedfGrV6/CFBaLtXHjxu3bt3P+6u3tra+vz5ly5coV9vNgfnHhwgUlJSU4DLsfpqammpmZVVdXX7t2zd7eXkVFpb29PTg4WFpaOjc3l8lkSkhIsGfvWRe/f/8+ey9YWFh020RPnz7V0NBgMpkYhunr6z9//rytrU1YWDghIWFo15PPnTlzRkVFBQ67uLgAADIzM01NTWk02rVr144cObJgwQIGg/H8+XMZGZnCwsL29nYpKSkMwzw8PJKTk4WFhWHtk0wms0/D1NRUEokEh2/cuCEvL8/ZGyM7O5tMJrP7MQxKXXzbtm3r16+Hw7t27QIAtLe3a2trNzU13blzx8TEBJ4+rq6uqqqqDQ0NmZmZWlpaGIb98ccfERER4uLiOTk5DAZj4sSJ7DwDAgLU1NTgsI2NDZye7fXr12pqapzXpcePH2tqasIjkF/4+PiIi4vDYdhzJSQkxNbWNiMjw83Nzd3dXVFRsaWlJTk5WVxcPDExEcMwKSmpzs7Oly9fwov533//jWGYhoZGQUEBzAf2fPr27RuGYYGBgeLi4pzX55qaGnggYRjm4eGxf/9+Fou1evXq06dPfy9IVBfnPXV1dWtrawsLC0VFRRaLpaGhERMTM2rUKH9/fxqN5u/vb2VlJScnl5eXN2PGDGNjYwBAXl4erMOxYRjGHp4yZYqLi8vGjRunTJkSHBycmJjI/kIQk8m0s7N78eIFrJT3nHdgjh49amBgcPjw4a9fvyoqKpJIJHd393nz5gkLC2/atGn16tUPHjwQEBD49OkT7BwbExPTLf5urKysQkJCDh8+nJmZOWbMmDt37rB/KiwsfP36dUBAADslPT09Pj7+0aNHXK7FL2Zra/v69WsbGxsmkykjIyMhIeHj4zNhwoRJkyZt2LDB3Nz8+vXrI0aM+PTp06ZNmxQVFXNyciZNmtRHhlu2bPnnn39sbGxgH73nz5+zf6qqqrp79+7r168FBAT8/f27urpMTEzgO40LFiwY8lXlZ4cOHXr79u3Bgwfb29sVFBTExcW9vb1lZWXHjRu3adMmMzOza9euEQiE0tLSrVu3ysnJpaenT548GQCgr6//8ePHNWvWaGlptbS0NDc3sz+kqKqqumvXri1btggLC8fHx8fFxcHKKwCATqefOHEiNDRUXFx8ENfizJkz69ats7e3r66uVlZWJhKJR48eNTU1FRQUNDU1dXR0zMzMBACUlpZaW1uLiYlFRkZKSkoCALZv3/706VP41klGRgZMhNavX//o0SMrK6uamprm5uaQkBD2T7W1tX/++WdISAi7eay8vPzhw4dBQUECAvzUuWrr1q3//PPP3r17R44cKSEhQSaTnzx5AgBQVlYeO3asvb09fA+otLR0zZo1CxYs+PLlCwBAUFBQRUWlrq5uzpw58PaouLiYffJOnDjx8uXLZmZm06ZNCwoKSkhIYF+fWSyWnZ3d06dP5eTkPn/+fOLEifr6ehwO19LSoqurO2hr9dM3MwiGYT/qo45hWFlZGeyJ2tnZSaFQmpqaYPratWtDQ0MxDLt9+/aBAwcwDIuPj1dTU6uvr4ePAHs+F4cqKiqys7M574VZLBZ8zwTDsDt37sDEQXkuDjNPT0+HN5jV1dWxsbEwvbW1lV3t0NXVhfWS33///dKlS+xHwj3r4tDHjx+79c4tKSk5ePAgnU5PSkqCrRG5ubnHjx/v7OyMjIwsKSnhfkV+sYyMDLiv6+rqoqOjYVcAJpNJIpFgR9wNGzbABhhnZ+djx46xN1rPujiUmZnZrQc1jUY7ePBgc3Nzbm5uXFycpaXl+fPnMQx79epVr5sd6enjx4+wwkSj0WJiYmAi3E2wGm1kZBQcHIxh2OnTpx0dHeFuOn78OHwo6+fnZ2Zm1q3zeXFxcX5+PmfdtL293cbGpqysjE6ns5/lD0pdHMOwrq6u1NRUeFCVlZWxq27l5eXwuTWGYcrKyvAtic2bNz948ACuxbp1616+fIlhmJOT08mTJ7u9kpCdnd0tpb6+3tbWtrGxsbi4OCoqCsOw6upqGxublpaWzMzMpKQk7tflF8vOzoYd7L9+/RoVFcW+qJLJZHiBsra2ho/q//rrL3Nzc7jd3N3df//9dwzDKBTKkiVLPn/+DF9JgCorK7Oysrpdt0+cOJGdnY1h2J07dwIDA5csWYJhGJ1O5+zT0BPqoz5cSEtLw+qpoKCglpbWmDFjYHp8fPzixYsBAFQqFX5ZMzw83MTExMfHBz4MxjAMANCz7/HkyZNnzpzJ+ah469at3759+/vvv48cOdLQ0AATWSxWZ2cn9/HjcLg5c+YICwsDACZNmgRjBgAkJSXBLp1dXV0pKSmw5hcWFmZkZPT48WM4DZPJ7DWG2bNnc1bZy8vL169fP3r0aBcXFycnJ1FR0YKCgi1btowYMeLcuXPOzs6wzyd/UVZWhvtaXFx86dKl8HlYVlbW9OnTR44cCQCIiYmB+z0sLMzU1PThw4dwRhaL1WuH81mzZklLS7NH6+rq1q5dKyIicuXKFQcHByKRSCKRSCQSAMDPzw99O7OfZs+eDStMEyZMYD8YTk1NhZ86BgDExcWxd9O6detg62tcXBzsxxAWFmZoaOjh4cGZJ5lMVlBQYNdNOzs7jY2NcTicj4+PnZ0de+cO1hmKx+NVVVXhQSUtLc3ulRIXFwfXqKGhoaKiYvr06QCAiIgIHR0d+FA5Ojoafp0tLCxMX1/f29ubM9uZM2dyNuw1NjbC4+3atWsnTpwYMWJEbW2tsbHxmDFjXF1dHR0defLNUS7NnDkT/qfU6NGjly1bBi+q9fX1TCYTXqDYF+ewsDATExO49xMSEthXbGNj46tXr7JbXAAAUlJSSkpKsBcLtGPHjvr6+oCAgOPHj3/+/Hns2LHwPA0ICFi4cCGXnX444Z2cnAYrr/+UiIiI2NjYI0eOiIiI9H+u5ubmz58/m5iYAADCw8MtLCyIRCIOh4uLi1u5ciWZTA4PDw8ICNDS0oqNjcXhcJynU8+sCgoKREREcDickJCQsbHxhAkTfH19P3z4oKSkRKFQJCUlB7cRD8rIyJg1a5aSktLnz5/pdLq+vj4AoL6+Pi0tzdbWduTIkdevX6+trZWUlKRQKLNmzYL3Ab3KycnB4/E4HA6Hw02ePHnt2rXZ2dlCQkIwRU5Orp+v5w1/OTk5ZDJZVVX127dvJSUl8L2ar1+/JiYmWlhYjB492tvbu7CwkEwmU6lUMpnMvufrqaioqKurS0BAAIfDSUhIGBkZaWhoxMfHV1dX+/r6Hj9+fOLEib9wzf5VcnJy5OXlVVRUmpqaqqur161bBwBobGx8//79/v37RUREoqKirKyscDhce3v727dv9+3b18cfWNXW1tbU1MATXERExMjIiEQieXp6lpaWysrKUqlUeXn5ofjzjJSUFA0NjWnTpn369IlEImlpaQEAaDTax48ff//99/b29vLyclPT/6+9Ow9r4lofB340pT6R0otevFC1IqAURZCiAiJrQK3XBVzxCtJb6i64FS2LLaigKIggKoha64KI0FqxKCpC2PcdrEZ2ZJFFCBASyHK+f5zfzY8HkCIBQtr381dmMnPmnclk3pmzJOsRQq2trTExMUeOHBngP5bKyso4HA75nk6ZMsXCwqKiokIgEJAzUEFBwdLSsmfqklwMBuOf//znkiVLMMbx8fF79uxBCHV2dqanp1tbW8vJyT1//nzHjh0TJkzAGD958sTKykpJSel9pbFYrBcvXnz66afjxo2TkpKytLTU1dVtb28nvYMXL14svHfsKysrKyoqaseOHT3bOwYwDovchvr35OLicurUqfr6+tH/HzoA+mKxWCoqKvX19eIOBAAwEGNjYx8fn0WLFr1vgcDAwD179mRmZg4w6qcnqFEHQOLV1tYePXpURUWFjFkHAIxBAoHA29u7u7t7eL+nf4WaEAD+5qZOnXru3DlxRwEAGMj48eMPHz7c7+9ViFTs8BYHAAAAgFEDWRwAAACQVJDFAQAAAEkFWRwAAACQVJDFAQAAAEkFWRwAAACQVJDFAQAAAEkFWRwAAACQVJDFAQAAAEkFWRwAAACQVJDFAQAAAEkFWRwAAACQVJDFAQAAAEkFWRwAAACQVJDFAQAAAEkFWRwAAACQVJDFxyKM8fr167/66itxBzJ0r1+/VlFRCQgIEHcgkoROp0+fPv3x48fiDgT8ievXrysqKr5+/VrcgYjE3d1dVVW1ra1N3IFIGHd39y+++GLsHDfI4mORQCDIy8trbGwUdyBD19DQUF1d3dnZKcYYOjo6Lly4UFZWJsYYPkhFRUVNTU1XV5e4AwF/oqCgoLGxkc/nizsQkeTk5LS0tGCMxRgDl8sNDg4uKioSYwwfKicn5927d+I9bj2NGzuhSBYXF5dTp07V19fLy8uLOxbQv3v37llZWW3duvXmzZvijgUA0I/U1FR9ff2lS5c+ffpU3LGMFYGBgXv27MnMzFy4cOFglv9opAMCQFxWrlx5/PhxS0tLcQcCAOifjo6Ot7e3vr6+uAORYJDFwV+WtLT0Dz/8IO4oAADvRaFQHB0dxR2FZIN2cQAAAEBSQRYfo2pra1taWsQdhUiKi4t5PJ64o+hHenr62Gwp5/P5xcXF0FVl7Ovq6pL0DuoIoba2tqqqKnFH0b/CwsLg4GAulyvuQPox1o4bZPGxqLu7e9asWRoaGuIOZOgiIiLmzZs3NuvKdu3a9fXXX4/Bq7Cnp+e8efOCg4PFHQj4E9bW1qqqqhkZGeIORCTGxsbKysoNDQ3iDqQfzs7OO3fuTE5OFncg/Rhrxw3axceijz/+ePPmzf/4xz/EHcjQaWtrm5ubm5qaijuQfvj4+BQXF8+aNUvcgfRmampKp9N1dHTEHQj4E6tWrers7Jw5c6a4AxHJhg0bZs2aJSsrK+5A+uHm5mZoaLh48WJxB9KPsXbcYKTZEMFIMwAAAMPuQ0eaQY06AAAAIKkgiwOAEEJsNvvixYtjsLEcAEDw+fyrV6/m5eWJO5CxBbI4AAghFBsba29v7+rqKu5AAAD9Kyoq2r59+969e8UdyNgCWXyIysvLpaWlpaSkRqh8GGk2ymg02smTJ52cnMQYA4w0kxQw0kwsNDQ0fH19T548Kd4wRvq4NTc3U6nUCRMmDHJ5yOJDNGvWLBaLNWnSpJEonMvlzpo1a968eSNR+OgYyyPN+kWlUp2dnbW1tcUYA4w0kxQw0kwsxo8ff/DgQWNjY/GGMdLHTVdXl81mq6urD3J5GGk2ROPHj+ANkJSUlJWV1dgZyTAEY3mk2ZgFI80kxapVq1gs1l9gpJmKiopEX2fEYqSPG4VCQQiNGzdukMvDSLMhcnNzO378uEAgGPyxBgAAAAYWGxtrZmY2+OQCNeoAAACApIIsDgAAAEgqyOIAAACApIIsDgAAAEgqyOIAAACApIIsDgAAAEgqyOIAAACApIIsDgAAAEgqyOIAAACApIIsDgAAAEgqyOKS4fjx40ZGRlOmTKmrqxN3LEPB4/GWLVump6dnbm4u7lgkiYWFhZ6eHvyy+th38OBBQ0PDKVOmdHV1iTuWodu0adPixYvnz58v7kAkzKlTp4yMjD777LOKiorR3zpkccnw448/Kikp8Xg8BQUFcccyFB999NGDBw9KS0tVVVXFHYskCQ8Pb2xsVFZWFncg4E/4+vp+8skn8vLyg/9DyTEoJCSkvb1dSUlJ3IFIGGdn59mzZ7e3t3/++eejv3XI4hKjrKzMzMxMcv98hclkNjU1if1fBSWLQCCorKyEgzb2jRs3rrS01MjISNyBiARjXFZWBufbEFRUVNBoNPJ3ZKMMsrhk4HA4qampy5YtE3cgQxcbG0uhUJYuXSruQCRJfHw8n8+Hgzb2vX379vXr18uXLxd3ICJJTU1ls9lwvn0oLpebmJgoruszZPER9Ntvv23evNnLy4vNZovYXpKYmMjn86lUqpWVlaOj47t374YryAEwmcyzZ8+uX7+eTqeXl5ezWCxRSqPT6RoaGiEhIWvWrLlw4cJf9S9xOzs7AwIC1q5dGxUV9ebNm9bWVlFKo9PpioqKcXFxa9eu9fHx4fF4wxXn3xyLxfL391+7dm10dHRVVVVbW5uIBT59+pRCoXA4nPXr17u6uor4ZRmkxsZGT0/PDRs2ZGdnMxgMLpcrYoFxcXEKCgqZmZkWFhanT58WvcCxicfj/fTTT+vWrQsNDW1sbGxsbBSxwJSUFC6XKy0tvXnz5kOHDole4AeBLD4iMMb29vbh4eGnT5+eNGnS9OnTAwICRCkwLi4OIVRSUhISEtLV1bV58+ZhivS9GhoaaDQalUoNCgoKDg5WV1cvKCgYcmkYYzqd/ubNGw0NjZ9//jkgIODKlSvDGO0YwWQyTUxMOBxOcHDw/fv3586dm5ycLEqBdDqdyWTKy8vfunXr3r17Z86cGa5Q/86YTKaZmRnG+PLly2FhYWpqahkZGSKWGR8fP378+Ldv34aGhpaXl+/YsWNYQh1AVVWVqanpjBkzLl686O7uPnfu3Ddv3ohYZnx8PIvFkpGRuXPnTmRkpIeHx7CEOqZ0dXWtWrWqrKwsKCgoOztbVVX14cOHIpZJrs+lpaW3b9/GGG/cuHE4Ih00DIbkxx9/RAgJBIJ+3/Xz81NWFsVLjgAAEtlJREFUVubz+RjjyspKhFB4ePjgCw8JCek1R1dXd9OmTeR1aGgoQqi9vb3fdQUCQWho6OC39T76+vqOjo7ktbe3t5SUFJvNHuS6nZ2d9+/f7zmnvr6+50FYt27d8uXL+103JiZm3bp1hw8fbmpqGmrs/097e/v58+dLS0t7zU9LS7tx40bfmC9cuMBgMETZ4ooVK7755hvy+qeffkIItbS0DHJdLpfb6yRpb2+nUChBQUFkcvv27dra2qKENxi5ublXr14lp65Qd3f35cuXCwsLey1cUFBw+fLl7u5uUbbY1tZ2/vz5srKyXvNTU1P7fkwsFkv0j4lGo+3cuZO8DgwMpFAo7/s2DZJAIFBUVLS3tyeTfn5+UlJS77s4cLnce/fuibI5jHF3d7eamtqZM2fIpKOjo5yc3Pu2OEhsNltKSsrPz49MOjg4qKur97tkZmamlZXVvn37ampqRNki/sBTi8fjXblyJTc3V5Qtbt++/d///jd5/fvvvyOEXr58KUqBGGNDQ0NLS0vy+pdffkEIiXL5ev78+QDJpS/I4kM0QBZnMplUKvXHH38kk7dv3x781fz33393c3PrdXdFrubBwcFkkizAYrH6rn7z5s1du3apqal92M70ERISghB69eoVmbS0tDQ3Nx/kun5+fmvWrNm4cWPPmTdu3EAItbW1kUl1dfUVK1b0XbegoMDBweHt27fffffd7NmzRUwPYWFhCCFbW9te87W0tBBCvTJBVFQUQmjDhg1D3lx0dDRCiE6nk8lvv/128Ek3MDBwy5YtNBqt50xyiRHehRgaGuro6Aw5vEEyNTVFCGVkZPScmZKSghDqew6sXLkSIRQXFyfKFsld6X//+99e8zU1NRFCJSUlPWdGRkYihIR3tENASkhJSSGTNjY2enp6Qy6NIDepkZGRZHLXrl1UKrXfi0NQUJC1tbWxsbGIW/T19aVQKM3NzWRSX1/f2tpaxDJjYmIQQsXFxWRy6dKlmpqafRerra21tbVtaGg4ffq0goLC4O9T+0VOraVLl/aaT04t4beJyMvLQwjp6+sPeXOkhLCwMDLp5OQkLy8/5NIIcvdDWgkxxqQCQ5TDAll8lAyQxclnIDz/tm3bpqWlNfiSSZt3zzkJCQkIoaKiIjJpaGg4QJ5OTk4WPYvv2rVLVlaW7B2fz5eVlT1x4sTgVw8KCuqVxe3t7dXV1UmBDQ0NCKEffvih74p+fn6qqqoYY9JOmZ2dLcpedHR0nDhxoqCgoNf8mJgYf3//Xp9dZ2fnyZMnRdmiq6urlJQUj8cjk8rKyocOHRr86uHh4b2yuJub2+TJk0mcHR0dUlJSe/bsGXJ4g5ScnOzt7S3cC4LH43l7eycnJ/daOCMjw8vLi8PhiLLF9vb2EydO9H0ae/bsWb8fk6enZ05OzpA3d/jw4Z4pVk5OzsnJacilEeHh4QghJpNJJlVVVY2MjN638K+//ip6Fl+7dq2GhgZ53esuf8hOnTolIyNDjgyHw6FSqXZ2dn0XCw8Pl5GRIa+pVKrw3mVoPujU4vP5vr6+vVL7B/H390cIvXv3jkzq6emJfveTlpaGEBKek2ZmZsrKyqIU+KFZ/KORqaf/WyNZas6cOWQyKSnJzMysrKyMTqfPnz/fw8NDSUlp6tSpJSUlEydO1NXVffnyZVxc3MOHD2VkZPotEGMsLLC+vj4lJSUoKIjNZp8/fz4lJcXKyorBYDQ3N4vY9N5rF+bPn09Gtb148aK1tdXQ0PDatWumpqYJCQnnzp3bu3dve3s7nU7funVrRUVFeXm5tLS0j4/P+wrEGKupqZECw8LCqFSqvb19cXGxt7e3oqKikpJSYmLi6tWrv/32W9LLt7m5mUKhfPbZZ6LshbS09NGjR/vONzMzMzMz6zWTSqU6OzuLsrmGhgZVVVUy1KS+vr6srMzAwCA8PHz27NkMBsPHx8fW1pbFYqWnp1tYWDQ1Nb1586atre3atWvvKxBjrKmpSQ4aabo7cOBASUmJr6+vtLS0urp6enr6kiVLbGxsqqurPTw8pKWlx40bp6mp+fXXXw95L/T19fX19XvNpFAojo6OfRdetGjRokWLhrwt4pNPPun3YzI3N+/7G0FUKtXFxUWUzTU0NMyZM4cc1crKyqamJgMDgzt37syfP7+goMDHx8fOzq6zszM5OXnDhg11dXXV1dXd3d1BQUG1tbXOzs6TJk1SUVGpr6/Py8sj9TcIIYyxnJzcp59+ihAqKioiHzeTyfTx8amoqFi+fHlBQQGVSj127Jgokff09u1b4RUmLS2Nz+cbGhp6e3tv37799u3bFy9e/P7775ubm588ebJv3778/PySkhJVVVVnZ+fc3FwvLy8NDY2PP/64traWzWZfvnyZlCMQCNTV1cmRefz4cXd398GDBysqKs6ePfvRRx/Nnz8/MzNzwYIFW7duTUpKQgh1dHTweLwZM2aIsiMfdGqNHz/+4MGDomyusbFRTk5u0qRJCCEul5udnW1raxsTE0OhUNhstpeX15o1a3g8Xm5uroGBAca4rq6uuLg4MjKyo6PDxcWlsbGRRqPV1NQkJiY+fPhw4sSJ6H/X53nz5iGEmpqaEhIS/Pz8urq6/P396XS6jY1NSUlJfX39pUuXeDzekSNHJkyYMH78+JaWlkuXLomyL/+fKLcMf2cDPIu/evWKQqFUVFTg/936BQUFubq6xsXF+fj4PHjwQF1dncVisVgsKpVKnhT19fXz8vLI6n2fxZuamqhUanV1tUAg2LhxI41GI43f1dXVMjIyVVVVGOMZM2ZUVlbiYXoW9/DwWLRoEcaYxWLRaDRydpqYmLS2tgYGBtrY2Hz33XcY4+vXr2tpaXE4nJqamp4b7fssfv36dVK9XF9fr6CgcPHiRYyxr6/vgwcPDAwM+Hx+eno62SLh4OBw6tQpEfdilAUGBs6ePRtjzOVyN2zYgBBiMBhfffVVe3v7uXPn9u/fv3XrVoxxZGQk+YEIDocjJycnXL3vs3hkZKSysrJAIGhpaVFWVnZzc8MY+/r6JiYmampqcjickpISZWVlNputra3d3NwsEAjk5OTy8/NHd78ljL+/P2nu7erqsrCwQAhVVlaam5u3t7f7+/vv3r179+7dGOOIiAg1NTUWi8VkMqdOnYox9vT0LCoqkpOTI43B8vLyHR0dpMySkhIZGZm2tjYej0ej0datW4cxDgwMrKurk5WVJfXeUlJSXC4XD9OzuIODw6pVqzDGLS0tOjo6pHAajVZdXX337t2lS5eSJnMvLy9TU1M+n5+dnW1oaIgxdnZ2fvTokaqqKjkDe9Ynx8TEzJgxg8fjtbW1qampOTs7Y4x9fX0zMzPV1NQ6OzvfvHkzbdo04fJeXl7CrgCS4tdff5WVleXxeHw+f+fOnQihpKSkjRs31tXV+fj4eHp6rl69WiAQpKenKygovH37FmMsIyPD5XIvXbrEYDBkZGTIFVtbW1vY9NDa2iotLf369WuM8ZYtWwwMDAQCQUREREVFhaysLOnwMXv27NevX2/btu3BgwcYY2tr69OnT78vSKhRHyUD924LCwszNja2sbEJDQ11cXFRVVUVVq46Ojr6+/tjjBMSEkhDI4vFkpWVFdYd9c3iGOPo6GgajWZubm5raytcMikpiTQRdXZ2UigUUk00LFmcw+Hs2rXL3Nz8m2++ycrK0tbW1tPTe/jwIXlXUVGxoaEBY+zg4HDlyhWMcXh4uJWVlXD1vlkcY+zk5GRubm5kZHTt2jXhzP379587dw5jfPPmTeGl7datW8eOHRNxF0afQCA4cuSIiYmJra1tVlaWoaHhokWLSJ9VjLG2tjb5/ru7u3t5eWGMY2Nje7Y0983iGGNPT08zMzMTExNfX1/hzGPHjh09ehRjHBUVpa6u7ufnt379eoxxXV1dz9sC0C8+n3/o0CEajWZra5uRkaGvr6+joyNsKFVXVycdJlxcXM6ePYsxfvz48cqVK8m7V69eJd3iKioqyB2b0N27d01NTU1NTffu3SvsG/jLL7+sXbsWY1xVVSUlJUXmD0sWb2trs7GxWbFihZ2dXVZWlpqampGRUVJSEv5fE1hXVxfGeNOmTaTG+8KFC/v27SPrOjs7+/j4YIyfPn3aq5Opt7c3jUYzNjY+fvy4cOaZM2dIR9fnz58L9/rZs2fbt28XsT+dWHh4eBgZGW3ZsiU5OdnS0lJLS+v8+fPkrRUrVjx//hxjHBgYeODAAYxxUVGRsHPAkydPSLc4csXu2eoUExNjZmZmbm7+n//8R3h9zsjIIE8mHA5HSkoqPj5euJaWltYAffQgi4+SgbP4APT19bOysjDGHh4epAdcRETEqlWr8vPzSYe1frN4v9zd3V1dXTHGv/32G6n/wcOUxQdQU1OjqKhIXmtpab148QJjbGVldePGDWGPoX6zeL/U1dXJs6O1tTX5Lj169Ih00Q8NDf3LPFay2ezJkyeT1zQaLTExEWO8Z88eX1/f1NRUMr/fLN4vIyOj2NhYjLGDg4Obm9vOnTu9vb0xxrdv37axsRmRHfh7YDKZwtsgAwODtLQ0jPG2bdsuXrxIPiY7O7ubN29ijM+cOXPgwIE/baDdvXs3OasvX75M7rTwMGXxAeTk5Ojq6pLXCgoKpCbAxMQkOjqafEONjY3J7uzYsSMgIOBPOycuX7780aNHGOPDhw9///33GOP09PSAgACMcUJCQlRU1MjtyyiTlZUl9SubN28mA0aOHTvm5OREDpebm5uHhwfG+M6dO+vXr09NTR24R8jJkycPHz6MMX706JGOjs6DBw/I+Mbm5uaBu9R9aBaH8eKjqquri8FgfPnllwih+Ph40jqbn5+/evXq6OjoiRMnlpaWxsbGIoSePXtWVVU1cGlxcXFVVVUtLS0PHz4kHX0LCwvT09Pb2trodHpTU9NI7EJSUhKpY2cymXV1daRxLj8/f/HixQwGAyGUlpZWWFhYU1NDp9PZbPYARbW0tDAYjFevXmVnZ0+fPt3e3p5Op9vZ2QUHBxsbGzs5Of1lfs85OTnZwMAAIdTd3V1QUKCnp4cQysvLMzY2zs/PRwhlZ2fn5uY2NjbS6fSBf4Gkq6srMzOTwWD88ccfbW1trq6u6urqTCazu7vb398ffjtTFMnJyaSLPpvNfvny5YIFCxBC+fn5S5YsKSwsRAilpKSQBfLy8hYuXBgfHz9wgXFxcRUVFQ0NDWlpacHBwQih7OzsnJycpqYm8ksAI7EXSUlJJEgGg/Gvf/1r8uTJCKGXL18qKSnV19d3d3cXFxcvXLiQ7IWKisrAvwPB4/GSkpIYDEZJSUlDQ8OxY8eKi4stLCwiIiKMjY137Ngxc+bMkdiL0VdUVDR37lxpaWmEUEpKCvkq5eXlLVu2jPycQHJysvCKbWRkdP/+/YF/Mz8uLq66urq1tTUiIuLevXtz5swhz2ne3t7kajBsBpntQS9Dexbv7OwktV4Y46dPn5IXHR0dP//8M6kBKykpiY2NjYuLi42NJe3c78PhcGRkZHJycm7dukXa2zDGBQUFsbGxpITGxsYP3qtBKCoqqq+vxxi3t7cLH75fvnz5+PFj8jo1NVUYQ2dn5wBFhYWFrVu3LiIiQjiuqaKiIvZ/EhISRiJ+sSgpKSkvL8cYczgc4X6Vl5cLR9VnZWUJD5qwq3O/YmJijI2No6KiyOM48eTJk8jISDU1NdI4B4bm1atXpJdJz+9paWkpacvEGD979oy8aGhoCAkJGfjr/+7dO3l5+czMzHv37gmX7PlBt7a2jsReZGRkkJIbGxuFHadzcnLIicdms0lVEMa4rKys1+869JWUlKSrq/vkyRPhvtfW1sb20Gs4g+Sqr68nAyX4fH5MTIxw5t27d8nHJ7xit7e337hxY+BxsFwul0qlZmZm9lzyjz/+uHLlCqkCGWDdD30WH4f/oj+EOdLc3NyOHz9uYmIinLN161Y7O7tRCyAhIcHR0VH035wSIwcHh88///zIkSPiDkSSuLu7s9ns06dP95rf2NioqakpoX9c+5cUHh5+48YNMuhfcnl5edXV1ZFeumDw0tLSdu/enZub2/etL7/88ubNmxoaGj1n7t+/X1gp0trampeXJxAIBvnfVxR3d3fRI/4bwhjPnDlTsQctLa1RqwF+9+5daGgoGVotodXOiYmJdXV1PB5PWIsF/lR2dvarV6+kpKRmzpwpKysrnF9SUnLt2rUFCxa0tLQIByABMaquro6Ojp42bdrEiROnTZsm7nCGKD8/v7CwkEqlTp8+ndTMg8FgMpm3bt1SU1Pj8Xg9/1YYY3zixAlVVdXKysolS5b0XIUMZyCp5IsvvjA2NjYxMRlkFodncQAAAEBSQe82AAAAQFJBFgcAAAAkFWRxAAAAQFJBFgcAAAAkFWRxAAAAQFJBFgcAAAAkFWRxAAAAQFJBFgcAAAAk1f8BRI4hqUcsjkIAAAAASUVORK5CYII=)"
      ]
    },
    {
      "cell_type": "code",
      "execution_count": null,
      "metadata": {
        "colab": {
          "base_uri": "https://localhost:8080/"
        },
        "id": "I7shGpPZbwsK",
        "outputId": "0d0cc407-ed60-443b-954d-8dda5fa28cce"
      },
      "outputs": [
        {
          "name": "stdout",
          "output_type": "stream",
          "text": [
            "Original 1-d arrays:\n",
            "[1 2 3]\n",
            "[0 1 0]\n",
            "Kronecker product of the said arrays:\n",
            "[0 1 0 0 2 0 0 3 0]\n",
            "Original Higher dimension:\n",
            "[[0 1 2]\n",
            " [3 4 5]\n",
            " [6 7 8]]\n",
            "[[ 3  4  5]\n",
            " [ 6  7  8]\n",
            " [ 9 10 11]]\n",
            "Kronecker product  of the said arrays:\n",
            "[[ 0  0  0  3  4  5  6  8 10]\n",
            " [ 0  0  0  6  7  8 12 14 16]\n",
            " [ 0  0  0  9 10 11 18 20 22]\n",
            " [ 9 12 15 12 16 20 15 20 25]\n",
            " [18 21 24 24 28 32 30 35 40]\n",
            " [27 30 33 36 40 44 45 50 55]\n",
            " [18 24 30 21 28 35 24 32 40]\n",
            " [36 42 48 42 49 56 48 56 64]\n",
            " [54 60 66 63 70 77 72 80 88]]\n"
          ]
        }
      ],
      "source": [
        "import numpy as np\n",
        "a = np.array([1,2,3])\n",
        "b = np.array([0,1,0])\n",
        "print(\"Original 1-d arrays:\")\n",
        "print(a)\n",
        "print(b)\n",
        "result =  np.kron(a, b)\n",
        "print(\"Kronecker product of the said arrays:\")\n",
        "print(result)\n",
        "x = np.arange(9).reshape(3, 3)\n",
        "y = np.arange(3, 12).reshape(3, 3)\n",
        "print(\"Original Higher dimension:\")\n",
        "print(x)\n",
        "print(y)\n",
        "result = np.kron(x, y)\n",
        "print(\"Kronecker product  of the said arrays:\")\n",
        "print(result)"
      ]
    },
    {
      "cell_type": "markdown",
      "metadata": {
        "id": "SBmzfy5-cKWH"
      },
      "source": [
        "Compute the condition number of a given matrix\n",
        "From Wikipedia, In the field of numerical analysis, the condition number of a function with respect to an argument measures how much the output value of the function can change for a small change in the input argument. This is used to measure how sensitive a function is to changes or errors in the input, and how much error in the output results from an error in the input. Very frequently, one is solving the inverse problem – given {\\displaystyle f(x)=y,} f(x) = y, one is solving for x, and thus the condition number of the (local) inverse must be used. In linear regression the condition number can be used as a diagnostic for multicollinearity."
      ]
    },
    {
      "cell_type": "code",
      "execution_count": null,
      "metadata": {
        "colab": {
          "base_uri": "https://localhost:8080/"
        },
        "id": "5pFxSNLdcTDh",
        "outputId": "9a4239d2-dbd3-42d1-aca6-bdd62fb168e4"
      },
      "outputs": [
        {
          "name": "stdout",
          "output_type": "stream",
          "text": [
            "Original matrix:\n",
            "[[ 1  0 -1]\n",
            " [ 0  1  0]\n",
            " [ 1  0  1]]\n",
            "The condition number of the said matrix:\n",
            "1.4142135623730951\n"
          ]
        }
      ],
      "source": [
        "import numpy as np\n",
        "from numpy import linalg as LA\n",
        "a = np.array([[1, 0, -1], [0, 1, 0], [1, 0, 1]])\n",
        "print(\"Original matrix:\")\n",
        "print(a)\n",
        "print(\"The condition number of the said matrix:\")\n",
        "print(LA.cond(a))"
      ]
    },
    {
      "cell_type": "markdown",
      "metadata": {
        "id": "nRl7xhd0dMhp"
      },
      "source": [
        "Find a matrix or vector norm"
      ]
    },
    {
      "cell_type": "code",
      "execution_count": null,
      "metadata": {
        "colab": {
          "base_uri": "https://localhost:8080/"
        },
        "id": "bq28VS6VdNeZ",
        "outputId": "f9f5dc25-5062-4b14-b262-8348c1603f32"
      },
      "outputs": [
        {
          "name": "stdout",
          "output_type": "stream",
          "text": [
            "Vector norm:\n",
            "9.539392014169456\n",
            "Matrix norm:\n",
            "5.477225575051661\n"
          ]
        }
      ],
      "source": [
        "import numpy as np\n",
        "v = np.arange(7)\n",
        "result = np.linalg.norm(v)\n",
        "print(\"Vector norm:\")\n",
        "print(result)\n",
        "m = np.matrix('1, 2; 3, 4') \n",
        "result1 = np.linalg.norm(m)\n",
        "print(\"Matrix norm:\")\n",
        "print(result1)"
      ]
    },
    {
      "cell_type": "markdown",
      "metadata": {
        "id": "L5bXtXaBdP2A"
      },
      "source": [
        "Compute the determinant of an array\n",
        "From Wikipedia: In linear algebra, the determinant is a value that can be computed from the elements of a square matrix. The determinant of a matrix A is denoted det(A), det A, or |A|. Geometrically, it can be viewed as the scaling factor of the linear transformation described by the matrix.\n",
        "![image.png](data:image/png;base64,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)"
      ]
    },
    {
      "cell_type": "code",
      "execution_count": null,
      "metadata": {
        "colab": {
          "base_uri": "https://localhost:8080/"
        },
        "id": "_m5S8Epcdb4x",
        "outputId": "956ed762-b88a-4987-9a05-b23e49d58f41"
      },
      "outputs": [
        {
          "output_type": "stream",
          "name": "stdout",
          "text": [
            "Original array:\n",
            "[[1 2]\n",
            " [3 4]]\n",
            "Determinant of the said array:\n",
            "-2.0000000000000004\n"
          ]
        }
      ],
      "source": [
        "import numpy as np\n",
        "a = np.array([[1,2],[3,4]])\n",
        "print(\"Original array:\")\n",
        "print(a)\n",
        "result =  np.linalg.det(a)\n",
        "print(\"Determinant of the said array:\")\n",
        "print(result)"
      ]
    },
    {
      "cell_type": "markdown",
      "source": [
        "Compute the inverse of a given matrix"
      ],
      "metadata": {
        "id": "Mpr-SSxIeoUc"
      }
    },
    {
      "cell_type": "code",
      "source": [
        "import numpy as np\n",
        "m = np.array([[1,2],[3,4]])\n",
        "print(\"Original matrix:\")\n",
        "print(m)\n",
        "result =  np.linalg.inv(m)\n",
        "print(\"Inverse of the said matrix:\")\n",
        "print(result)"
      ],
      "metadata": {
        "colab": {
          "base_uri": "https://localhost:8080/"
        },
        "id": "xr21e1cieraW",
        "outputId": "5696dbe5-5f96-4b4c-f2b7-d2ce3820cc33"
      },
      "execution_count": null,
      "outputs": [
        {
          "output_type": "stream",
          "name": "stdout",
          "text": [
            "Original matrix:\n",
            "[[1 2]\n",
            " [3 4]]\n",
            "Inverse of the said matrix:\n",
            "[[-2.   1. ]\n",
            " [ 1.5 -0.5]]\n"
          ]
        }
      ]
    },
    {
      "cell_type": "markdown",
      "source": [
        "Calculate the QR decomposition of a given matrix\n",
        "From Wikipedia: In linear algebra, a QR decomposition (also called a QR factorization) of a matrix is a decomposition of a matrix A into a product A = QR of an orthogonal matrix Q and an upper triangular matrix R. QR decomposition is often used to solve the linear least squares problem and is the basis for a particular eigenvalue algorithm, the QR algorithm.\n",
        "\n",
        "Square matrix\n",
        "Any real square matrix A may be decomposed as\n",
        "![image.png](data:image/png;base64,iVBORw0KGgoAAAANSUhEUgAAAGkAAAApCAIAAAC5uJABAAAE4ElEQVRoge2ZXSh7bxzAv2dtRnkZw4XkQiRveSl5KZvijk7zeuHCy4VE2HDjgplC5EJKiZISCeVdGGZG/NZISY2hTIu2KZIt2sv5XZzSCT/1e87p//ur87na832e57vv83mep7POMIIggAUJzr8u4AfDukOHdYcO6w4d1h06rDt0WHfosO7QYd2hw7pDh3WHDpfZdC6Xq6qqqrOzMyQkhNnM79zd3e3u7hoMhvj4+NzcXD6fT+19eno6OTkhPxMEgWEYhmGJiYkCgYDxShg+d8PDw2NjYzc3N8ymJbm7uystLe3q6oqIiKiurtbpdHFxcR++y2QyLSws4DiO4/j8/Pzu7u709HRUVFR+fr7NZmO4III5rFZrYGAgAMzNzTGYlmRzc1MgEMzOzlKDVVVV0dHRDoeDGnS5XL6+vqWlpe+Rg4MDAJDL5cyWxOS5a2lpaWxsBACz2cxgWgA4OjrKy8uTyWRFRUXUeFFRkV6vX1paogZ1Ot3z83NmZuZ7JCAgAABOT0+ZrYoxd2dnZzabTSKRANPunE5nRUVFeHh4W1vbhy6hUAgAer2eGtRoNABAdTczMwMAxcXFDFYFwNydxXHcbDZbrVYAqK2t/dMw97d8OWVychIA+vv7P3etr68DQF9fHzWYm5vr7+9PfpfD4VheXg4KChoYGKC3vi9g5jk7NTWVk5MTHBzsdrsBwGKxfDlMqVR2d3d/2DlqUyKRkLeeyvj4OI/Hq6ys/JxQp9MBQFpaGjWhRqMJCwtTKBT39/cTExPp6ekXFxf+/v5IK/sW+vrtdntsbOz29rZKpVKpVD4+PiKRiH5aErfbHRYWFhUV9eWpTElJ4XK5b29v75Ffv34BwMjICNnc3t7m8Xg7OztM1UOFgXPX2dnp7e3d0dGBYRi5GWazmSAIskkTDMNeXl6EQuHnbGq1WqfTNTc3e3h4vAdVKhUAiMVisikWix0Ox9zcXFZWFv1iPkDXndFovLq6InebRCQS/emJplarFQrFN9lwHG9qavoQFIvFGo2G3IzV1VWXy4XjuNPprK+vT0hI6OnpoQ7e29sTCASRkZFkk7zUH34/MwadQ/v4+JiZmXl+fk4NFhQUAAD1HlFBeFbs7e1xOBylUjkwMDA6Otrb27u6ulpSUhIUFHR9fU0d+fb25unpmZ+f/x4ZHBwEgN7eXoIgFhcXCYJYW1srLCzU6/V0Fk6C7q6np8fPzw8AysrKyGVbLBa5XB4REQEANTU1Gxsb9OsjGRoaiouLS01Nvb+/Hx0d9fLyys7ONhgM1DHt7e3kVU1KSlIoFC6XiyCI4+NjPp8vlUqVSqVUKiUIQiaTAUBrayv9qjAC9f9ZrVZrt9sxDPP19U1OTgYAu92u1WrJXgzDYmJigoODGbgaAABgMpm2traMRmNISMji4uLKygoADA4O1tXVkQMODw/Jww4AfD4/IyODjFut1qWlJQ6HU15ezuFwbDabWq0+ODjo6uqiWRK6u3/F7e1teHh4Q0OD3W4XCoUICqanp7lcbmFhId1S6B/d/xin00m+FImNjX19ff3b6Q8PDxKJBGHiZ37euQOAy8vL/f394uJib2/vv51rNpsdDkdoaCj9Mn6ku/8J7HtjdFh36LDu0GHdocO6Q4d1hw7rDh3WHTqsO3RYd+iw7tBh3aHzG65Z1BF6bwi5AAAAAElFTkSuQmCC)\n",
        "NumPy: Compute the condition number of a given matrix\n",
        "where Q is an orthogonal matrix (its columns are orthogonal unit vectors meaning {\\displaystyle Q^{\\textsf {T}}Q=QQ^{\\textsf {T}}=I} {\\displaystyle Q^{\\textsf {T}}Q=QQ^{\\textsf {T}}=I}) and R is an upper triangular matrix (also called right triangular matrix). If A is invertible, then the factorization is unique if we require the diagonal elements of R to be positive.\n",
        "If instead A is a complex square matrix, then there is a decomposition A = QR where Q is a unitary matrix (so {\\displaystyle Q^{*}Q=QQ^{*}=I} {\\displaystyle Q^{*}Q=QQ^{*}=I}).\n",
        "If A has n linearly independent columns, then the first n columns of Q form an orthonormal basis for the column space of A. More generally, the first k columns of Q form an orthonormal basis for the span of the first k columns of A for any 1 ≤ k ≤ n.[1] The fact that any column k of A only depends on the first k columns of Q is responsible for the triangular form of R.[1]"
      ],
      "metadata": {
        "id": "hSnNEXyYWRZz"
      }
    },
    {
      "cell_type": "code",
      "source": [
        "import numpy as np\n",
        "m = np.array([[1,2],[3,4]])\n",
        "print(\"Original matrix:\")\n",
        "print(m)\n",
        "result =  np.linalg.qr(m)\n",
        "print(\"Decomposition of the said matrix:\")\n",
        "print(result)"
      ],
      "metadata": {
        "colab": {
          "base_uri": "https://localhost:8080/"
        },
        "id": "d89FvABYWb4V",
        "outputId": "69b14c79-7548-45ac-f07e-420d966233d6"
      },
      "execution_count": 4,
      "outputs": [
        {
          "output_type": "stream",
          "name": "stdout",
          "text": [
            "Original matrix:\n",
            "[[1 2]\n",
            " [3 4]]\n",
            "Decomposition of the said matrix:\n",
            "(array([[-0.31622777, -0.9486833 ],\n",
            "       [-0.9486833 ,  0.31622777]]), array([[-3.16227766, -4.42718872],\n",
            "       [ 0.        , -0.63245553]]))\n"
          ]
        }
      ]
    },
    {
      "cell_type": "markdown",
      "source": [
        "Compute the condition number of a given matrix\n",
        "From Wikipedia: In the field of numerical analysis, the condition number of a function with respect to an argument measures how much the output value of the function can change for a small change in the input argument. This is used to measure how sensitive a function is to changes or errors in the input, and how much error in the output results from an error in the input."
      ],
      "metadata": {
        "id": "CEeu7jjfWmQN"
      }
    },
    {
      "cell_type": "code",
      "source": [
        "import numpy as np\n",
        "m = np.array([[1,2],[3,4]])\n",
        "print(\"Original matrix:\")\n",
        "print(m)\n",
        "result =  np.linalg.cond(m)\n",
        "print(\"Condition number of the said matrix:\")\n",
        "print(result)"
      ],
      "metadata": {
        "colab": {
          "base_uri": "https://localhost:8080/"
        },
        "id": "egLywxnEWqnO",
        "outputId": "48352bd3-2f93-4c91-b06d-c2fc29a7938b"
      },
      "execution_count": 5,
      "outputs": [
        {
          "output_type": "stream",
          "name": "stdout",
          "text": [
            "Original matrix:\n",
            "[[1 2]\n",
            " [3 4]]\n",
            "Condition number of the said matrix:\n",
            "14.933034373659268\n"
          ]
        }
      ]
    },
    {
      "cell_type": "markdown",
      "source": [
        "Compute the sum of the diagonal element of a given array"
      ],
      "metadata": {
        "id": "__umQALOW3MN"
      }
    },
    {
      "cell_type": "code",
      "source": [
        "import numpy as np\n",
        "m = np.arange(6).reshape(2,3)\n",
        "print(\"Original matrix:\")\n",
        "print(m)\n",
        "result =  np.trace(m)\n",
        "print(\"Condition number of the said matrix:\")\n",
        "print(result)"
      ],
      "metadata": {
        "colab": {
          "base_uri": "https://localhost:8080/"
        },
        "id": "6adbe3jtW-N-",
        "outputId": "087dde07-5155-4126-96bd-e864b7c1294f"
      },
      "execution_count": 6,
      "outputs": [
        {
          "output_type": "stream",
          "name": "stdout",
          "text": [
            "Original matrix:\n",
            "[[0 1 2]\n",
            " [3 4 5]]\n",
            "Condition number of the said matrix:\n",
            "4\n"
          ]
        }
      ]
    },
    {
      "cell_type": "markdown",
      "source": [
        "Get the lower-triangular L in the Cholesky decomposition of a given array"
      ],
      "metadata": {
        "id": "YTCn7n8KXJJh"
      }
    },
    {
      "cell_type": "code",
      "source": [
        "import numpy as np\n",
        "a = np.array([[4, 12, -16], [12, 37, -53], [-16, -53, 98]], dtype=np.int32)\n",
        "print(\"Original array:\")\n",
        "print(a)\n",
        "L = np.linalg.cholesky(a)\n",
        "print(\"Lower-trianglular L in the Cholesky decomposition of the said array:\")\n",
        "print(L)"
      ],
      "metadata": {
        "colab": {
          "base_uri": "https://localhost:8080/"
        },
        "id": "Y0yGovsYXN74",
        "outputId": "9d21dbab-96b3-4fca-cb39-c82233956fcd"
      },
      "execution_count": 7,
      "outputs": [
        {
          "output_type": "stream",
          "name": "stdout",
          "text": [
            "Original array:\n",
            "[[  4  12 -16]\n",
            " [ 12  37 -53]\n",
            " [-16 -53  98]]\n",
            "Lower-trianglular L in the Cholesky decomposition of the said array:\n",
            "[[ 2.  0.  0.]\n",
            " [ 6.  1.  0.]\n",
            " [-8. -5.  3.]]\n"
          ]
        }
      ]
    },
    {
      "cell_type": "markdown",
      "source": [
        "Get the qr factorization of a given array"
      ],
      "metadata": {
        "id": "fTGRY5tfXdzC"
      }
    },
    {
      "cell_type": "code",
      "source": [
        "import numpy as np\n",
        "a = np.array([[4, 12, -14], [12, 37, -53], [-14, -53, 98]], dtype=np.int32)\n",
        "print(\"Original array:\")\n",
        "print(a)\n",
        "q, r = np.linalg.qr(a)\n",
        "print(\"qr factorization of the said array:\")\n",
        "print( \"q=\\n\", q, \"\\nr=\\n\", r)"
      ],
      "metadata": {
        "colab": {
          "base_uri": "https://localhost:8080/"
        },
        "id": "7eNoUmBoXcBZ",
        "outputId": "e42173f4-607d-4295-c5ae-a989568b9811"
      },
      "execution_count": 8,
      "outputs": [
        {
          "output_type": "stream",
          "name": "stdout",
          "text": [
            "Original array:\n",
            "[[  4  12 -14]\n",
            " [ 12  37 -53]\n",
            " [-14 -53  98]]\n",
            "qr factorization of the said array:\n",
            "q=\n",
            " [[-0.21199958 -0.27930103  0.93650794]\n",
            " [-0.63599873 -0.68815735 -0.34920635]\n",
            " [ 0.74199852 -0.66964945 -0.03174603]] \n",
            "r=\n",
            " [[-18.86796226 -65.4018692  109.39178122]\n",
            " [  0.           6.67798664 -25.24309237]\n",
            " [  0.           0.           2.28571429]]\n"
          ]
        }
      ]
    },
    {
      "cell_type": "markdown",
      "source": [
        "Compute the factor of a given array by Singular Value Decomposition"
      ],
      "metadata": {
        "id": "spU1U7JhXhEB"
      }
    },
    {
      "cell_type": "code",
      "source": [
        "import numpy as np\n",
        "a = np.array([[1, 0, 0, 0, 2], [0, 0, 3, 0, 0], [0, 0, 0, 0, 0], [0, 2, 0, 0, 0]], dtype=np.float32)\n",
        "print(\"Original array:\")\n",
        "print(a)\n",
        "U, s, V = np.linalg.svd(a, full_matrices=False)\n",
        "q, r = np.linalg.qr(a)\n",
        "print(\"Factor of a given array  by Singular Value Decomposition:\")\n",
        "print(\"U=\\n\", U, \"\\ns=\\n\", s, \"\\nV=\\n\", V)"
      ],
      "metadata": {
        "colab": {
          "base_uri": "https://localhost:8080/"
        },
        "id": "xqgdqyZzXmPR",
        "outputId": "aefcce20-ccf3-41af-9fc9-cf063d12f76a"
      },
      "execution_count": 9,
      "outputs": [
        {
          "output_type": "stream",
          "name": "stdout",
          "text": [
            "Original array:\n",
            "[[1. 0. 0. 0. 2.]\n",
            " [0. 0. 3. 0. 0.]\n",
            " [0. 0. 0. 0. 0.]\n",
            " [0. 2. 0. 0. 0.]]\n",
            "Factor of a given array  by Singular Value Decomposition:\n",
            "U=\n",
            " [[ 0.  1.  0.  0.]\n",
            " [ 1.  0.  0.  0.]\n",
            " [ 0.  0.  0. -1.]\n",
            " [ 0.  0.  1.  0.]] \n",
            "s=\n",
            " [3.       2.236068 2.       0.      ] \n",
            "V=\n",
            " [[-0.         0.         1.        -0.         0.       ]\n",
            " [ 0.4472136  0.         0.         0.         0.8944272]\n",
            " [-0.         1.         0.        -0.         0.       ]\n",
            " [ 0.         0.         0.         1.         0.       ]]\n"
          ]
        }
      ]
    },
    {
      "cell_type": "markdown",
      "source": [
        "Calculate the Frobenius norm and the condition number of a given array"
      ],
      "metadata": {
        "id": "E527Z-lfX6k7"
      }
    },
    {
      "cell_type": "code",
      "source": [
        "import numpy as np\n",
        "a = np.arange(1, 10).reshape((3, 3))\n",
        "print(\"Original array:\")\n",
        "print(a)\n",
        "print(\"Frobenius norm and the condition number:\")\n",
        "print(np.linalg.norm(a, 'fro'))\n",
        "print(np.linalg.cond(a, 'fro'))"
      ],
      "metadata": {
        "colab": {
          "base_uri": "https://localhost:8080/"
        },
        "id": "JRrWY6EgX-RW",
        "outputId": "db6b3799-8cb9-452a-eef5-9c2288cd82b0"
      },
      "execution_count": 10,
      "outputs": [
        {
          "output_type": "stream",
          "name": "stdout",
          "text": [
            "Original array:\n",
            "[[1 2 3]\n",
            " [4 5 6]\n",
            " [7 8 9]]\n",
            "Frobenius norm and the condition number:\n",
            "16.881943016134134\n",
            "inf\n"
          ]
        }
      ]
    }
  ],
  "metadata": {
    "colab": {
      "provenance": [],
      "authorship_tag": "ABX9TyN2BDKaK26taI4tTzjzWQUR",
      "include_colab_link": true
    },
    "kernelspec": {
      "display_name": "Python 3",
      "name": "python3"
    },
    "language_info": {
      "name": "python"
    }
  },
  "nbformat": 4,
  "nbformat_minor": 0
}